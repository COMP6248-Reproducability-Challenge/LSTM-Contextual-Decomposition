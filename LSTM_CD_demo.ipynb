{
  "nbformat": 4,
  "nbformat_minor": 0,
  "metadata": {
    "colab": {
      "name": "LSTM CD_demo.ipynb",
      "version": "0.3.2",
      "provenance": [],
      "collapsed_sections": []
    },
    "kernelspec": {
      "name": "python3",
      "display_name": "Python 3"
    },
    "accelerator": "GPU"
  },
  "cells": [
    {
      "cell_type": "code",
      "metadata": {
        "id": "KAWnjZZunGXK",
        "colab_type": "code",
        "colab": {}
      },
      "source": [
        ""
      ],
      "execution_count": 0,
      "outputs": []
    },
    {
      "cell_type": "code",
      "metadata": {
        "id": "Tlqz9QIb8-3p",
        "colab_type": "code",
        "colab": {}
      },
      "source": [
        "import numpy as np\n",
        "import sys\n",
        "from os.path import join as oj\n",
        "# sys.path.insert(1, oj(sys.path[0], 'train_model'))\n",
        "\n",
        "# from train_model import sent_util\n",
        "\n",
        "import torch\n",
        "from torchtext import data, datasets"
      ],
      "execution_count": 0,
      "outputs": []
    },
    {
      "cell_type": "code",
      "metadata": {
        "id": "RgPUvgpS9RsV",
        "colab_type": "code",
        "outputId": "7d24d0bb-02c0-4e0f-aab6-58ecb9f40c97",
        "colab": {
          "base_uri": "https://localhost:8080/",
          "height": 108
        }
      },
      "source": [
        "# set up fields\n",
        "TEXT = data.Field(lower=True, include_lengths=True, batch_first=True)\n",
        "LABEL = data.Field(sequential=False)\n",
        "\n",
        "# make splits for data\n",
        "train, dev, test = datasets.SST.splits(TEXT, LABEL)\n",
        "\n",
        "# # build the vocabulary\n",
        "# TEXT.build_vocab(train, vectors=GloVe(name='6B', dim=300))\n",
        "# LABEL.build_vocab(train)\n",
        "\n",
        "# make iterator for splits\n",
        "train_iter, test_iter = data.BucketIterator.splits(\n",
        "    (train, test), batch_size=3, device=0)"
      ],
      "execution_count": 2,
      "outputs": [
        {
          "output_type": "stream",
          "text": [
            "downloading trainDevTestTrees_PTB.zip\n"
          ],
          "name": "stdout"
        },
        {
          "output_type": "stream",
          "text": [
            "trainDevTestTrees_PTB.zip: 100%|██████████| 790k/790k [00:02<00:00, 333kB/s]\n"
          ],
          "name": "stderr"
        },
        {
          "output_type": "stream",
          "text": [
            "extracting\n"
          ],
          "name": "stdout"
        },
        {
          "output_type": "stream",
          "text": [
            "The `device` argument should be set by using `torch.device` or passing a string as an argument. This behavior will be deprecated soon and currently defaults to cpu.\n",
            "The `device` argument should be set by using `torch.device` or passing a string as an argument. This behavior will be deprecated soon and currently defaults to cpu.\n"
          ],
          "name": "stderr"
        }
      ]
    },
    {
      "cell_type": "code",
      "metadata": {
        "id": "EF8yKsetnmQR",
        "colab_type": "code",
        "outputId": "30d16c4d-82bd-4e2f-dbae-619df9906556",
        "colab": {
          "base_uri": "https://localhost:8080/",
          "height": 35
        }
      },
      "source": [
        "# for i in range(50):\n",
        "#   print(vars(test[i]))\n",
        "#   print(train[i].label)\n",
        "c_neu = 0\n",
        "c_neg = 0\n",
        "c_pos = 0\n",
        "for i in range(len(train)):\n",
        "  if train[i].label is 'neutral':\n",
        "    c_neu += 1\n",
        "  elif train[i].label is 'positive':\n",
        "    c_pos += 1\n",
        "  elif train[i].label is 'negative':\n",
        "    c_neg += 1\n",
        "  else:\n",
        "    print(\"error!\")\n",
        "print('pos: {}, neg: {}, neu:{}'.format(c_pos,c_neg,c_neu))"
      ],
      "execution_count": 3,
      "outputs": [
        {
          "output_type": "stream",
          "text": [
            "pos: 3610, neg: 3310, neu:1624\n"
          ],
          "name": "stdout"
        }
      ]
    },
    {
      "cell_type": "code",
      "metadata": {
        "id": "byB12dJoZ-zC",
        "colab_type": "code",
        "colab": {}
      },
      "source": [
        "#ignore warning during training\n",
        "# import warnings\n",
        "# warnings.simplefilter(\"ignore\", UserWarning)\n",
        "\n",
        "# load all needed library\n",
        "import numpy as np\n",
        "import os\n",
        "import pandas as pd\n",
        "import torch\n",
        "import torch.nn as nn\n",
        "from torch.autograd import Variable\n",
        "from torchtext import data, datasets\n",
        "import torch.nn.functional as F\n",
        "import torch.optim as O\n",
        "import matplotlib.pyplot as plt\n",
        "from scipy import stats, integrate\n",
        "import seaborn as sns\n",
        "import scipy as sp\n",
        "import time"
      ],
      "execution_count": 0,
      "outputs": []
    },
    {
      "cell_type": "code",
      "metadata": {
        "id": "CoI5XXExaIZC",
        "colab_type": "code",
        "colab": {}
      },
      "source": [
        "# get arguments praser\n",
        "def get_args():\n",
        "    EPOCHS = 6\n",
        "    USE_GPU = torch.cuda.is_available()\n",
        "    EMBEDDING_DIM = 300\n",
        "    HIDDEN_DIM = 128\n",
        "    BATCH_SIZE = 50\n",
        "\n",
        "    config = {\n",
        "        \"retrain\": False,\n",
        "        \"epochs\": EPOCHS,\n",
        "        \"batch_size\": BATCH_SIZE,\n",
        "        \"gpu\": \"cuda:0\",\n",
        "        \"d_embed\": EMBEDDING_DIM,\n",
        "        \"d_hidden\": HIDDEN_DIM,\n",
        "        'word_vectors': \"glove.6B.300d\",\n",
        "        \"vector_cache\": os.path.join(os.getcwd(), '.vector_cache/input_vectors.pt'),\n",
        "        \"save_path\": \"results\",\n",
        "        \"dev_every\": 1000,\n",
        "        \"save_every\": 1000,\n",
        "        \"log_every\": 1000\n",
        "    }\n",
        "\n",
        "    return config\n",
        "  \n",
        "# load sst dataset\n",
        "def load_sst(args):\n",
        "    # first create two fields for data, text and labels. Check https://github.com/pytorch/text#data for an example\n",
        "    text = data.Field()\n",
        "    labels = data.Field(sequential=False, unk_token=None)\n",
        "\n",
        "    # we first build our dataset with all subtrees to build our vocab\n",
        "    train, valid, test = datasets.SST.splits(\n",
        "        text, labels, train_subtrees=True, filter_pred=lambda ex: ex.label != 'neutral')\n",
        "\n",
        "    text.build_vocab(train, valid, test)\n",
        "    if args[\"word_vectors\"]:\n",
        "        if os.path.isfile(args[\"vector_cache\"]):\n",
        "            text.vocab.vectors = torch.load(args[\"vector_cache\"])\n",
        "        else:\n",
        "            text.vocab.load_vectors(args[\"word_vectors\"])\n",
        "            makedirs(os.path.dirname(args[\"vector_cache\"]))\n",
        "            torch.save(text.vocab.vectors, args[\"vector_cache\"])\n",
        "    labels.build_vocab(train)\n",
        "\n",
        "    # Next we build our datasets without all subtrees\n",
        "    if args[\"retrain\"]:\n",
        "        train, valid, test = datasets.SST.splits(text, labels, fine_grained=False, train_subtrees=False,\n",
        "                                                filter_pred=lambda ex: ex.label != 'neutral')\n",
        "\n",
        "    train_iter, valid_iter, test_iter = data.BucketIterator.splits(\n",
        "        (train, valid, test), batch_size=args[\"batch_size\"], device=args[\"gpu\"])\n",
        "\n",
        "    return text, labels, train_iter, valid_iter, train, valid\n",
        "  \n",
        "def makedirs(name):\n",
        "    \"\"\"helper function for python 2 and 3 to call os.makedirs()\n",
        "       avoiding an error if the directory to be created already exists\"\"\"\n",
        "\n",
        "    import os\n",
        "    import errno\n",
        "\n",
        "    try:\n",
        "        os.makedirs(name)\n",
        "    except OSError as ex:\n",
        "        if ex.errno == errno.EEXIST and os.path.isdir(name):\n",
        "            # ignore existing directory\n",
        "            pass\n",
        "        else:\n",
        "            # a different error happened\n",
        "            raise\n",
        "\n",
        "# training the model  \n",
        "def train_model(train_iter, valid_iter, valid_sst, inputs, outputs, args):\n",
        "    model = LSTMSentiment(args)\n",
        "    if args[\"word_vectors\"]:\n",
        "        model.embed.weight.data = inputs.vocab.vectors\n",
        "        model.cuda()\n",
        "    criterion = nn.CrossEntropyLoss()\n",
        "    opt = O.Adam(model.parameters())\n",
        "\n",
        "    iterations = 0\n",
        "    start = time.time()\n",
        "    best_dev_acc = -1\n",
        "    train_iter.repeat = False\n",
        "    all_break = False\n",
        "    header = '  Time Epoch Iteration Progress    (%Epoch)   Loss   Dev/Loss     Accuracy  Dev/Accuracy'\n",
        "    dev_log_template = ' '.join(\n",
        "        '{:>6.0f},{:>5.0f},{:>9.0f},{:>5.0f}/{:<5.0f} {:>7.0f}%,{:>8.6f},{:8.6f},{:12.4f},{:12.4f}'.split(','))\n",
        "    log_template = ' '.join(\n",
        "        '{:>6.0f},{:>5.0f},{:>9.0f},{:>5.0f}/{:<5.0f} {:>7.0f}%,{:>8.6f},{},{:12.4f},{}'.split(','))\n",
        "    makedirs(args[\"save_path\"])\n",
        "    print(header)\n",
        "\n",
        "    for epoch in range(args[\"epochs\"]):\n",
        "        if all_break:\n",
        "            break\n",
        "        train_iter.init_epoch()\n",
        "        n_correct, n_total = 0, 0\n",
        "        for i, batch in enumerate(train_iter):\n",
        "            model.train()\n",
        "            opt.zero_grad()\n",
        "            iterations += 1\n",
        "\n",
        "            # forward pass\n",
        "            answer = model(batch)\n",
        "\n",
        "            # calculate accuracy of predictions in the current batch\n",
        "            n_correct += (torch.max(answer, 1)\n",
        "                          [1].view(batch.label.size()).data == batch.label.data).sum()\n",
        "            n_total += batch.batch_size\n",
        "            train_acc = 100. * n_correct / n_total\n",
        "\n",
        "            loss = criterion(answer, batch.label)\n",
        "            loss.backward()\n",
        "            opt.step()\n",
        "\n",
        "            if iterations % args[\"dev_every\"] == 0:\n",
        "                model.eval()\n",
        "                valid_iter.init_epoch()\n",
        "                n_dev_correct, dev_loss = 0, 0\n",
        "                for dev_batch_idx, dev_batch in enumerate(valid_iter):\n",
        "                    answer = model(dev_batch)\n",
        "                    n_dev_correct += (torch.max(answer, 1)[1].view(\n",
        "                        dev_batch.label.size()).data == dev_batch.label.data).sum()\n",
        "                    dev_loss = criterion(answer, dev_batch.label)\n",
        "                dev_acc = 100. * n_dev_correct / len(valid_sst)\n",
        "\n",
        "                print(dev_log_template.format(time.time() - start,\n",
        "                                              epoch, iterations, 1 +\n",
        "                                              i, len(train_iter),\n",
        "                                              100. * (1 + i) / len(train_iter), loss.data.item(), dev_loss.data.item(), train_acc, dev_acc))\n",
        "\n",
        "                if dev_acc > best_dev_acc:\n",
        "                    best_dev_acc = dev_acc\n",
        "                    snapshot_prefix = os.path.join(\n",
        "                        args[\"save_path\"], 'best_snapshot')\n",
        "                    snapshot_path = snapshot_prefix + '.pt'\n",
        "\n",
        "                    # save model, delete previous 'best_snapshot' files\n",
        "                    torch.save(model.state_dict(), snapshot_path)\n",
        "\n",
        "\n",
        "            elif iterations % args[\"log_every\"] == 0:\n",
        "                # print progress message\n",
        "                print(log_template.format(time.time() - start,\n",
        "                                          epoch, iterations, 1 +\n",
        "                                          i, len(train_iter),\n",
        "                                          100. * (1 + i) / len(train_iter), loss.data[0], ' ' * 8, n_correct / n_total * 100, ' ' * 12))\n",
        "    return model\n",
        "  \n",
        "  \n",
        "def load_sst_logistic_reg(args):\n",
        "    # first create two fields for data, text and labels. Check https://github.com/pytorch/text#data for an example\n",
        "    text = data.Field()\n",
        "    labels = data.Field(sequential=False, unk_token=None)\n",
        "\n",
        "    # we first build our dataset with all subtrees to build our vocab\n",
        "    train_v, valid_v, test_v = datasets.SST.splits(\n",
        "        text, labels, train_subtrees=True, filter_pred=lambda ex: ex.label != 'neutral')\n",
        "\n",
        "    text.build_vocab(train_v, valid_v, test_v)\n",
        "    if args[\"word_vectors\"]:\n",
        "        if os.path.isfile(args[\"vector_cache\"]):\n",
        "            text.vocab.vectors = torch.load(args[\"vector_cache\"])\n",
        "        else:\n",
        "            text.vocab.load_vectors(args[\"word_vectors\"])\n",
        "            makedirs(os.path.dirname(args[\"vector_cache\"]))\n",
        "            torch.save(text.vocab.vectors, args[\"vector_cache\"])\n",
        "    labels.build_vocab(train_v)\n",
        "\n",
        "    # Next we build our datasets without all subtrees\n",
        "    train, valid, test = datasets.SST.splits(text, labels, fine_grained=False, train_subtrees=True,\n",
        "                                             filter_pred=lambda ex: ex.label != 'neutral')\n",
        "\n",
        "    return train, valid, test\n",
        "  \n",
        "  \n",
        "def logit_clf(inputs, outputs):\n",
        "    args = get_args()\n",
        "    args[\"n_embed\"] = len(inputs.vocab)\n",
        "    args[\"d_out\"] = len(outputs.vocab)\n",
        "\n",
        "    torch.cuda.set_device(-1)\n",
        "    train, valid, test = load_sst_logistic_reg(args)\n",
        "\n",
        "    vectorizer = CountVectorizer(tokenizer=lambda doc: doc, lowercase=False)\n",
        "\n",
        "    training_data = [text for text in train.text]\n",
        "    training_labels = [label for label in train.label]\n",
        "    validation_data = [text for text in valid.text]\n",
        "    validation_labels = [label for label in valid.label]\n",
        "    test_data = [text for text in test.text]\n",
        "    test_labels = [label for label in test.label]\n",
        "\n",
        "\n",
        "    bag_of_words = vectorizer.fit_transform(training_data)\n",
        "\n",
        "\n",
        "    clf = LogisticRegression(dual=True)\n",
        "    clf.fit(bag_of_words, training_labels)\n",
        "    predictions = clf.predict(vectorizer.transform(validation_data))\n",
        "\n",
        "    print(metrics.classification_report(validation_labels,\n",
        "                                        predictions, target_names=[\"positive\", \"negative\"]))\n",
        "    print(metrics.accuracy_score(validation_labels, predictions))\n",
        "\n",
        "\n",
        "    validation_vectorizer = CountVectorizer(\n",
        "        tokenizer=lambda doc: doc, lowercase=False)\n",
        "    validation_vectorizer.fit_transform(validation_data)\n",
        "    word_coef_lookup = {feature: coef for coef, feature in zip(\n",
        "        clf.coef_[0], vectorizer.get_feature_names())}\n",
        "    word_validation_coef_lookup = {\n",
        "        word: word_coef_lookup[word] for word in validation_vectorizer.vocabulary_ if word in word_coef_lookup}\n",
        "    return clf, vectorizer"
      ],
      "execution_count": 0,
      "outputs": []
    },
    {
      "cell_type": "code",
      "metadata": {
        "id": "oFt6vPCfd9rQ",
        "colab_type": "code",
        "colab": {}
      },
      "source": [
        "\n",
        "# initializing and training LSTM\n",
        "# reference from https://github.com/clairett/pytorch-sentiment-classification\n",
        "\n",
        "\n",
        "class LSTMSentiment(nn.Module):\n",
        "\n",
        "    # def __init__(self, args):\n",
        "    def __init__(self, args):\n",
        "        super(LSTMSentiment, self).__init__()\n",
        "        self.hidden_dim = args[\"d_hidden\"]\n",
        "        self.vocab_size = args[\"n_embed\"]\n",
        "        self.emb_dim = args[\"d_embed\"]\n",
        "        self.num_out = args[\"d_out\"]\n",
        "        self.batch_size = args[\"batch_size\"]\n",
        "        self.use_gpu = True  # config.use_gpu\n",
        "        self.num_labels = 2\n",
        "        self.embed = nn.Embedding(self.vocab_size, self.emb_dim)\n",
        "        self.lstm = nn.LSTM(input_size=self.emb_dim,\n",
        "                            hidden_size=self.hidden_dim)\n",
        "        self.hidden_to_label = nn.Linear(self.hidden_dim, self.num_labels)\n",
        "\n",
        "    def forward(self, batch):\n",
        "        if self.use_gpu:\n",
        "            self.hidden = (Variable(torch.zeros(1, batch.text.size()[1], self.hidden_dim).cuda()),\n",
        "                           Variable(torch.zeros(1, batch.text.size()[1], self.hidden_dim).cuda()))\n",
        "        else:\n",
        "            self.hidden = (Variable(torch.zeros(1, batch.text.size()[1], self.hidden_dim)),\n",
        "                           Variable(torch.zeros(1, batch.text.size()[1], self.hidden_dim)))\n",
        "\n",
        "        vecs = self.embed(batch.text)\n",
        "        lstm_out, self.hidden = self.lstm(vecs, self.hidden)\n",
        "        logits = self.hidden_to_label(lstm_out[-1])\n",
        "#         log_probs = F.log_softmax(logits)\n",
        "        #     return logits, log_probs\n",
        "        return logits"
      ],
      "execution_count": 0,
      "outputs": []
    },
    {
      "cell_type": "code",
      "metadata": {
        "id": "NbUgQJ0WfJ2i",
        "colab_type": "code",
        "colab": {}
      },
      "source": [
        "# CD \n",
        "from scipy.special import expit as sigmoid\n",
        "from numpy import *\n",
        "\n",
        "\n",
        "def Lsig3(y1, y2, y3):\n",
        "  y1_cont = 0.5 * (sigmoid(y1 + y3) - sigmoid(y3) +\n",
        "                   sigmoid(y1 + y2 + y3) - sigmoid(y2 + y3))\n",
        "  y2_cont = 0.5 * (sigmoid(y2 + y3) - sigmoid(y3) +\n",
        "                   sigmoid(y1 + y2 + y3) - sigmoid(y1 + y3))\n",
        "  y3_cont = sigmoid(y3)\n",
        "  return y1_cont, y2_cont, y3_cont\n",
        "\n",
        "\n",
        "def Ltanh3(y1, y2, y3):\n",
        "  y1_cont = 0.5 * (tanh(y1 + y3) - tanh(y3) +\n",
        "                   tanh(y1 + y2 + y3) - tanh(y2 + y3))\n",
        "  y2_cont = 0.5 * (tanh(y2 + y3) - tanh(y3) +\n",
        "                   tanh(y1 + y2 + y3) - tanh(y1 + y3))\n",
        "  y3_cont = tanh(y3)\n",
        "  return y1_cont, y2_cont, y3_cont\n",
        "\n",
        "\n",
        "def Ltanh2(y1, y2):\n",
        "  y1_cont = 0.5 * (tanh(y1) + tanh(y1 + y2) - tanh(y2))\n",
        "  y2_cont = 0.5 * (tanh(y2) + tanh(y2 + y1) - tanh(y1))\n",
        "  return y1_cont, y2_cont\n",
        "\n",
        "class CD:\n",
        "    def __init__(self, model, inputs, clf, data, vectorizer, valid_data):\n",
        "        self.model = model\n",
        "        self.inputs = inputs\n",
        "        self.data = data\n",
        "        self.valid_data = valid_data\n",
        "        self.vectorizer = vectorizer\n",
        "        # self.generate_data(data)\n",
        "        self.generate_dissenting(clf)\n",
        "        self.clf = clf\n",
        "\n",
        "    # def generate_data(self, data):\n",
        "        # valid_data = []\n",
        "        # print(\"generating data\")\n",
        "        # for d in data.items():\n",
        "        #     df = d[1].text\n",
        "        #     text = []\n",
        "        #     # this is every batch\n",
        "        #     for i in range(df.shape[1]):\n",
        "        #         text = []\n",
        "        #         for j in range(df[:, i].shape[0]):\n",
        "        #             if int(df[j, i]) != 1:\n",
        "        #                 text.append(self.inputs.vocab.itos[int(df[j, i])])\n",
        "        #         valid_data.append(text)\n",
        "        # self.valid_data = valid_data\n",
        "\n",
        "    #we want to return the CD score W*hc[T]\n",
        "    def context_decomp(self, batch, start, stop):\n",
        "\n",
        "        # these are the weights and bias learnt for the gates for each layer during LSTM\n",
        "        weights = self.model.lstm.state_dict()\n",
        "\n",
        "        # refer variable names to paper and http://pytorch.org/docs/master/nn.html\n",
        "        # split equally into 4 (150,300)\n",
        "        Wi, Wf, Wg, Wo = np.split(weights['weight_ih_l0'].cpu().numpy(), 4, 0)\n",
        "        Vi, Vf, Vg, Vo = np.split(weights['weight_hh_l0'].cpu().numpy(), 4, 0)\n",
        "        # split equally into 4 (150,)\n",
        "        bi, bf, bg, bo = np.split(weights['bias_ih_l0'].cpu(\n",
        "        ).numpy() + weights['bias_hh_l0'].cpu().numpy(), 4)\n",
        "\n",
        "        #word embedding model as specified in LSTMSentiment\n",
        "        word_embedding = self.model.embed(batch.text)[:, 0].data.cpu().numpy()\n",
        "        #T = number of time steps\n",
        "        T = word_embedding.shape[0]\n",
        "\n",
        "        #initialize beta, beta_c, gamma, gamma_c all to zeros\n",
        "        #contributions of given phrase / elements outside of given phrase made to cell state\n",
        "        Bc = np.zeros((T, self.model.hidden_dim))\n",
        "        Gc = np.zeros((T, self.model.hidden_dim))\n",
        "\n",
        "        #contributions of given phrase / elements outside of given phrase made to hidden state\n",
        "        B = np.zeros((T, self.model.hidden_dim))\n",
        "        G = np.zeros((T, self.model.hidden_dim))\n",
        "\n",
        "        #temp variables: prev_B = B_(t-1), prev_G = G_(t-1)\n",
        "        prev_B = np.zeros(self.model.hidden_dim)\n",
        "        prev_G = np.zeros(self.model.hidden_dim)\n",
        "\n",
        "        #assume we have a way of write each of the gates in eq 2 3 4 as linear sum of contributions from each of their inputs\n",
        "        #recursively compute the decomposition using linearizing activation functions: see section 3.2.1\n",
        "        for i in range(T):\n",
        "            if i != 0:\n",
        "                prev_B = B[i - 1]\n",
        "                prev_G = G[i - 1]\n",
        "\n",
        "            Bi = np.dot(Vi, prev_B)\n",
        "            Bg = np.dot(Vg, prev_B)\n",
        "            Bf = np.dot(Vf, prev_B)\n",
        "            Bo = np.dot(Vo, prev_B)\n",
        "            Gi = np.dot(Vi, prev_G)\n",
        "            Gg = np.dot(Vg, prev_G)\n",
        "            Gf = np.dot(Vf, prev_G)\n",
        "            Go = np.dot(Vo, prev_G)\n",
        "\n",
        "            #if the current time step is contained within the phrase, get what was let through\n",
        "            if i >= start and i <= stop:\n",
        "                Bi = Bi + np.dot(Wi, word_embedding[i])\n",
        "                Bg = Bg + np.dot(Wg, word_embedding[i])\n",
        "                Bf = Bf + np.dot(Wf, word_embedding[i])\n",
        "                Bo = Bo + np.dot(Wo, word_embedding[i])\n",
        "\n",
        "            #if the current time step is NOT contained in the phrase, get what was let though\n",
        "            else:\n",
        "                Gi += np.dot(Wi, word_embedding[i])\n",
        "                Gg += np.dot(Wg, word_embedding[i])\n",
        "                Gf += np.dot(Wf, word_embedding[i])\n",
        "                Go += np.dot(Wo, word_embedding[i])\n",
        "\n",
        "            Bi_cont, Gi_cont, bi_cont = Lsig3(Bi, Gi, bi)\n",
        "            Bg_cont, Gg_cont, bg_cont = Ltanh3(Bg, Gg, bg)\n",
        "\n",
        "            Bc[i] = Bi_cont * (Bg_cont + bg_cont) + bi_cont * Bg_cont\n",
        "            Gc[i] = Gi_cont * (Bg_cont + Gg_cont + bg_cont) + \\\n",
        "                (Bi_cont + bi_cont) * Gg_cont\n",
        "\n",
        "            #if the current time step is contained within the phrase\n",
        "            if i >= start and i < stop:\n",
        "                Bc[i] += bi_cont * bg_cont\n",
        "\n",
        "            #if the current time step is NOT contained in the phrase\n",
        "            else:\n",
        "                Gc[i] += bi_cont * bg_cont\n",
        "\n",
        "            if i != 0:\n",
        "                Bf_cont, Gf_cont, bf_cont = Lsig3(Bf, Gf, bf)\n",
        "                Bc[i] += (Bf_cont + bf_cont) * Bc[i - 1]\n",
        "                Gc[i] += (Bf_cont + Gf_cont + bf_cont) * \\\n",
        "                    Gc[i - 1] + Gf_cont * Bc[i - 1]\n",
        "\n",
        "            o = sigmoid(\n",
        "                np.dot(Wo, word_embedding[i]) + np.dot(Vo, prev_B + prev_G) + bo)\n",
        "\n",
        "            Bo_cont, Go_cont, bo_cont = Lsig3(Bo, Go, bo)\n",
        "            new_Bh, new_Gh = Ltanh2(Bc[i], Gc[i])\n",
        "\n",
        "            B[i] = o * new_Bh\n",
        "            G[i] = o * new_Gh\n",
        "\n",
        "        scores = np.dot(self.model.hidden_to_label.weight.data.cpu().numpy(), B[T - 1])\n",
        "        return scores[0] - scores[1]\n",
        "\n",
        "    def grab_phrase(self, num):\n",
        "        text = []\n",
        "        for i in self.data[num].text:\n",
        "            text.append(self.inputs.vocab.itos[int(i)])\n",
        "        return text\n",
        "\n",
        "    def CD_word(self, num):\n",
        "        res = []\n",
        "        text = self.grab_phrase(num)\n",
        "        for i, word in enumerate(text):\n",
        "            rel_calc = self.context_decomp(self.data[num], i, i)\n",
        "            print(rel_calc, word)\n",
        "            res.append((rel_calc, word))\n",
        "        return res\n",
        "\n",
        "    def generate_dissenting(self, clf):\n",
        "        print(\"generating dissenting subphrases\")\n",
        "        self.dissenting = [i for i, val in enumerate(clf.decision_function(\n",
        "            self.vectorizer.transform(self.valid_data))) if abs(val) < 1.5]\n",
        "\n",
        "    def splits_and_CD(self, idx):\n",
        "        text = self.grab_phrase(idx)\n",
        "        commas = [i for i, v in enumerate(text) if v == \",\"] + [len(text)]\n",
        "        splits = [(0, commas[0] - 1)]\n",
        "        for i in range(len(commas) - 1):\n",
        "            splits.append((commas[i] + 1, commas[i + 1] - 1))\n",
        "        return splits\n",
        "\n",
        "    def CD_phrase(self, num):\n",
        "        splits = self.splits_and_CD(num)\n",
        "        text = self.grab_phrase(num)\n",
        "        res = []\n",
        "        for (i, j) in splits:\n",
        "            rel_calc = self.context_decomp(self.data[num], i, j)\n",
        "            phrase = \" \".join(text[i:j + 1])\n",
        "            print(rel_calc, phrase)\n",
        "            res.append((rel_calc, phrase))\n",
        "        return res\n",
        "\n",
        "    def generate_score_tuple(self, batch, text, start, end):\n",
        "        return (\" \".join(text[start:end]), self.context_decomp(batch, start, end - 1))\n",
        "\n",
        "    # CD_subphrases takes in the index and start/end of dissenting subphrase within the sentence\n",
        "    # returns an array of CD score before, of the phrase itself, and after\n",
        "    def CD_diss_subphrases(self, batch, start, end):\n",
        "        text = []\n",
        "        for i in batch.text:\n",
        "            text.append(self.inputs.vocab.itos[int(i)])\n",
        "        res_text = [\n",
        "            self.generate_score_tuple(batch, text, 0, start),\n",
        "            self.generate_score_tuple(batch, text, start, end + 1),\n",
        "            self.generate_score_tuple(batch, text, end + 1, len(text))\n",
        "        ]\n",
        "        return res_text\n",
        "\n",
        "    def CD_negating_subphrases(self, batch, first_start, first_end, second_start, second_end):\n",
        "        text = []\n",
        "        for i in batch.text:\n",
        "            text.append(self.inputs.vocab.itos[int(i)])\n",
        "        res_text = {\n",
        "            \"negation_phrase\": self.generate_score_tuple(batch, text, first_start, second_end + 1),\n",
        "            \"negation_term\": self.generate_score_tuple(batch, text, first_start, first_end),\n",
        "            \"negated_phrase\": self.generate_score_tuple(batch, text, second_start, second_end + 1),\n",
        "            \"overall\": self.generate_score_tuple(batch, text, 0, len(text))\n",
        "        }\n",
        "        return res_text\n",
        "\n",
        "\n",
        "\n",
        "def get_batches(batch_nums, train_iterator, dev_iterator, dset='train'):\n",
        "    print('getting batches...')\n",
        "    data_iterator = train_iterator\n",
        "    # pick data_iterator\n",
        "    if dset == 'train':\n",
        "        data_iterator = train_iterator\n",
        "    elif dset == 'valid':\n",
        "        data_iterator = dev_iterator\n",
        "    \n",
        "    # actually get batches\n",
        "    num = 0\n",
        "    batches = {}\n",
        "    data_iterator.init_epoch()\n",
        "    for batch_idx, batch in enumerate(data_iterator):\n",
        "        if batch_idx == batch_nums[num]:\n",
        "            batches[batch_idx] = batch\n",
        "            num += 1\n",
        "\n",
        "        if num == max(batch_nums):\n",
        "            break\n",
        "        elif num == len(batch_nums):\n",
        "            print('found them all')\n",
        "            break\n",
        "    return batches"
      ],
      "execution_count": 0,
      "outputs": []
    },
    {
      "cell_type": "code",
      "metadata": {
        "id": "UM9nIH-ibgL8",
        "colab_type": "code",
        "outputId": "b7b84d4d-557b-4918-8e69-22dae52bb54a",
        "colab": {
          "base_uri": "https://localhost:8080/",
          "height": 54
        }
      },
      "source": [
        "args = get_args()\n",
        "torch.cuda.set_device(0)\n",
        "inputs, outputs, train_iter, valid_iter, train_sst, valid_sst = load_sst(args)\n",
        "args[\"n_embed\"] = len(inputs.vocab) + 2\n",
        "args[\"d_out\"] = len(outputs.vocab)\n",
        "\n",
        "print(args[\"n_embed\"], args[\"d_out\"])"
      ],
      "execution_count": 8,
      "outputs": [
        {
          "output_type": "stream",
          "text": [
            ".vector_cache/glove.6B.zip: 862MB [06:56, 2.07MB/s]                          \n",
            "100%|█████████▉| 399504/400000 [00:42<00:00, 8923.36it/s]"
          ],
          "name": "stderr"
        },
        {
          "output_type": "stream",
          "text": [
            "20856 2\n"
          ],
          "name": "stdout"
        }
      ]
    },
    {
      "cell_type": "code",
      "metadata": {
        "id": "rE4LX2VRboG7",
        "colab_type": "code",
        "outputId": "8d094d3a-098e-4b09-aedd-db530f956e3a",
        "colab": {
          "base_uri": "https://localhost:8080/",
          "height": 54
        }
      },
      "source": [
        "# We have included our pretrained model in the results folder.\n",
        "# If you want to train your own model, delete or rename the file and run this cell again.\n",
        "\n",
        "model = LSTMSentiment(args)\n",
        "if os.path.isfile(\"best_snapshot.pt\"):\n",
        "    print(\"Loading best snapshot\")\n",
        "    model.cuda()\n",
        "    model.load_state_dict(torch.load(\"best_snapshot.pt\"))\n",
        "else:\n",
        "    model = train_model(train_iter, valid_iter, valid_sst, inputs, outputs, args)\n",
        "\n",
        "# print(\"Loading best snapshot\")\n",
        "# model.cuda()\n",
        "# model.load_state_dict(torch.load(\"best_snapshot.pt\"))"
      ],
      "execution_count": 9,
      "outputs": [
        {
          "output_type": "stream",
          "text": [
            "Loading best snapshot\n"
          ],
          "name": "stdout"
        },
        {
          "output_type": "execute_result",
          "data": {
            "text/plain": [
              "IncompatibleKeys(missing_keys=[], unexpected_keys=[])"
            ]
          },
          "metadata": {
            "tags": []
          },
          "execution_count": 9
        }
      ]
    },
    {
      "cell_type": "code",
      "metadata": {
        "id": "eVwX_gVrexM7",
        "colab_type": "code",
        "colab": {
          "base_uri": "https://localhost:8080/",
          "height": 35
        },
        "outputId": "f99d9659-1d54-40e5-dbca-2f28fa6138f4"
      },
      "source": [
        "train, valid, test = load_sst_logistic_reg(args)"
      ],
      "execution_count": 10,
      "outputs": [
        {
          "output_type": "stream",
          "text": [
            "\r100%|█████████▉| 399504/400000 [01:00<00:00, 8923.36it/s]"
          ],
          "name": "stderr"
        }
      ]
    },
    {
      "cell_type": "code",
      "metadata": {
        "id": "5iU3ALvxcfzZ",
        "colab_type": "code",
        "outputId": "c74a3e1b-df4a-41ba-a76c-0afe57dc5a49",
        "colab": {
          "base_uri": "https://localhost:8080/",
          "height": 292
        }
      },
      "source": [
        "from sklearn.feature_extraction.text import CountVectorizer\n",
        "from sklearn.linear_model import LogisticRegression\n",
        "from sklearn import metrics\n",
        "from sklearn.metrics import mean_absolute_error\n",
        "\n",
        "# Convert a collection of text documents to a matrix of token counts\n",
        "# https://scikit-learn.org/stable/modules/generated/sklearn.feature_extraction.text.CountVectorizer.html\n",
        "\n",
        "vectorizer = CountVectorizer(tokenizer= lambda doc:doc, lowercase=False)\n",
        "\n",
        "training_data = [text for text in train.text]\n",
        "training_labels = [label for label in train.label]\n",
        "validation_data = [text for text in valid.text]\n",
        "validation_labels = [label for label in valid.label]\n",
        "test_data = [text for text in test.text]\n",
        "test_labels = [label for label in test.label]\n",
        "\n",
        "\n",
        "bag_of_words = vectorizer.fit_transform(training_data)\n",
        "\n",
        "\n",
        "clf = LogisticRegression(dual=True)\n",
        "clf.fit(bag_of_words, training_labels)\n",
        "\n",
        "# Transform documents to document-term matrix.\n",
        "predictions = clf.predict(vectorizer.transform(validation_data))\n",
        "\n",
        "print(metrics.classification_report(validation_labels, predictions,target_names=[\"positive\",\"negative\"]))\n",
        "print(metrics.accuracy_score(validation_labels, predictions))"
      ],
      "execution_count": 11,
      "outputs": [
        {
          "output_type": "stream",
          "text": [
            "/usr/local/lib/python3.6/dist-packages/sklearn/linear_model/logistic.py:433: FutureWarning: Default solver will be changed to 'lbfgs' in 0.22. Specify a solver to silence this warning.\n",
            "  FutureWarning)\n"
          ],
          "name": "stderr"
        },
        {
          "output_type": "stream",
          "text": [
            "              precision    recall  f1-score   support\n",
            "\n",
            "    positive       0.82      0.80      0.81       428\n",
            "    negative       0.81      0.83      0.82       444\n",
            "\n",
            "   micro avg       0.82      0.82      0.82       872\n",
            "   macro avg       0.82      0.82      0.82       872\n",
            "weighted avg       0.82      0.82      0.82       872\n",
            "\n",
            "0.8176605504587156\n"
          ],
          "name": "stdout"
        },
        {
          "output_type": "stream",
          "text": [
            "/usr/local/lib/python3.6/dist-packages/sklearn/svm/base.py:931: ConvergenceWarning: Liblinear failed to converge, increase the number of iterations.\n",
            "  \"the number of iterations.\", ConvergenceWarning)\n"
          ],
          "name": "stderr"
        }
      ]
    },
    {
      "cell_type": "code",
      "metadata": {
        "id": "sDlyi5LmdFjz",
        "colab_type": "code",
        "colab": {}
      },
      "source": [
        "validation_vectorizer = CountVectorizer(tokenizer = lambda doc:doc, lowercase=False)\n",
        "validation_vectorizer.fit_transform(validation_data)\n",
        "word_coef_lookup = {feature: coef for coef, feature in zip(clf.coef_[0], vectorizer.get_feature_names())}\n",
        "word_validation_coef_lookup = {word:word_coef_lookup[word] for word in validation_vectorizer.vocabulary_ if word in word_coef_lookup}"
      ],
      "execution_count": 0,
      "outputs": []
    },
    {
      "cell_type": "code",
      "metadata": {
        "id": "WrvEdCoEdGDz",
        "colab_type": "code",
        "colab": {}
      },
      "source": [
        "args[\"batch_size\"] = 1\n",
        "args[\"retrain\"] = True\n",
        "inputs, outputs, train_iter, valid_iter, train_sst, valid_sst = load_sst(args)"
      ],
      "execution_count": 0,
      "outputs": []
    },
    {
      "cell_type": "code",
      "metadata": {
        "id": "GvXbA38HdXsc",
        "colab_type": "code",
        "outputId": "3a8b524c-4b34-410f-863e-3d6445037fc4",
        "colab": {
          "base_uri": "https://localhost:8080/",
          "height": 54
        }
      },
      "source": [
        "\n",
        "batch_nums = list(range(len(train_iter)))\n",
        "data = get_batches(batch_nums, train_iter, valid_iter, dset='train') \n",
        "cd = CD(model, inputs, clf, data, vectorizer, list(train_sst.text))"
      ],
      "execution_count": 14,
      "outputs": [
        {
          "output_type": "stream",
          "text": [
            "getting batches...\n",
            "generating dissenting subphrases\n"
          ],
          "name": "stdout"
        }
      ]
    },
    {
      "cell_type": "code",
      "metadata": {
        "id": "pEHrSXujdZrT",
        "colab_type": "code",
        "outputId": "797eba83-797c-4d20-b0f3-93356757ed9d",
        "colab": {
          "base_uri": "https://localhost:8080/",
          "height": 545
        }
      },
      "source": [
        "\n",
        "\n",
        "good_ones = [60, 15, 16]\n",
        "num = 3\n",
        "print(\"Review level CD scores\")\n",
        "res_review = cd.CD_phrase(cd.dissenting[num])\n",
        "print(\"Word level CD scores\")\n",
        "res_by_word = cd.CD_word(cd.dissenting[num])"
      ],
      "execution_count": 15,
      "outputs": [
        {
          "output_type": "stream",
          "text": [
            "Review level CD scores\n",
            "-3.249974580969187 They kept much of the plot but jettisoned the stuff that would make this a moving experience for people who have n't read the book .\n",
            "Word level CD scores\n",
            "0.5370829804936532 They\n",
            "-1.4085487087384292 kept\n",
            "-0.09488223473561969 much\n",
            "0.038557704579233076 of\n",
            "-0.3398664904658602 the\n",
            "-1.1521347096286612 plot\n",
            "-0.5402037066320976 but\n",
            "-0.4812590660664477 jettisoned\n",
            "-0.33628420451388696 the\n",
            "0.35275202972340736 stuff\n",
            "-0.6921886390201286 that\n",
            "-1.2189866888875058 would\n",
            "-0.42063194662415526 make\n",
            "-0.5612327263409091 this\n",
            "0.3861473971411842 a\n",
            "1.6000257679396823 moving\n",
            "1.0697201080717256 experience\n",
            "0.046259526500152914 for\n",
            "0.02128430013459785 people\n",
            "0.3897789806159863 who\n",
            "-0.6887023102298286 have\n",
            "-1.4748916387648927 n't\n",
            "0.974383720453589 read\n",
            "-0.1825364593969719 the\n",
            "-0.2294518329338558 book\n",
            "-0.2257859634342722 .\n"
          ],
          "name": "stdout"
        }
      ]
    },
    {
      "cell_type": "code",
      "metadata": {
        "id": "E-wVzshHdckS",
        "colab_type": "code",
        "colab": {}
      },
      "source": [
        "#unigram word score\n",
        "# compute cd score for each word for the first time it occurs \n",
        "words = {}\n",
        "if os.path.isfile(\"CD_SCORE_individual.csv\"):\n",
        "    df = pd.read_csv(\"CD_SCORE_individual.csv\", index_col=0)\n",
        "    words = {row[\"word\"]:row[\"score\"] for index, row in df.iterrows()} \n",
        "else:\n",
        "    #Array of phrases\n",
        "    for ind in range(len(data)):\n",
        "        if ind%50 ==0:\n",
        "            print(\"ind\", ind)\n",
        "        text = data[ind].text.data[:, 0]\n",
        "        vect2Word = [inputs.vocab.itos[i] for i in text]\n",
        "    #     print (vect2Word)\n",
        "        for i in range(len(vect2Word)):\n",
        "            if(vect2Word[i] not in words):\n",
        "                words[vect2Word[i]] = cd.context_decomp(data[ind], i, i)\n",
        "    df = pd.DataFrame(list(words.items()), columns=[\"word\", \"score\"])\n",
        "    df.to_csv(\"CD_SCORE_individual.csv\")"
      ],
      "execution_count": 0,
      "outputs": []
    },
    {
      "cell_type": "code",
      "metadata": {
        "id": "AYsKIR94bpbQ",
        "colab_type": "code",
        "outputId": "cff2082c-0e9f-41ac-d8e2-dd8552d7b121",
        "colab": {
          "base_uri": "https://localhost:8080/",
          "height": 55
        }
      },
      "source": [
        "type(word_validation_coef_lookup)\n",
        "print(word_validation_coef_lookup.items())"
      ],
      "execution_count": 17,
      "outputs": [
        {
          "output_type": "stream",
          "text": [
            "dict_items([('It', -0.1684991139300941), (\"'s\", -0.12111714573089283), ('a', -0.05078870881630856), ('lovely', 2.3379199081401003), ('film', 0.4513507876935835), ('with', 0.3093705853448747), ('performances', 0.9748262936606926), ('by', -0.4270925094699829), ('Buy', 0.09594370723707525), ('and', 0.2034521850464885), ('.', -0.11300988951306404), ('And', -0.1598237430241316), ('if', 0.4813507027019175), ('you', 0.9290808068641849), (\"'re\", -0.3996004336753524), ('not', -2.497364593953085), ('nearly', -0.04815509054915441), ('moved', 2.901170669913698), ('to', -0.2353137272989853), ('tears', 0.3492295755437787), ('couple', 0.9854814524271736), ('of', -0.1861826863728304), ('scenes', 0.12726364327580167), (',', 0.10044594251059727), (\"'ve\", -0.43816891446782746), ('got', 0.7557366191814986), ('ice', -0.5953547005154657), ('water', -0.7933141208755973), ('in', -0.20948721291228334), ('your', -0.2745908196379737), ('veins', 0.19223512990061115), ('A', 0.13363077222063044), ('warm', 1.6871435417585607), ('funny', 2.1419145742388506), ('engaging', 2.311736503012783), ('sharp', 2.1472051625502617), ('humor', 1.6081204404574054), ('insight', -0.6672541463756951), ('into', -0.1504103022466597), ('human', 1.279724227676142), ('nature', 0.4738392097489228), ('examine', 0.11448231548857238), ('class', 1.016115291694388), ('conflict', -0.7032205575548389), ('adolescent', 0.09820751150031637), ('yearning', -0.4373134929686717), ('the', -0.034897445445015045), ('roots', 0.5062309318643505), ('friendship', 1.46968882961242), ('sexual', 0.8389001969148765), ('identity', -0.5954858716175748), ('Entertains', 0.15104024664467014), ('providing', 0.23680873826783905), ('good', 2.353181299602194), ('lively', 1.242252973081376), ('company', 0.32997642473733096), ('its', -0.08851257828071149), ('characters', 0.009847831600444931), ('determined', 0.7887679090252582), ('-LRB-', -3.021636154922859), ('which', -0.2502779072794521), ('always', 0.7176249387541466), ('story', 0.15733058166929487), ('-RRB-', 2.588864091755932), ('Johnny', 0.27593807199508463), ('best', 2.409130529492921), ('soundtrack', 0.7637667866920359), ('years', 0.46948000370944515), ('Visually', 1.4094511839141715), ('imaginative', 2.0793776133197306), ('thematically', 0.6221577926396689), ('instructive', 0.9414732814441751), ('thoroughly', -0.10047773820987885), ('delightful', 2.363695313420151), ('it', 0.17288588781735922), ('takes', 0.138783345212205), ('us', 1.223609807824403), ('on', -0.1815240197332464), ('roller-coaster', 0.25148925101856917), ('ride', 1.4408805766221746), ('from', -0.17233826512668876), ('innocence', 1.1314960105491), ('experience', 0.11903413187959339), ('without', -0.1835302411160743), ('even', -0.17718284823433889), ('hint', 0.9854725052782878), ('that', 0.03798498411834332), ('typical', -1.878598400242375), ('sentimentality', -0.4291603626182133), ('Nothing', -0.9727982075826208), ('at', -0.057607221876187054), ('stake', -0.21178688511278346), ('just', -0.4490767598664266), ('twisty', 0.2418315171109224), ('double-cross', 0.2661383698742459), ('can', -0.053732022361356206), ('smell', -0.15141323399689613), ('mile', -2.7054347577014917), ('away', -0.12345714009713511), ('--', -0.07414932994847478), ('still', 0.6366718933897274), ('derivative', 0.5619238713660967), ('Nine', 0.05625212458336845), ('Queens', 0.5155173311920972), ('is', -0.027916253734479313), ('lots', 0.1994116616495375), ('fun', 2.5469688295582364), ('Unlike', -0.4074251721658395), ('speedy', -0.7258678197636692), ('effect', -0.7177455304123666), ('most', 0.022109053814569655), ('Hollywood', -0.15659357524437797), ('offerings', 0.3338977094482799), ('character', 0.22959072858977136), ('development', 0.01852712346004179), ('more', -0.19029598674429263), ('importantly', 0.6535523202555826), ('empathy', 0.7783750513887633), ('heart', 2.24357032085743), ('Italian', -0.2622839959099967), ('for', -0.15651255593641938), ('Beginners', -0.14231816111834555), ('You', 0.4645141339138908), (\"'ll\", 0.18933470227804314), ('gasp', 0.47770934578873675), ('laugh', 1.9806616486685946), ('possibly', -0.15715685876872437), ('watching', -0.5761418486239347), ('spectacle', 1.2558172085617711), ('promising', 0.8391598760048333), ('young', 0.21292267803137954), ('lad', 0.7186983268424599), ('treading', -0.13631873866959343), ('desperately', -2.3068356336975477), ('nasty', -1.9354548416891282), ('sea', 0.757834868654392), ('an', 0.14328690397224245), ('tear', 1.4023254806634724), ('The', -0.0917781750922433), ('band', 0.9894562749257588), ('courage', 1.883058471921068), ('face', 0.6245690389069757), ('inspiring', 1.6716693602835866), ('especially', -0.0665437192495134), ('aging', -0.46594834024877124), ('this', -0.1374735982612266), ('one', 0.2597342856921001), ('included', 0.2962769808334355), ('Although', 0.4339117147594882), ('German', -0.9534680421107506), ('does', 0.08364276182906144), ('come', -0.07649055291726896), ('readily', -0.08620048705141665), ('mind', 0.26653207167908455), ('when', -0.15560681277104493), ('considering', -0.7024627044523484), ('world', 1.461215354446662), ('cuisine', 0.29228564225564985), ('Mostly', 0.3411500891744359), ('Martha', 0.06821462648138107), ('could', -0.465524638849406), ('make', 0.23831412332201504), ('popular', 1.716045647890187), ('destination', -0.4696600604404209), ('hungry', 0.008340631621777932), ('tourists', -0.5084653608273557), ('beguiling', 0.9079960887092975), ('splash', 1.3451517794016599), ('pastel', 0.7245765061010169), ('colors', -0.32857099173806653), ('comedy', 1.3037579639871835), ('Disney', 1.355491680466352), ('As', -0.3829434372650545), ('surreal', 1.1247393121448066), ('as', -0.41358800515650546), ('dream', 1.4582555053500843), ('detailed', 1.9378672570985376), ('visually', 1.0927074815941817), ('times', 0.013239063042650965), ('imaginatively', 1.4193304303294503), ('overwhelming', -0.6198564221590765), ('Lawrence', -0.759027765845114), ('bounces', -0.03357060331045149), ('all', -0.1990372610283859), ('over', -0.6684140936041103), ('stage', -0.8032347740492566), ('dancing', 0.9634103488250713), ('running', -1.0793602115238727), ('sweating', -0.3645874147832192), ('mopping', -0.8245503457259744), ('his', -0.20616108090083188), ('generally', 0.24285136481197378), ('wacky', 0.6633730584642109), ('talent', 1.0471283532009104), ('brought', 0.41010689900714153), ('him', -0.39518228500948055), ('fame', -0.2124964142138692), ('first', 0.07982557696130489), ('place', 0.1645421873703311), ('What', 0.6425905426306231), ('surprising', 1.0651413074062848), ('about', 0.036729674433778926), ('Full', 0.8934262858165803), ('Frontal', -0.8593496736768367), ('despite', 0.11355239957188137), ('self-awareness', 0.8815084869814996), ('parts', -0.14119031569935503), ('movie', -0.15276445682010092), ('manage', 1.0383202587773135), ('break', 0.04836852568146525), ('past', -0.7028323143118369), ('artifice', -0.7415109948984889), ('engage', 0.5343543516251263), ('Whether', -0.08256299808984752), ('like', -0.23796352044592445), ('rap', 0.5622727551297885), ('music', 0.4146025922254558), ('or', -0.9615116730870745), ('loathe', -0.7335792910961413), ('ca', 1.3869575776036802), (\"n't\", -2.697728098959478), ('deny', 0.03661228247672045), ('either', 0.029258647290152505), ('tragic', -0.5563234158049627), ('loss', -1.8754219199650588), ('two', -0.07411534811831405), ('men', -0.5057833108994538), ('prime', 0.3691612534726341), ('their', 0.12950948504570517), ('power', 1.9637656560094383), ('...', -0.17475339787506672), ('otherwise', 0.14500897485865044), ('intense', 1.7589804061536456), ('thriller', 1.3746338756471717), ('certainly', 2.0282073467254484), ('should', -0.44188892057292617), ('hurt', -0.9244552572889113), ('talented', 1.393163477546693), ('Gaghan', -0.09510478969846892), ('resume', -0.09270672021792337), ('provides', 1.917610296205592), ('grand', 1.3448388862325051), ('intelligent', 2.061355341580535), ('entertainment', 1.156409725182197), ('superior', 1.767495558816169), ('cast', 0.3855471728492664), ('playing', -0.9445654403891711), ('smart', 2.1466705027070185), ('people', 0.2433874462787163), ('amid', -0.5768462812328157), ('compelling', 2.1498926331176222), ('plot', -0.8920928700120105), ('There', 0.15921118830184772), ('tremendous', 1.7535599846396155), ('energy', 1.3086511785372297), ('sense', -0.029342504687462138), ('playfulness', 1.1814319426748434), ('excitement', 1.2609253285783064), ('seems', -0.7228974184710062), ('appropriate', 1.284685052779079), ('moves', 0.05572323346153637), ('quickly', -1.2763237419481066), ('fuss', 0.19163808935306306), (';', 0.20229656061885254), ('give', 0.8318684405478133), ('time', 0.16037178635221783), ('reflect', 1.0608016936534805), ('Cold', -1.3149461224295917), ('War', -1.1002911655405418), ('premise', -0.7017860206448332), ('deep', 0.6555985021754629), ('meaningful', 1.6758128095414269), ('welcome', 1.632461863215172), ('some', -0.05695951111235704), ('unbelievably', -0.746252770087078), ('hilarious', 3.4170012149584164), ('moments', 0.6492983273455726), ('portraying', -0.19525832786186986), ('idiocy', -1.5264326421724852), ('industry', 0.1851665714282003), ('mostly', -0.47404904376523127), ('worth', 1.9174485994265307), ('trip', 0.31483358534672595), ('remarkably', 1.2842234972913944), ('solid', 2.9742239690937997), ('subtly', 0.8665554214108175), ('satirical', -0.0851339566216313), ('tour', 0.565451694166685), ('de', 0.32120945580015803), ('force', 1.1152843467651472), ('Enormously', 0.028851491377331694), ('entertaining', 2.483001908604885), ('moviegoers', -0.008060285463795957), ('any', -0.576313631302213), ('age', -0.12430311665572182), ('poignant', 1.553413116291123), ('artfully', 0.8467861214772573), ('crafted', 1.8091891203025727), ('meditation', 1.2912548511861146), ('mortality', 0.10031467568919836), ('rarity', 1.740603530952689), ('among', 0.5170080006880767), ('recent', 1.3260316637121115), ('Iranian', 1.1566017749306106), ('films', 0.29699119112571865), (':', 0.09078573570385798), ('full', 1.2599851076418647), ('gentle', 2.1826704617076707), ('absurdity', -1.917620993087165), ('protagonist', -0.6266059249983231), ('plight', -0.6368865850597257), ('Not', -1.4414334909469528), ('only', -1.1588223245205604), ('Undercover', -0.24091296789228667), ('Brother', -0.21924457274968095), ('so', -0.2884375860542528), ('than', -0.4402131726665426), ('both', 0.1987426895147216), ('Austin', -0.10870884737752182), ('Powers', 0.3481344507038733), ('but', 0.07640479148954045), ('also', 0.39177505440884064), ('smarter', 2.1571770462669115), ('spoofs', 0.5307813481672499), ('along', -0.5559868235434927), ('In', -0.18868915944199138), ('way', 0.5258471826505015), ('feels', -1.280736467952687), ('breath', 1.500177207370507), ('fresh', 1.6379598831306426), ('air', -0.6061111629666494), ('those', 0.47417668733590135), ('allow', 0.056124896362989236), ('Woody', -0.7376450018106588), ('Allen', 0.5628338311607213), ('latest', -0.16313119700731926), ('broad', -0.7522995146617477), ('there', 0.0789658613922983), ('love', 2.500429490130112), ('hate', -1.8435106822371787), ('biz', -0.3922887466160774), ('stunning', 2.187014884581368), ('lyrical', 1.037674017029387), ('work', 0.587029498645468), ('considerable', 1.7204662752765192), ('truth', 0.9483048900122777), ('directed', 0.08567310389994999), ('version', -0.3394802161541579), ('Elling', -0.5588740626059449), ('gets', -0.044911996317724266), ('fine', 2.0253848786282753), ('leads', -0.26288408120430934), ('who', 0.009843656440312718), ('coda', -0.4559821763509306), ('every', -0.24025935299622622), ('Pinochet', -1.1123726180551532), ('Case', 0.26984157659684094), ('between', -0.41613812801244465), ('account', 0.1335692578787086), ('British', 0.05662008747747378), ('court', -0.014086550210111966), ('game', 0.1660637302271405), ('survivors', 0.5944469282052696), ('Like', 1.085080435394079), ('Mike', -0.5864702506436819), ('winner', 1.405678340453567), ('kids', 1.1876906825053908), ('no', -2.8528976780853608), ('doubt', 0.9190233287174664), ('Lil', -0.5976209657003834), ('Bow', -0.5363052714233156), ('Wow', 1.2860446474173863), ('now', 0.25244993628159695), ('add', 0.5929391086029134), ('movies', 0.5520664219799432), ('list', -1.0068407568503341), ('things', -0.21493783190514837), ('he', -0.35749818831471514), ('well', 1.782587650064339), ('T', -0.7367194965734558), ('Belgian', -0.7824344505682272), ('fable', -0.6057777163591694), ('very', -0.2931471790869161), ('much', -0.39728665003370667), ('own', -0.05681606187429186), ('droll', -1.3835856274698655), ('delicate', 2.068257479091721), ('little', -1.3482847006819285), ('has', 0.36925746681232746), ('touching', 2.745051642089371), ('say', -0.28911088869934165), ('what', 0.052462549593715976), ('important', 1.0873286925443593), ('life', 1.559022015261686), ('why', -0.7852760389514786), ('Here', -0.4342612432543512), ('yet', 0.565551766811508), ('another', -0.9664908842057809), ('studio', 0.3692401192107885), ('horror', -1.1145664640225459), ('franchise', -0.23133517105711657), ('up', 0.10090693434711698), ('storyline', -0.7570411866811593), ('casual', 1.3340907419933627), ('fans', 1.4979382831837937), ('correct', 0.3811310969881457), ('sleep', -2.3146128060786775), ('But', -0.42918613754886187), ('taken', -1.6884712179158687), ('stylish', 1.9364981911349743), ('energetic', 2.586960919723449), ('Queen', 0.44024072486270555), ('Damned', -1.1740830879436293), ('be', 0.14950408659753045), ('said', -0.06421042475942647), ('suck', -0.5757075613508564), ('wo', 1.3104746245787866), ('Roger', 0.3131046570946859), ('will', 0.45294545971554034), ('recognize', 0.5080443905695234), ('big', 0.5018905523114384), ('part', 0.896292060526614), ('we', 0.5300163844236455), ('go', 0.10724917272585352), ('We', -0.355297701990066), ('know', -0.5558425557005506), ('crazy', -0.9068773413716137), ('held', 0.12531562943407276), ('my', -0.12607729338842405), ('interest', 0.434015327174017), ('start', -0.47409027251288466), ('finish', 0.6600422090838607), ('fast', 0.6399908593362446), ('highly', 0.7318883370843816), ('enjoyable', 3.327409903660323), ('celebration', 1.1897073947133794), ('quirkiness', -1.0391310174933461), ('eccentricity', -0.05930436041332719), ('certain', 1.0216083650517038), ('individuals', 1.015401302994192), (\"'\", -0.33557996904891296), ('tendency', 0.009796216157136398), ('let', 0.3371966856743029), ('hang', -0.5326001176319637), ('out', -1.5829046338982575), ('damn', -0.13766376125879698), ('consequences', -1.3127710540166992), ('Writer\\\\/director', 0.4867480458338007), ('Joe', 0.686757508583154), ('grimy', 0.09042205965915286), ('crime', -1.227043947784572), ('drama', -1.1202045114217742), ('manual', -0.31034789622311376), ('cliches', -1.7390128555334223), ('enough', 0.27472310387598464), ('cover', 0.3206041170393387), ('clunky', -2.032063237727311), ('dialogue', -0.9384768392134597), ('lapses', -1.3307441794302939), ('logic', -1.595994645828294), ('witty', 2.502867194339035), ('follow-up', 0.17704456070971744), ('While', 0.3254752968787592), ('ideas', 0.3329532522494607), ('are', -0.2983007307690766), ('far', -0.3325133867903553), ('novel', 0.6331364296701817), ('they', 0.2562087839217082), ('presented', -0.17229260513587408), ('wry', 1.168241656493194), ('dark', -0.22889983412718376), ('An', 0.06509650732103119), ('infectious', 1.230292613744627), ('cultural', 1.3030001259449748), ('tasty', 2.3271465554749935), ('balance', -0.40357792722097147), ('family', 1.594103494938469), ('frenetic', -0.3695427063414428), ('honest', 2.573248573911652), ('look', 0.9485236368044195), ('community', 0.8137090875562719), ('striving', 0.4214719560445469), ('anchor', 0.055018245544357997), ('itself', -0.4405744434075646), ('new', 1.2241976600786995), ('grounds', -0.004004763249710733), ('hat', 0.09396152927213385), ('head', -0.6950197025816831), ('Clooney', 0.2803569226165305), ('director', 0.6198563788552316), ('slowly', -0.518573676127801), ('sporting', -0.4780287935867674), ('breezy', 1.2873932679486007), ('spontaneity', 0.8701256586967079), ('realistically', 2.5960717267201185), ('drawn', 0.25447318979079947), ('characterizations', -0.09510967699345288), ('develops', 0.8465458115374743), ('significant', -0.06999689661868211), ('study', 0.9477595722114143), ('moving', 2.429635169388157), ('wise', 1.474378553185933), ('Ultimately', -0.41463083613290774), ('empty', -2.799280948611392), ('unsatisfying', -1.3894380634063652), ('Chilling', 0.7426920205239251), ('well-acted', 1.6760459031993002), ('finely', 1.6900739102661688), ('David', 0.2862795138302627), ('Jacobson', 0.3969952419520232), ('Dahmer', -1.8929486808512737), ('tale', 0.9260197267312241), ('betrayal', 0.047971236638104736), ('revenge', 0.6672345491568048), ('above', 1.633261928866486), ('faith', 1.410698148031125), ('Without', -0.4323479668892453), ('ever', 0.2725358618616457), ('becoming', 0.6553614003290522), ('didactic', -1.3476925036994825), ('Carlos', 0.3188873441478909), ('expertly', 1.0087930428780583), ('weaves', 0.2829578409752794), ('complex', 1.8406195548849738), ('morality', 0.6125762214064787), ('literate', 1.5613668933648528), ('presentation', -0.3162605318314502), ('wonderfully', 2.5822049345125313), ('murderous', -0.2605401586164644), ('event', 0.0753563650939564), ('rage', -0.6760356578883903), ('2002', -0.21991955437559763), ('One', -0.009325176089446125), ('year', 0.7748230081514738), ('exploration', 0.7664969526740973), ('obstacles', -0.22678074900697254), ('happiness', 1.083416614284292), ('faced', 0.48358038879720805), ('five', 0.128104755045075), ('contemporary', 1.7522702733923747), ('psychological', 0.6656038935013395), ('masterpiece', 2.466097687087545), ('beneath', -0.4646962788965927), ('surface', 0.17775167914278486), ('asks', 0.19041611878127815), ('disturbing', -1.3175209733094229), ('questions', -0.4745561031934404), ('expect', -0.11274508398358865), ('military', -0.5437199078073203), ('epics', -0.019332346463670103), ('For', -0.4448695733919886), ('Stevens', -0.43068920227640917), ('glides', 1.3150923153771692), ('through', -0.5697338497870638), ('Broomfield', 1.16488012071626), ('turns', 0.1897688043097095), ('distinctive', 0.6734097156018606), ('`', -0.15744296784920822), ('style', 1.1299265161044967), ('something', 0.5171215404852507), ('really', -0.2310179866736575), ('help', 1.759792226245179), ('clear', 0.16212334769381612), ('case', -0.7674861525123985), ('odds', 0.7164152355932584), ('heaven', 1.108073357642226), ('hell', -2.2834550719592843), ('me', 0.5998298160261407), ('refreshing', 3.8565659234450145), ('see', 0.7758010764523185), ('feel', -0.15250638267128588), ('prove', -0.5118683219030575), ('anything', -0.45689179322692836), ('seeing', 0.8501735685004769), ('basis', -0.0356607047931285), ('wisdom', 1.0222335069666668), ('startling', 1.4168129439190829), ('optimism', 0.8094198863751193), ('children', 1.2734339216260184), ('structured', 0.8188419483507845), ('exquisitely', 0.665628978101577), ('filmed', 0.02005796332953328), ('father', -0.25697290787428834), ('son', 1.1228948810049557), ('connection', 1.534122504375178), ('brief', 0.4247009763066348), ('shooting', -2.1100879118194396), ('star', 0.66779582927086), ('This', -0.05617362119674264), ('troubling', -0.7230953841164529), ('interpretation', 0.966093954165109), ('rewarding', 2.886136404368703), ('art', 0.8609855075527658), ('patient', 1.0510515244795566), ('quiet', 1.166743800281329), ('treasure', 0.9557075294046257), ('May', 0.30492567868418863), ('series', -0.3159641592726996), ('assured', 1.8753150794106388), ('thrilling', 0.9038666217222906), ('abundantly', 0.28808471290365534), ('phenomenon', 0.812930329847091), ('once', 0.16984897721376097), ('again', 0.30853071064300835), ('generation', 1.595399868247235), ('Spanish', 0.25229409404705827), ('effects', -0.21841961289026807), ('jealousy', -0.8956582143089533), ('whose', -0.11645496028227109), ('passion', 0.8047494658455888), ('her', 0.03631403130124548), ('husband', 0.17619252983705735), ('becomes', -1.1667901250019137), ('obsession', -0.49687411183170865), ('Huston', 0.37073373486765715), ('nails', 1.3201343825089449), ('hollow', -2.542791608073232), ('despair', -1.2545970857582094), ('nuanced', 0.5630818941348328), ('mood', 0.5955658325409061), ('tics', -0.6466061554596522), ('superbly', 1.1413756045101455), ('acted', 0.6766372042754245), ('deeply', 0.5193441776052717), ('appealing', 2.8679187274326816), ('veteran', 0.7920637505514299), ('Bouquet', 0.04762171779594957), ('chilling', 1.993488104103829), ('quite', -0.515566639932639), ('Berling', 0.22991290605118053), ('fascinating', 2.774756650753527), ('how', -0.42387053317151996), ('Bettany', 0.5036110687536073), ('McDowell', 0.07480930013817519), ('play', -0.3242083846414744), ('off', -1.9426133157640237), ('each', 0.8764513875608771), ('other', -0.318551240406099), ('beautifully', 2.89127924327761), ('mounted', 0.08601933689280064), ('point', -0.7728458974168179), ('issues', -0.5657832082787841), ('managing', 0.010832439110737961), ('walk', 0.20971537870229734), ('line', 0.03002092813331929), ('regard', 0.1026208535753388), ('question', 0.08787551960359305), ('Joan', 0.1777601686431143), ('madness', -0.22857571009711186), ('Leigh', 0.2545505914438293), ('memorable', 1.5721451085582752), ('top', 2.1337469695272304), ('bottom', -1.8734419425210442), ('moviegoing', 1.0719466596767608), ('pleasures', 1.5796872593602949), ('Jose', 0.19387315897767687), ('Campanella', 0.3883711295254631), ('delivers', 1.2650768943416502), ('loosely', -1.0508319090527332), ('autobiographical', -0.5106623943869806), ('brimming', 0.6214259406890009), ('bittersweet', 1.9600902058036274), ('pathos', 0.004365994783835228), ('linger', 0.5613053718808111), ('memory', 0.9846055347008745), ('Clockstoppers', -1.1395208574159579), ('fulfill', 0.36021672803524246), ('wildest', -0.7692007933352257), ('fantasies', 0.8539376467470102), ('being', -0.1391069528464329), ('different', 0.8538121434882247), ('kind', 0.9808167862855494), ('while', 0.4177411587966033), ('happily', 1.0633870706524584), ('killing', -0.658695242033156), ('94', -0.30388251112748293), ('minutes', -1.8599722458210846), ('beautiful', 3.117504529524534), ('behold', 2.1647019038924067), ('engages', 0.6369789463109509), ('epic', 1.508206511960621), ('struggle', -0.7963020389233622), ('inner', 1.168792898607212), ('outer', 0.1670698152277885), ('too', -2.404879833676153), ('rare', 2.627591689233472), ('productions', 0.6575434233286916), ('Neither', -0.9033380130082381), ('Parker', 0.41101225077082504), ('nor', -2.4108431138398823), ('Donovan', -0.37977466317991637), ('romantic', 0.448262947270222), ('lead', -0.11360398554732722), ('bring', 1.8785817355028052), ('quirky', 1.2246321156938795), ('charm', 1.8616086361503845), ('formula', -0.696605861403109), ('emotional', 0.33184804068263857), ('journey', 0.3846531471861258), ('Shyamalan', -0.02341460614374694), ('given', -0.1923891628921333), ('Gibson', 0.5102461529217089), ('Bruce', 0.15700423942285352), ('Willis', 0.8909553315080577), ('perfect', 2.4697161818404294), ('actor', -0.23054035610250434), ('take', 0.11177181734488122), ('special', 1.150141021476381), ('narrative', 0.5683935418832938), ('flow', 0.34053266077611444), ('improved', 1.4013862167813278), ('Daniel', 0.5140573318868188), ('emotionally', -0.6611573937590755), ('around', -0.7723031993724498), ('Harry', -0.7951324084442842), ('conjures', 0.7437939238816519), ('magic', -0.27125599721947546), ('author', -0.8576279406022367), ('J.K.', -0.22983475802628345), ('Rowling', -0.5941227266540579), ('books', -1.2293164031714903), ('Jaglom', 0.02850311866311743), ('put', 0.000834939594081395), ('s', 0.5157946257385099), ('audience', 0.34121435219303775), ('privileged', 0.011563310256564274), ('position', 0.7845032320457352), ('Beautifully', 1.7552273955097373), ('observed', 0.3766587970502736), ('unsentimental', -1.0000599998818274), ('comedy-drama', 0.21338151495176894), ('must-see', 0.8393323805649916), ('Mamet', 1.3400196643115987), ('anyone', -0.48333746187104204), ('appreciates', 0.5387793208428965), ('moviemaking', -0.06877697503708628), ('nonstop', 0.7806098196707721), ('romance', 1.4898129410338832), ('suspense', 0.6488368645834379), ('action', -0.14562229036685845), ('acting', -0.2726328018095252), ('costumes', 0.23123999767467363), ('cinematography', 0.28817580249448305), ('sound', -0.6962002792048233), ('astounding', 1.3935656091725215), ('production', 0.22810706121294133), ('locales', -0.247390791100956), ('Far', 0.5725228091524548), ('ambitious', 1.3498996328406725), ('features', 0.429189041801619), ('made', -0.18908677056108752), ('animated', 0.6196100959857943), ('TV', -0.03760418383116979), ('definition', 0.1847924850584504), ('small', 0.19097720533947338), ('Sprecher', 1.2547331133259756), ('Suffers', -0.8605404959106511), ('lack', -3.5696470674478706), ('comprehensible', 0.5966459186464252), ('Still', 1.2920043188163663), ('visual', 0.13451780374067734), ('treat', 3.312676423355147), ('almost', -0.5325210813575867), ('So', -0.06504219182191842), ('unassuming', -1.0428355758760488), ('pure', 1.1766114929253801), ('arms', -0.7855569198456099), ('Safe', 1.1433149812317178), ('!', 1.1423227127846025), ('intriguing', 3.1289532877373016), ('cinematic', 1.1337738388688874), ('omnibus', -0.2173992307931578), ('occasionally', -0.16950702502124262), ('interesting', 1.950937486412235), ('concept', -0.24142893021346018), ('execution', -0.9530278569518791), ('refreshingly', 2.291831314228635), ('incisive', 0.7727088400924677), ('Grant', 1.0912838755753183), ('probably', -0.7181413022559867), ('appeal', 1.7643935312314727), ('guys', 0.6314972487460598), ('drag', -2.3406087674508815), ('them', -0.1437235521567807), ('Hugh', -0.5008900119555573), ('factor', 0.2591608242165174), ('At', -0.5934732579500329), ('half', -0.5007438270363254), ('so-called', -1.8731639327549268), ('real', 1.5937542885368088), ('live-action', 0.19634233706081014), ('cartoons', 0.47920643957343184), ('cartoon', 0.2684991371046252), ('knows', 1.591025577111272), ('form', 1.0682212481703597), ('history', 1.1666856788443387), ('lies', 0.03668497116621244), ('mysterious', 0.21499472190085495), ('spring', 1.2381088854485753), ('richness', 0.8281947026434352), ('better', 0.9123022888680725), ('message', -0.4760336814371721), ('women', -0.08291945406105634), ('size', 0.7077820090922747), ('receive', 1.0953747377309968), ('?', -1.4762363622889618), ('second', 0.3027399721577214), ('coming', 0.09725242047339354), ('Potter', -0.5219163770885759), ('predecessor', 0.1439545180434329), ('successfully', 0.6065027267086845), ('selling', 0.6576484308343937), ('avoid', -1.141344018532983), ('Godzilla', -0.0025560450156100496), ('clearly', -0.33093606662193714), ('great', 1.8195254615599725), ('beauty', 2.6640954427865666), ('baseball', -0.030801878223953447), ('touch', 1.4340474811658204), ('regardless', 1.0481222154264627), ('familiarity', -0.10662348341013837), ('sport', -0.26440116818691317), ('Seldahl', 0.864112276747367), ('Barbara', 0.27332021432295217), ('precise', 1.2241399050780692), ('portrait', 1.7490273967156043), ('someone', -0.8312088665102424), ('turned', 0.14939501962151822), ('upside', -0.0623506601589345), ('down', -1.314827937178784), ('then', -0.7622539162740865), ('illness', -1.5677685740111083), ('realistic', 1.729003026779106), ('affection', 1.7762581265256658), ('Byler', 0.7856930499704552), ('reveals', 1.627317643526988), ('fascinates', 0.891228194371022), ('never', -0.7364532755264319), ('reduces', -0.8758932923906919), ('situation', -0.8224218050060088), ('simple', 0.8928309277596437), ('melodrama', -0.6091017211942027), ('potentially', 0.5930141399501587), ('forgettable', -2.381750633091144), ('strangely', -0.6458481000237648), ('diverting', 0.33243642615299956), ('Bogdanovich', 0.8044206005270381), ('offering', -0.10146332082748485), ('peep', -0.16948819913684665), ('show', 0.24032801368592963), ('lives', 0.8281267022730138), ('era', 0.35433756604970046), ('celluloid', -0.5469490889535485), ('People', -0.6187997698608826), ('cinema', 0.330778615275415), ('finest', 1.6639186558857253), ('higher', 0.9419074744304919), ('level', -0.18261391233632318), ('makes', 0.24216127426053927), ('pulls', 2.1531846199266407), ('gives', 0.6671727205855355), ('hero', 1.1354984021653851), ('suffering', -1.6284897181457108), ('triumphs', 0.7389944939562095), ('share', 1.1760786664397942), ('surrounds', 0.1509029276232186), ('sends', 0.6765931566172425), ('theater', 0.507618327358738), ('feeling', 0.24448813890909213), ('shared', 0.34446285215534667), ('adventure', 1.592754384916777), ('Manages', 0.7144017758802971), ('transcend', 1.386993495350652), ('sex', 0.8862951123740521), ('drugs', -1.1779711203660126), ('richer', 1.5347855605905527), ('Dense', -0.9043885226812968), ('contains', -0.3715581084942323), ('LaPaglia', 0.13730069443622375), ('ability', 1.9309188019961674), ('convey', 0.4900462076882625), ('grief', 0.19286078660038716), ('hope', 1.2665856569216014), ('works', 1.7809072090365838), ('Weaver', 0.13730069443622375), ('sensitive', 1.5910327698761417), ('master', 1.8047911942772248), ('Reign', 1.8754179270127058), ('Fire', -1.549864425880763), ('looks', -0.19786979601200194), ('was', -0.5087288296140411), ('thought', 0.9935997516903344), ('watched', -0.00015287825578706046), ('successful', 1.5017238387360512), ('same', -1.3464068835716942), ('familiar', 0.21770501133963888), ('root', 0.7614999776902687), ('Paul', 0.2333064781985718), ('though', 0.33027356136884944), ('perhaps', 0.3271841978400977), ('emotion', -0.17338448517241511), ('closer', 1.6386403552581637), ('pity', -2.8418379609843436), ('hit', 1.0700432687320336), ('theaters', 0.2807436938643627), ('since', 0.6990191885418834), ('Dreams', -0.2750114541558653), ('Instead', -0.4024656406849959), ('hyperbolic', -0.4223926396630646), ('urban', 0.4158073465067618), ('western', -0.28188085285390396), ('unpretentious', 0.9005551599345493), ('pointed', 1.0164825839124485), ('slice', 0.1629885823762085), ('tunes', 0.11244414237966766), ('man', 0.9580503067822793), ('across', 0.29139233074713133), ('centuries', -0.9805513021176626), ('D', 0.04659786200989419), ('bother', -2.2780494343612725), ('cloying', -0.70048395549338), ('preachy', -2.0898314136745446), ('equivalent', -1.7004166525833473), ('evangelical', 0.4973840972098611), ('Christian', 1.1043013242955837), ('maybe', -0.06446867600941796), ('filmmakers', 0.015594840107912573), ('likely', -0.07100820632791144), ('already', -1.594739571506757), ('faithful', 1.5413364823185036), ('If', -0.36518671800261643), ('Michael', 0.530462899167722), ('superficially', -1.5395991167768601), ('understands', 2.01718803030115), ('hold', 0.6789635029179799), ('contempt', -0.9547499107482328), ('taste', -0.4820037182252272), ('runs', -0.1669036460671302), ('difficult', -1.8030618757051342), ('absolutely', 2.026408836007319), ('miss', -1.0065381715221018), ('have', -0.21667821041246577), ('seen', 0.3934021774608158), ('screen', 0.026303692440234717), ('before', -0.7209284756999296), ('Americans', 0.688722104388268), ('beings', 2.227606720917133), ('Leon', 0.10962784052193635), ('frustrating', -2.141817320892324), ('oddly', 0.16561335399650035), ('likable', 2.947591930624204), ('stomach', -1.433485872386845), ('rough', -1.5498921087483488), ('content', 0.3610833742338027), ('checking', 0.6336772088859409), ('alone', -1.788157738077332), ('Looking', 0.03097117687115948), ('luminous', 0.5439707608287135), ('Jane', 0.1339507418959974), ('performance', 1.1202029719723798), ('upon', 0.23859014995159192), ('Mafia', -0.39239519118183414), ('stars', 0.5082960956930259), ('rats', -0.44933023781390136), ('butt', -0.9088287769383455), ('ugly', -2.8520753786411728), ('heads', -0.7306193808106034), ('violence', -2.504546118974859), ('brutal', -0.5434236519202148), ('unlikely', -0.5543698631261036), ('On', -0.3240530209364493), ('tricky', 0.27091925344062406), ('topic', 0.980239418070625), ('Tadpole', 0.037896936669287326), ('step', -0.31025805859946953), ('right', 1.998535274797803), ('direction', 0.19160905768132877), ('blend', 0.5790409744845377), ('frankness', 0.2580033637072513), ('compassion', 0.5145238775913125), ('Fun', 0.7513868972306708), ('terribly', -1.6573470503916528), ('hip', 0.6570180958341041), ('bit', -0.04882083419870464), ('lot', 0.40035480491075626), ('nicely', 2.2199789717244838), ('himself', -0.27716184772898733), ('stereotyped', -0.767837319384479), ('street', -0.6373037063876902), ('Falls', -0.22746319509669977), ('neatly', 0.6638619112377777), ('category', 0.4395845108073566), ('Good', 1.3733032837308647), ('Stupid', -0.8420843246902286), ('Even', 0.03793487653986215), ('tedious', -3.0977236883795474), ('Russian', 0.47291398660080625), ('Ark', 0.05003720778902265), ('mesmerizing', 1.5582786398655033), ('chemistry', 0.09769459460033408), ('Carmen', 1.7730051040112615), ('Juni', 0.004091342879489563), ('keeps', 0.8447602032224262), ('slightly', 0.023095809969284852), ('disappointing', -1.931860711566923), ('sequel', -0.3248489624053468), ('going', 0.3225723968352511), ('amusing', 1.3581860060003736), ('banter', -0.28801389764123336), ('keep', 0.6617950132902539), ('parents', 0.22779567102011922), ('entertained', 2.320615924073441), ('Reggio', 1.0025050679289909), ('barrage', -0.06750878308851126), ('absorbing', 1.782781962322276), ('thought-provoking', 2.7800128045292944), ('adds', 0.2256057007541943), ('gorgeous', 2.6777335317446966), ('sprawling', 0.5320461829784423), ('diversions', 0.19433832353300592), ('fashion', 0.5513266485407516), ('Sade', -0.009912742549912135), ('controversial', -0.3082512131326854), ('eponymous', 0.9444940417320147), ('fiercely', 0.20115008290970016), ('Kinnear', 0.20292001804898185), ('aim', 0.18869481224976212), ('our', 0.23413881032371384), ('sympathy', -0.41866506302469475), ('rather', -0.34033664537000474), ('striking', 1.9033735089977475), ('skill', 0.8050696540249092), ('depth', 0.11346851263556651), ('subtle', 1.8160694374622772), ('strength', 2.2198944547172768), ('``', -0.7087739080866243), (\"''\", 0.2986040359789648), ('loses', -4.166718661183868), ('reality', -1.0412885864397963), ('grim', -1.208059409517516), ('shades', 0.6092397064209147), ('maneuvers', -0.014086550210111966), ('format', 0.8077253849394367), ('used', -0.34134933242933013), ('capture', -0.06260507176199018), ('heights', -0.11599603665718644), ('achieved', -0.2820282019535988), ('BMX', -0.019633846492095833), ('ends', -1.202468286607592), ('Has', -0.45701747056566244), ('virtues', 0.7549358406674137), ('Eastwood', -0.434071002485366), ('Though', -0.28504136062999896), ('become', 0.10357530834366266), ('redundant', -1.7923863588435418), ('major', 0.08480626320408884), ('actually', -0.05959302444816007), ('casting', 0.5700369216927663), ('working-class', -0.6301594528058855), ('deserves', -0.16662388345069915), ('passing', 0.5131727598844449), ('events', 0.09939547279499869), ('shaping', -0.3060467599908388), ('beyond', -1.040784128614296), ('horizons', 0.31073473613436453), ('reminds', 0.9741351941837669), ('exciting', 1.7454750216627877), ('satisfying', 2.1635805417757146), ('fantasy', 1.1224762566462896), ('approached', 0.18638069905616078), ('imagination', 1.2125695834829127), ('flair', 1.1052187344961015), ('Thanks', 0.5358186105707212), ('Scott', 0.08166045195531725), ('charismatic', 1.4435643033585217), ('sweet', 3.0667858650705626), ('Dodger', 0.43459504176996544), ('variations', 0.024463544512897607), ('Company', -1.12278599568594), ('Men', 0.49079834340091466), ('frighteningly', 0.5777474060724515), ('capable', 0.7985675475421525), ('debut', 0.48672834299284884), ('genre', 0.7630855737727675), ('piece', 0.6340243040179335), ('snapshot', 0.5190513312402157), ('dangerous', -1.7632717184359203), ('political', -0.24491005609912447), ('verge', -0.3429373165616313), ('wit', 0.7919518742807699), ('pessimism', -0.5612952702541046), ('Anna', 0.22694712149084179), ('Two', 0.18686941652608263), ('Weddings', 0.0004999934886453139), ('Funeral', 0.0004999934886453139), ('Will', -0.3560038741582639), ('amuse', 0.8628885606414862), ('provoke', 0.9066888248909293), ('adventurous', 0.5798067768885967), ('adults', -0.009350390318618512), ('do', 0.3175010474493208), ('appreciate', 1.4757276535677484), ('finding', -0.4077997674293437), ('God', -1.092755003225465), ('accessible', 0.9820147325860661), ('De', -0.31148941969746613), ('Niro', -0.793811764156652), ('digs', 0.24205371843248405), ('because', 0.3986662308843042), ('been', -0.9082155487420472), ('powerful', 3.8142654063924053), ('co-stars', 0.5556551303496313), ('decent', 1.78974346676883), ('moral', -0.16033042013212728), ('trying', -1.3374721402335559), ('get', -0.4321956731019089), ('tension', -0.2922750254555469), ('seat', 1.2286693166393146), ('Affleck', 0.5300531092100762), ('Jackson', -0.24957517023574655), ('sparring', 0.43662222904635006), ('partners', -0.04388060320191215), ('old-world', 0.35238247200070116), ('-', 0.14153404598741612), ('joyful', 0.5659286266348929), ('Bollywood', 1.0150853486390041), ('end', -0.21630280501019575), ('Monsoon', -0.1646669393305633), ('Wedding', 1.043048598802832), ('sent', -0.6970283611379164), ('spirit', 2.0540156115226527), ('effectively', 0.06048705740835713), ('creepy', -1.6089465746573253), ('Japanese', 0.35508396621813987), ('Nakata', -0.46500078638807074), ('curse', -0.9578023128300334), ('chain', 0.21671922142403816), ('applies', -0.9340314420605361), ('had', -0.20782307563155575), ('actors', 0.7454399397751134), ('speaking', 0.008961292083102246), ('adored', 0.40934266596195834), ('movie-going', -0.5396802282066994), ('public', 0.35285368958931235), ('Khouri', 0.0006916919242614604), ('terrific', 3.3195084682743383), ('well-crafted', 1.77063758991592), ('chiller', 1.2484943689687171), ('Warm', 1.4086284054877811), ('Water', -0.18887419104645897), ('Under', 0.38634721403786076), ('Red', 0.6376637795549689), ('Bridge', 0.3376909660261194), ('explores', 2.195339736287003), ('connections', 0.9179590482883018), ('sexuality', 0.710022359893251), ('few', -0.49646794082278206), ('fanciful', 2.01731001317313), ('touches', 0.21069177794137028), ('serious', 0.4513288995788146), ('may', -0.5023451598741754), ('living', 0.9728887943686518), ('unlike', -0.6985613357509024), ('Dumas', 1.137288539045452), ('adaptations', 0.10066001705170309), ('lengthy', -0.5795619813508438), ('sentence', -1.057952773336746), ('delectable', 1.1126760829142353), ('filled', -0.21417555277002792), ('surprises', 0.5852154849806425), ('Read', -0.40530083132382455), ('My', 0.12726534847187743), ('Lips', -0.40530083132382455), ('original', 1.2940422966261473), ('stand', 0.5592930058525548), ('chance', 0.4963891525451431), ('together', -0.3071938830491296), ('magnificent', 1.2093440359054104), ('culture', 0.9252356321984363), ('need', -0.050412996313201085), ('apply', -0.23319180100544934), ('loved', 2.0243155552536556), ('Cool', 0.8981987484826388), ('Ice', 0.04247213635918897), ('last', -0.2565161334184961), ('found', 1.0292590337233245), ('worthy', 2.356756689696516), ('creepiest', -0.9813373852094465), ('scariest', 0.5874476766173031), ('long', -0.7154918749530018), ('easily', 1.4607788821110728), ('Blair', -0.5526801925846069), ('Witch', -0.6883042490751022), ('Others', 0.008180895473421884), ('Roland', -0.21160412609975482), ('search', -1.5671102652836142), ('unknowable', -0.05488755606241951), ('haunting', 1.3657613838371958), ('literary', -0.25061993956766787), ('detective', 0.38758473617828304), ('LaBute', 0.37297871188649495), ('trick', -0.2017535045275727), ('Possession', 0.1411769971016652), ('He', -0.14367428784127595), ('language', 0.46310899328192934), ('sexy', 2.574575762557085), ('Pacino', 0.4458943202593593), ('brilliant', 2.9047927995664904), ('existential', 1.5935414112349777), ('physical', 0.8816999593870455), ('Rare', -0.1642449599499359), ('Birds', -0.1642449599499359), ('wickedly', 0.5816941389011764), ('Nickleby', -0.17785034151195903), ('thing', -0.9807998398115477), ('might', -0.743206292347016), ('homosexual', -0.7711603071273047), ('undertones', 0.08509773070902082), ('Eddie', -0.22599768001169365), ('Murphy', -0.330849382433362), ('No', -2.7651075035703045), ('sophomore', -0.5846091588482143), ('slump', -0.9672791487787114), ('Sam', 0.236078842744826), ('Mendes', 0.5725405232125358), ('Oscar', 1.4699310555489817), ('Oscar-winning', -0.24153600914892925), ('potential', 0.882791819076498), ('smooth', 1.1541758074667534), ('hand', 0.19533583045331082), ('inventive', 2.305697454533828), ('hindsight', -0.337884054888693), ('dumb', -2.8483135946969833), ('Yakusho', 0.2932295093629087), ('Shimizu', 0.09480918888451412), ('create', 1.1934460237064597), ('Imamura', 0.2695790369985722), ('mix', 0.4975606752039628), ('emerge', 0.44569056033097754), ('view', 0.40727099530677496), ('gears', -0.7059184236045231), ('justice', 0.6571841626927167), ('grind', 1.1475612068490055), ('death', -1.7447170496323978), ('report', -1.3831380842766416), ('comes', 1.0497864538584032), ('alongside', 0.2776746036034193), ('farm', -0.5391302386720825), ('Collateral', 0.5615793638959288), ('Damage', -0.7714960050830149), ('finally', 0.8588733168723783), ('goods', 0.8781274945160478), ('Schwarzenegger', -0.85942378244875), ('Marquis', 0.1909529515962196), ('first-time', -0.44528669587341213), ('Paxton', 1.0694642380825274), ('Frailty', 0.7175028876272881), ('soul', 1.0545916696094733), ('Anne-Sophie', 0.05296087490860252), ('Birot', -0.4477033234759872), ('feature', 0.27441358437462915), ('extraordinarily', 0.3074290788288168), ('riveting', 2.2773442770851937), ('World', 1.0109468343183237), ('II', 0.8566837798074496), ('deals', -0.4233517372581381), ('shadow', 0.6040016993289774), ('side', 0.033360578466410606), ('American', 0.37230039561535055), ('racial', -0.9285224324595645), ('prejudice', -0.8326306163200597), ('diverse', 1.1213339358682612), ('forms', 0.09500898866657115), ('tender', 1.772961714085962), ('heartfelt', 1.9724973172181024), ('manages', 1.495831344732514), ('substance', -0.7497891991122351), ('inconsistencies', -1.0666728867925204), ('genius', 1.050089284830126), ('knee-jerk', -0.7583140186532705), ('quick', -0.5634159202174558), ('solutions', 0.27171549463549954), ('road', -0.6433476308706029), ('landscape', 0.8606632690889906), ('filmmaker', 0.6574896168747144), ('Chaiken', 0.4090744366900781), ('evocative', 2.3820440299616035), ('accurate', 1.3214461866507534), ('observation', -0.038779578699464946), ('milieu', -0.6535472044659818), ('convincing', 1.7942660693193493), ('she', -0.15991996106534054), ('creates', 1.0343624290562885), ('watchable', 2.7176827907052834), ('thoughts', 0.8546421174785115), ('were', -1.5204626393690421), ('focused', 0.2368161242387754), ('That', -0.6266560744969123), ('compliment', 1.7324907179442062), ('Kuras', 0.17887331797994405), ('Miller', 0.8073411902490917), ('truly', 0.9150388891089831), ('scope', 0.6450412029979143), ('belongs', 1.0005966843196166), ('arc', -0.2450635008443066), ('euphoria', 0.8622907955921492), ('auspicious', 0.6414754172910743), ('daring', 1.5145076092323484), ('artistic', 1.4310322778371398), ('instinct', 0.28288974594484906), ('pushes', -0.1709072483548547), ('Steven', 0.5439584970303549), ('Spielberg', 1.1297808936660678), ('follow', 0.4302368829113445), ('challenging', 0.7527499443860615), ('majority', -0.4695917752737448), ('unfamiliar', -0.06961058118895885), ('practices', -0.5902712334594876), ('general', 0.9919975784837427), ('theatrical', -0.3020432648361686), ('Hell', -1.7286043513499896), ('particular', 0.6296955976829335), ('I', 0.15456806924699748), ('waiting', -0.15509369838026926), ('whole', 0.2844495368187868), ('wait', -0.4141026185979381), ('instead', -1.4569592085015484), ('dead', -2.2218791705352916), ('operatic', 0.015044587687961096), ('picture', 0.4692662867344917), ('entertainingly', 1.6005812372462396), ('shot', 0.12481171719246927), ('gripping', 1.4781187135284244), ('sustain', -0.5496671475047995), ('length', -1.2561024379525547), ('future', 0.0263279973730057), ('awesome', 0.7995967694556904), ('consider', -0.254703267468538), ('period', 0.6283763543533321), ('detail', 1.2643086464351756), ('matters', 1.176405999883543), ('transporting', 0.2598046153926516), ('stays', 1.1098082783352783), ('inspires', 1.1718089761774875), ('continuing', 0.06492129472394419), ('awareness', 0.9121331435171414), ('monumental', 0.5524142631748896), ('shows', 0.5359003592626869), ('Awesome', 0.5823469062448359), ('creatures', 0.5768233437544907), ('breathtaking', 2.2205452340157423), ('scenery', 0.1475710913087859), ('battle', 0.31511559392407906), ('spectacular', 1.7577989174485686), ('By', 0.4564574002615072), ('detailing', 0.3791092907722489), ('politics', -1.3617607279791641), ('involved', 0.4667598328618812), ('creation', -0.3471714438750912), ('extraordinary', 2.496851679368128), ('Jones', -0.2538848876108723), ('calls', 3.0226187334358037), ('attention', 0.3677895728559017), ('inherent', -0.4028529877767626), ('commerce', 0.1596832622827166), ('creativity', 0.6901310954216636), ('glum', -1.9764899709217416), ('complexity', 1.098212073390675), ('themes', 0.929769189016104), ('Piano', 0.48196328066475563), ('Teacher', 0.48196328066475563), ('defies', 0.17573877060042872), ('haunts', -0.054159162736529015), ('impossible', -1.8717875321983621), ('spare', 0.8397726561836346), ('many', 0.0976100941129236), ('comedies', 0.9199074037058547), ('alienate', -1.049021539454558), ('gender', -0.594366752136056), ('summer', 0.9973365528484617), ('watch', 0.6853520508885576), ('Arnold', 0.5550875805882697), ('buddy', 0.7351291864268719), ('refusing', 0.20019218750039136), ('themselves', -0.5095788063896406), ('flick', -0.3308219893702564), ('cool', 1.896502576366954), ('crowd-pleasing', 0.7332520788633795), ('documentary', 0.6139683762546336), ('Wild', 0.7667062440002728), ('Thornberrys', 0.2595044399344715), ('Movie', 0.1483965596176624), ('jolly', 1.0412089527898822), ('surprise', 0.7878445723894847), ('Griffiths', 0.1178733785195728), ('proves', 0.7118114150630347), ('continually', 0.4789951536108098), ('raises', -0.07802130018037676), ('standard', -1.2152065386269193), ('profession', -0.20794987165421297), ('Offers', 0.03623757168735969), ('enjoy', 1.786606206607166), ('terms', -0.41456148224490535), ('loyalty', -0.09939425318265546), ('staying', -0.7449760010893914), ('friends', 0.5938075659397918), ('reminder', 0.9609980946746758), ('move', 0.19336900897468426), ('values', 0.4968955936106811), ('Binoche', 0.6826899132961188), ('find', -0.4746203481662927), ('grounded', 0.5641658618558882), ('riveted', 1.0546572290740224), ('Worth', 1.5111413624423466), ('Dong', 0.05109210414906801), ('Jie', 0.14176119320684546), ('throes', 0.10820145054689173), ('rapid', 0.5315992683533899), ('change', 0.1905556976638735), ('hours', -1.2110384318192506), ('fly', 0.4945837967302219), ('opera', -0.07591939254423455), ('pleasure', 2.5376828535809017), ('endure', -2.4661459242816957), ('heck', 0.439547105777251), ('Hearst', 0.0923537483657577), ('Davies', -0.085562830171841), ('unique', 2.4328922689079553), ('relationship', 0.295309144264931), ('subject', 0.701156654961875), ('inspire', 1.1510199587097774), ('reaction', 1.0109983695198523), ('Pianist', 0.0795213085810699), ('Martin', 0.05488538311528585), ('sometimes', -0.06075177985673324), ('angry', -1.7304363552920614), ('Sven', 0.4664763699421973), ('Wollter', 0.06602742476033924), ('Viveka', 0.4664763699421973), ('hopes', -1.0488539381817252), ('frustrations', -0.8527946905672085), ('vivid', 2.0287553720848726), ('weight', -1.269685237435726), ('unerring', 0.4726804818857422), ('chilly', -0.1162660910553138), ('fascination', 1.35659971085311), ('embedded', 0.37335107913687443), ('lurid', -0.18749505047264278), ('recommendation', 2.408091160191603), ('absurdist', -0.9385492749440876), ('alienation', -1.4499386033413888), ('separation', 0.16872598597580235), ('tenth', 0.3486994101353096), ('deal', 0.5763426048947384), ('indeed', -0.3013336682244498), ('least', -1.2105934267093268), ('notch', -0.15558101934139826), ('previous', 0.12795145759122453), ('Nicholas', 0.31066101835922666), ('Meyer', -0.3597714330910524), ('Star', 1.2187944458246853), ('Trek', -0.034768075255874095), ('Country', 0.5191255409978707), ('Bourne', 1.3270591245881833), ('Identity', 0.9254987142940787), ('return', -0.47637261376999435), ('traditional', 0.9057798439381115), ('Holm', 0.46843926503514766), ('embodies', 1.1954611895701879), ('effortlessly', 1.2795310970786788), ('charisma', 0.9095803258457088), ('needs', -1.5864544763254989), ('Among', 0.10755655857841448), ('onscreen', -0.2542668783731342), ('carefully', 0.49378774132215486), ('points', 1.1368590106214718), ('building', -1.1638596085530666), ('pat', -1.2750409357733685), ('resolution', -1.3723341730298104), ('closely', -0.036359078041808934), ('matched', -0.07685712737605693), ('Audrey', 0.353880581526839), ('knack', 0.5098062812173271), ('roles', 1.9259123764019044), ('outrageous', 0.2760139630751884), ('French', 1.6770567317706047), ('exuberant', 0.4242164570815371), ('Amélie', -0.06522094469012123), ('exuberance', 1.1221817957510327), ('L.A.', 0.004262673600604694), ('beach', 0.8273458089810972), ('scene', -0.5452952097766424), ('ways', -0.4276229050976973), ('refuse', -1.2023720446909145), ('think', -0.601064844196197), ('Kissinger', -0.29574430342947566), ('guilty', -1.57116319428594), ('criminal', -0.14618425680085792), ('activity', -0.40862641861682497), (\"'d\", -0.8793864753530762), ('sure', -0.40928104923165454), ('courtroom', 0.026720331660108634), ('trial', 0.10214194227313093), ('structure', -0.3550693365348293), ('Fresnadillo', 0.08248533490716208), ('jolting', 0.09073466963540205), ('images', 0.7170471181290391), ('subconscious', 0.9395759720954655), ('nightmare', -2.015534380721841), ('week', -0.8277854650357088), ('ago', -1.3969009472891274), ('deftly', 0.3429405019347185), ('unsettling', -1.1788841470762514), ('younger', -0.9629748999832364), ('read', 1.914048986699071), ('Stevenson', 0.7045130422098267), ('book', -0.4802116987349077), ('Funny', 2.452572276557094), ('perilously', -0.494255007774672), ('slight', -1.3066060336353598), ('Overall', -0.19414270315568052), ('Ramsay', 0.787820554461535), ('remains', -1.1505192580526316), ('acid', -1.0513007572847712), ('viewpoint', 0.26482182467031007), ('gift', 1.6998046718072726), ('teasing', -0.2596470969859754), ('poetry', 1.2011140275687113), ('settings', -0.8087008783676184), ('seem', -0.5336160615310618), ('drab', -1.7777916219878456), ('sordid', -1.9628132435484633), ('lean', 1.2606030410037634), ('weirdly', -0.3143050147628124), ('retro', 0.5563889477731419), ('recalls', -0.5523129987403312), (\"'60s\", 0.33799861541697224), (\"'70s\", 0.9238444908334404), ('spy', -0.11506078455091982), ('pictures', 0.10972223994110752), ('brooding', -1.4295987551873575), ('Son', 0.3144825294762011), ('Room', 1.338364236138826), ('triumph', 1.7618601323260066), ('gentility', -0.12656872936811298), ('earns', 1.1641209781358115), ('Morton', 0.24910727210597344), ('uses', 1.0047362013055063), ('body', -1.212760459975099), ('Morvern', -0.07066114981688126), ('completely', -0.4083168421433303), ('deadpan', -0.3664250749196428), ('appear', 0.0680459290755992), ('naked', -0.09125168649542253), ('goes', -0.3021441643960999), ('deeper', 0.38659588032751796), ('choices', 0.6630802806246412), ('include', -0.0006860558453717878), ('Catholic', -0.25555786036979894), ('humanizing', 0.7173333427907542), ('woman', 0.41776743147385176), ('hands', 0.4155160236089714), ('unseen', -0.011192913934089542), ('forces', -0.5656692691744994), ('fate', -0.13947361710549722), ('smartest', 1.4801215362425448), ('singles', 0.305889740408973), ('fabric', -0.551775124959953), ('here', -0.4026949560921105), ('feelings', -0.0009761892737599668), ('profoundly', 0.724441947053704), ('CQ', -0.22738531562004885), ('reflection', 0.5555703163026542), ('artists', 0.5538757228768844), ('suggests', -1.3265418420814066), ('nothing', -2.3909639350518703), ('less', -2.3351725592539636), ('voice', -0.3047726958136777), ('considered', 0.6836694348694486), ('possible', 0.4130124654004067), ('successor', -0.25591390506206935), ('European', -0.34291301333512897), ('directors', 0.3984040213515545), ('emotions', 0.6138395288496292), ('raw', 0.49559738779538465), ('strike', -0.8023536462707297), ('nerve', 0.7365480509960085), ('old-fashioned', 1.1254283333632669), ('back', -0.5229124496457389), ('unseemly', -0.36082121565609604), ('title', -0.8194301249936057), ('method', 2.1370825571590526), ('document', 0.9131780446585547), ('rural', 0.06330738256167245), ('school', -1.8553751912072967), ('departure', 0.05581917902789149), ('prevalent', 0.554069661253227), ('technique', -0.24897301464466598), ('visible', -0.7145569290195067), ('offbeat', -0.010859255022171485), ('pokes', 0.06050933754916439), ('democratic', 0.10931933081414494), ('exercise', -0.4743489327226207), ('examining', 0.053429493198951086), ('significance', 0.4441739053871507), ('Allows', 0.41546913435319965), ('Nolan', 0.31633826090150363), ('poised', -0.25380805504742393), ('career', 0.8094495921780558), ('commercial', -0.7202651328210077), ('Friel', -0.06345050384160979), ('Williams', -0.004231486125585817), ('exceptional', 1.712491348117988), ('charming', 3.0014752431566287), ('often', 0.8997796018371926), ('affecting', 1.2433930131819824), ('Clones', -0.17783005623441153), ('relationships', 0.46631396861718727), ('Food', 0.3232063719929891), ('Love', 1.278805925184557), ('Chateau', -0.7026962664515848), ('cleverly', 1.2438990562166452), ('probes', 0.07297685314937252), ('cross-cultural', -0.0007289396173923276), ('differences', 0.8014477949983483), ('Tom', 0.10272434212633176), ('such', 0.03950163664930095), ('strong', 2.165150219739402), ('impression', 0.69569754899096), ('underwear', -0.07097257862261597), ('Aside', -0.020740213960846764), ('minor', 0.057652898010820526), ('1994', 0.03422673397234019), ('except', -1.405797875911339), ('high', 1.4521770857807317), ('evoke', 0.7238622011225909), ('confirms', 0.10422170865201968), ('Fincher', -0.6050340392727218), ('status', 1.0095812949888472), ('maker', -0.47426342351074985), ('technical', 0.12244034673447103), ('service', 0.2187001851973338), ('Vera', 0.4481392178139083), ('three', -0.5400092244084929), ('insightful', 1.3290403062709855), ('marvel', 1.559644838086708), ('none', -3.286712085818191), ('With', -0.7368137113440427), ('tightly', 0.0022846330358681343), ('organized', 0.7910846726811663), ('efficiency', 0.41300560686235027), ('numerous', 0.7183173808757373), ('flashbacks', -0.6792912115016748), ('constant', 1.4816725644598006), ('edge', 0.8275301011537106), ('adult', 0.4278371050108735), ('Mr.', 0.3689108495026745), ('Tsai', 0.6509408199058974), ('artist', 0.45089823982925764), ('medium', 0.42776803521306633), ('Time', -0.973354340094806), ('Is', -0.720834993888644), ('script', -0.7329799509639262), ('creatively', -0.20267639575504712), ('constructed', 0.1793163540660063), ('figure', -0.6585155468153946), ('equally', -0.2682637631148891), ('giant', -0.19041461006192706), ('screens', 0.0004754275027367147), ('heartbreaking', 0.588387046379944), ('natural', 0.4651034260070384), ('unforced', 1.736428649635121), ('entirely', -0.5933833012311915), ('True', 0.6673954557419468), ('complicity', 0.010301851050897495), ('Auschwitz', -0.6246361142946412), ('harrowing', 1.5163191694722946), ('tries', -1.5974288200902758), ('tell', 0.9689959046277709), ('Gives', 0.559036096607466), ('steady', 0.2409468003670172), ('pulse', -0.9978447116377885), ('city', 0.8751344517574645), ('viewed', 1.057625438660718), ('eyes', 1.7343277097119483), ('spite', 1.771184829986906), ('bones', 0.9232949476413993), ('luckiest', 1.3035206877329042), ('alive', 1.392482505666363), ('MacDowell', 0.6597939881316912), ('Southern', 0.023200928757380113), ('anchored', 0.05172903323007134), ('lighter', 0.6212364157132007), ('brings', 1.7147875069973024), ('conviction', 0.7002262211051067), ('role', 1.0702005972660775), ('forget', -0.7194339147750659), ('admire', 0.769054695693832), ('conception', -0.7448087809773646), ('able', 1.0606937127061205), ('relate', 0.35292651434222944), ('peace', 1.0405922175921591), ('dramatically', -0.8665763836637431), ('others', 0.8178840208555855), ('Esther', -0.8594674655731045), ('quest', -1.2204418649653026), ('lovers', 1.1517114192951001), ('Tosca', 0.933107814234003), ('bleak', -2.9030151098205708), ('desperate', -2.009228495394921), ('Moretti', 0.001528872007905235), ('process', 0.1622183952868983), ('intermittently', 0.32578141188681736), ('engrossing', 2.8167968284961438), ('creative', 2.1304362926843416), ('convoluted', -1.7321762921313717), ('muddle', -1.742659698211036), ('final', 0.48556619442691495), ('painfully', -2.2307443117899486), ('ode', 0.32193599261496514), ('bad', -3.163030994955712), ('behavior', -0.5877427556997269), ('Easily', 0.06242131708574966), ('choice', 0.7176142876142445), ('Charles', -0.5225488780947071), ('chronicles', 0.02795850673385613), ('Seinfeld', -0.7866323205068342), ('stand-up', 1.5025009056837), ('after', 0.2649560105205042), ('wrap', -0.07156460988870927), ('legendary', 0.7766801505556988), ('sitcom', -1.9601321932236535), ('wannabe', -2.929784682769007), ('comic', 0.8722274001146615), ('Adams', -0.5598914607953567), ('attempts', -1.402040572908472), ('dogged', -0.3573540357288728), ('vain', -1.3757606807343592), ('Jia', 0.10686084825987975), ('ego', -0.8104580340958085), ('doldrums', -0.2584163061072985), ('volatile', -0.12582763881345502), ('dynamics', 1.4685426345529353), ('female', 0.7923064109334816), ('unhurried', 0.6965505100352757), ('low-key', -0.5338946394618996), ('positively', 0.9370328323033175), ('rhythms', 0.2030914029946686), ('resonance', 0.5241197176020127), ('densely', -0.22222206436647735), ('referential', -0.2975755954703351), ('audacious', 0.6990918694317994), ('comfortably', -0.20342190288364784), ('sit', -1.131722161143401), ('Godard', 0.08258548816327262), ('packed', 0.8543537529551071), ('telling', 0.8349173372622487), ('brilliantly', 1.5263246121391232), ('Candid', 0.23190268332254058), ('comfortable', 1.7333198974913016), ('balances', 0.9760861759820915), ('lets', 1.0978387878495266), ('grasp', -1.082087483513794), ('naturalistic', 1.2760220450481576), ('speaks', 1.1036322574594097), ('volumes', 0.35476210532676095), ('anybody', -0.30155614013151116), ('drastic', 0.4746330843684728), ('changes', -0.1108398528907996), ('Some', 0.07944468832400044), ('Body', 0.46892836033836893), ('dig', -0.29468351040280377), ('tricks', -1.1122706140866008), ('rent', -2.505765395708528), ('primitive', -1.4169934989932833), ('vast', -0.35685903150803905), ('collective', -0.2432034402011513), ('flesh', 0.33803121178365364), ('high-spirited', 0.6565704980934646), ('musical', 1.1039362790418403), ('India', 0.11104064724681609), ('blends', -0.007488842776349206), ('dance', 0.8310355298366733), ('song', -0.12363993957545494), ('hard', -0.9915555961796594), ('imagine', 0.3778624335967772), ('Alan', 0.1608998224949555), ('Despite', -1.7029348557522572), ('animation', -0.2895404797647709), ('surprisingly', 1.3099448183961468), ('helped', 1.275801790891321), ('presence', 0.7578456557721709), ('Jean', -0.36617946357880915), ('Reno', 0.2570060074989561), ('60', 0.3197161484709656), ('information', -0.14873013088332013), ('impressions', 0.5410810657051507), ('endlessly', -0.600317472296241), ('hip-hop', 0.21156826098034245), ('project', 0.5366248557050796), ('sensational', 1.9612026980139177), ('revelatory', 1.4913833268947252), ('scratching', -1.2392092062298063), ('itch', 0.3109975523157673), ('Further', 0.20653461756964495), ('proof', -0.041149113625742445), ('epicenter', 0.5901742789791439), ('foreign', -0.0869974346219369), ('middle', 0.20760504620047043), ('Evil', -0.13837677520077246), ('idea', -1.3148079499118417), ('presents', 1.1655087877021995), ('unforgettable', 1.711127853767127), ('panache', 1.6621558117931707), ('gritty', 1.8092912654991729), ('ensemble', 0.44287080031152154), ('encompasses', 0.629619549365264), ('potent', 1.9637281559865567), ('metaphor', 1.3244476030813632), ('country', -0.986771848629127), ('dealing', -0.4161792850795292), ('Lovely', 1.427158315541863), ('Puts', 0.17861989960911523), ('land', 0.23603102760670364), ('Westerners', 0.9357492788955476), ('equal', 0.9070831800088914), ('amounts', -0.6340779463175785), ('naiveté', 0.0008657254498289188), ('Beneath', 0.06273879090668424), ('establishes', 1.0155464016307596), ('vitality', 1.457022488693725), ('intensity', 1.2843049274983211), ('combat', -0.2930309430577214), ('specter', 0.3499338320701291), ('grandeur', 1.24796541897641), ('Black', -0.11150844177262582), ('money', -1.8155804876932524), ('pocket', -0.33265217313216633), ('motion', -0.018138734265909843), ('released', -0.45701228495988705), ('remembered', -0.8397549737986882), ('afterwards', -0.33342996404309905), ('minute', 0.5381668813368632), ('winning', 1.8721776953051035), ('Canadians', 0.03296887380269709), ('laughs', 1.7055896978124507), ('sentiments', -0.19094322954051746), ('counterparts', 0.3888931113591924), ('anywhere', -0.09593499118113144), ('else', -0.4965799899196642), ('Just', -0.3556929005049097), ('uplifting', 1.9633448231213257), ('Wife', 0.061046590179359206), ('Actress', 0.2713358523678955), ('utterly', -0.3138960308741568), ('sensibility', 1.1713366656225106), ('virtually', -1.8660914243629465), ('remake', -1.1134860556238468), ('grip', 0.3415056697097908), ('viewers', -0.5275963817651146), ('interested', 0.32171035337115783), ('cuts', 0.34529090603063584), ('society', 0.36982185452749605), ('unnerving', 1.527389507102875), ('captivating', 1.7575250978635073), ('trust', -0.04046867819073947), ('Belongs', -0.011873094880332344), ('Day-Lewis', 0.3653459793323197), ('Scorsese', 0.6505310355082223), ('unusual', 0.9379730438499919), ('exhilarating', 1.869695771036128), ('futuristic', -0.32248239412497076), ('Minority', 0.5714937725228149), ('Report', 0.2782440995260706), ('twists', 1.3965367828756574), ('technology', 0.5719601087424394), ('delivering', 1.0199690060450712), ('escapist', 0.7674132459856642), ('order', 0.44646714203412596), ('genuinely', 1.3441799072921583), ('spooky', 0.7772179119865539), ('above-average', 1.0441997059920067), ('Bill', 0.11654392630323285), ('directing', -0.26120881159171), ('kick', 1.020227603637863), ('rest', -0.45516157007091274), ('fast-paced', 1.034020939082374), ('quirks', 0.8639999314535535), ('award-winning', 0.37868128512063565), ('Coen', 0.9198331962024302), ('brothers', 0.7222386889976423), ('envious', 0.6203666836223529), ('Pumpkin', 0.037231612843521306), ('admirable', 2.481029418082566), ('hypocrisy', 0.11768725323669138), ('correctness', -0.562979505923326), ('uneven', -3.1219092564884168), ('tone', 0.42418294644478044), ('tragedy', -1.9959010046884225), ('begins', -0.37817594301546625), ('raunchy', -1.1711769222240833), ('college', 0.3592763862289543), ('ticket', -0.9660481631182207), ('Few', 0.20216696965866268), ('perfectly', 2.032290813654095), ('dreams', 0.7689458083808735), ('boys', -0.30510675305454266), ('grown', -0.4352651232755851), ('stands', 1.2127365880491892), ('schmaltzy', -2.1563454237974558), ('predictable', -2.632506644435427), ('heartwarming', 2.532731332467913), ('nonetheless', 0.5591622398997915), ('D.J.', 0.09042205965915286), ('Caruso', 0.1355353266718657), ('directs', -0.03499345387406681), ('crack', 0.8696837488256902), ('bringing', 1.7394013594216324), ('screenwriter', -0.7713588930724625), ('Tony', -0.013732066153308534), ('Gayton', 0.42529897733292027), ('noir', 0.6844391332152501), ('Every', -0.30273360192820065), ('where', -0.7653684475931646), ('celebrated', 0.5918274427137206), ('Harris', -0.06506824211734127), ('commands', 1.1094224322246695), ('using', -0.22955443199120543), ('frailty', 0.6839670221505446), ('suggest', 0.5761004715872302), ('corruption', -0.8840627030220396), ('Stephen', 0.1838419154668306), ('Rea', -0.21485093376762024), ('Quinn', -0.3473339062886903), ('Bates', 0.10242205092966579), ('legal', -0.42080264788882105), ('joined', 0.18075716386980567), ('Brosnan', 0.5177849867992783), ('sight', -0.12226629907240721), ('grandiloquent', -0.29999594038579674), ('pretty', 1.145446144563476), ('Irish', -0.3559111959505179), ('pleasant', 2.913842340848135), ('Director', 0.4030278125394458), ('photography', -0.032505306256722), ('delicious', 2.3933005914877805), ('sets', 1.2839339708244177), ('relatively', -0.32827420618973224), ('affable', 0.013936463553810289), ('illuminating', 1.1336826702900165), ('transcends', 1.4293303764625709), ('vision', 0.4839246668733028), ('Holy', -0.32364445534803116), ('Land', 1.384529918353071), ('inhabitants', 0.22964007110096926), ('revealing', 2.159952307231119), ('complexities', -0.2730412866767762), ('deliriously', 0.03068148744600556), ('loose', -2.1225145057700567), ('uninitiated', -0.45445368791120067), ('triteness', -0.7528057320212416), ('simplicity', 0.36846684174075206), ('tossed', -0.37352010976172595), ('window', -0.8046722388184321), ('achieves', -1.5023065507595126), ('impact', 0.4380779947386392), ('keeping', 0.576760765177724), ('these', 0.35664039928766067), ('hidden', 0.5897346157819185), ('did', 0.47356301374387477), ('showing', -0.06693909500803324), ('colorful', 2.449147393890834), ('intimate', 1.3388814906404936), ('Undisputed', 0.8348604755914987), ('exactly', -0.5108372492354624), ('Hill', 0.6001259894918106), ('Wiseman', 0.9263383212608776), ('treatise', 0.40080031176214725), ('told', -0.05061382668262787), ('earnest', 0.759128143194979), ('personal', 1.3805569568683993), ('illusion', 0.5951480720513997), ('poignancy', -0.4390247654894309), ('recreates', 0.34612307759221533), ('happen', -0.9980865541145045), ('car', -0.7973684250780543), ('chases', 0.7616697884575703), ('fight', 1.224975027585047), ('Asian', 0.5093605092408732), ('influences', -0.013042355118072654), ('Liotta', 0.3415288726738006), ('30', -0.7210170233184815), ('transformed', 1.0382700142809145), ('Goodfellas', 0.6961738945535115), ('image', 1.4068384618282934), ('pic', -0.5548439466867949), ('bumbling', -0.8261997995054812), ('vehicle', -0.26275983720812734), ('kindness', 0.767306937942567), ('grimly', -0.704654807786107), ('competent', 1.7452655990654948), ('stolid', 0.2071079260585882), ('Piccoli', -1.264600733678536), ('minimalist', -0.3906805686788536), ('Very', 1.1886713687949866), ('seductive', 1.062778160221932), ('James', 0.4058358774811591), ('rousing', 1.0048965090197768), ('score', 1.1791709589914243), ('use', -0.19486307750278398), ('hefty', 0.9397327328705247), ('system', 0.7360440993076987), ('heels', -0.00021893495424890348), ('Ring', 1.1524675434129625), ('similarly', -0.017418506026765583), ('morose', -0.11472151585392265), ('humorless', -1.5639462767938803), ('although', 0.07265573948882784), ('flawed', -2.2824866675581577), ('commended', 0.5599847483253884), ('straight-ahead', 0.38564698112932644), ('approach', -0.5331383070191607), ('creepiness', -1.0306899766577045), ('Rabbit-Proof', 0.3494954366652356), ('Fence', 0.42791739082398184), ('Noyce', -0.7702062716836576), ('economical', 1.2361643324822955), ('reminded', 0.630915291769596), ('amazing', 2.2275887487149446), ('accomplishment', 0.6249209112612505), ('Haynes', 0.6728124911270914), ('absolute', -1.033627448024749), ('control', -0.3056798546477644), ('From', -1.9136820879938659), ('Heaven', 1.5707690681978372), ('stylistic', 1.4914286662162604), ('act', -0.41610633510011), ('Birthday', 0.329463913319764), ('Girl', -0.5496744248694796), ('joy', 1.8660624942809698), ('violent', -1.7152946652091383), ('More', -0.9216577619234804), ('ultimately', -1.0503464793005415), ('Writer-director', 0.2323843536259537), ('Mehta', -0.4810316253044914), ('effort', 0.07403130151054156), ('tons', -0.4114383394833125), ('whimsy', 1.246653450167809), ('mixture', -0.13755993814887543), ('intoxicating', 2.0445538796378586), ('masala', 0.05454720046549047), ('cultures', -0.05066879872941684), ('genres', -0.08090723230386274), ('draw', 1.7895644088614415), ('Big', 0.8554524907334862), ('Bad', -1.7496826819681304), ('Arliss', 0.01902485694257981), ('Howard', -0.6654107269191477), ('onto', 0.5595128771939465), ('reasonably', 0.012512785671731407), ('bewilderingly', -0.4057807031248696), ('underrated', 0.704815689479604), ('Campbell', 0.018726638045426694), ('short', -1.4874884672659225), ('wants', 0.3146777305440513), ('respect', 1.9594249573042097), ('due', 0.6518331716356534), ('focusing', -0.05930436041332719), ('Zhang', -0.9235104219181025), ('done', 0.38852982307894535), ('job', 1.301454424579239), ('getting', -0.6808946461021906), ('mainly', -0.6918713135363012), ('examination', 0.8389634151817748), ('male', -0.8411270593267023), ('midlife', 0.11219948129776344), ('crisis', -0.0737882290077658), ('Lathan', 0.06534791342973498), ('Diggs', 0.02835653085750613), ('Fat', -1.7633440644847165), ('Greek', -0.4287789478448081), ('stereotypes', -1.7531751638980677), ('lovingly', 0.7936808168719272), ('sort', -0.24621809056397556), ('Hitchcock', 0.48691940664033917), ('optimistic', 1.6064088338447122), ('First-time', -0.29014599878787706), ('writer-director', -0.5915708511637631), ('Serry', 0.21162017973279634), ('remarkable', 3.120736149029011), ('storytelling', 0.36892226013155255), ('effective', 1.3354041747881673), ('Egoyan', -0.34444978951031446), ('conjured', 0.003856609918431055), ('multilayered', 0.5279036486171662), ('tackles', -0.8140015281061819), ('number', 0.3058494518656029), ('source', -0.30603971975664507), ('sincere', 1.7245800396643831), ('contrivance', -0.05891731125982896), ('orbits', 0.6836056348487887), ('careful', -0.19925401138731544), ('pace', 0.40649071922581737), ('seemingly', -0.5712942452761061), ('opaque', -0.682105464682838), ('satisfy', 0.48244064632094597), ('moviegoer', 0.9371897639478474), ('appetite', 0.16223544887906263), ('transparently', -0.09653622018493989), ('Hardly', -1.4474865815230373), ('introduces', 0.5587167673209933), ('charitable', -0.054522918305236936), ('enterprise', 0.13477820851195046), ('Based', -1.1193658062574363), ('expense', -1.1438595517825807), ('somewhat', 0.39879060942246036), ('clumsy', -2.7337857931487237), ('lethargically', -0.7746781331564939), ('paced', -0.21959038733486305), ('creature', 0.1300596863046717), ('psychic', -0.09711871598640742), ('abilities', 0.32991589592288145), ('offers', 0.8012792680672218), ('build-up', 0.08728306704814841), ('climax', -0.3493889652140166), ('nice', 2.6174139524727162), ('chills', -0.20266082402672814), ('Exciting', 0.9482413325097435), ('direct', -0.17111163252204584), ('ghost', -1.3594200785436272), ('imagery', 1.4049099723695098), ('toes', 1.2506855255119023), ('Anne', 0.18178373848721147), ('Fontaine', 0.8272376744514849), ('nervous', -1.4259828741204446), ('breakdown', -1.4164862747491505), ('lane', 0.8786391556929765), ('lacks', -4.459694347501398), ('focus', 0.30842165238764896), ('Corcuera', 0.4192136830649938), ('seeds', 0.523361943523124), ('thoughtful', 2.681472649493699), ('conflicted', -0.012148373769270485), ('quality', 1.2774019801319194), ('combined', -0.00043018412008797685), ('intelligence', 1.3792938762397324), ('present', 0.7528456633704248), ('biblical', -0.46833287401344764), ('forgiveness', -0.28276284383618705), ('taking', 1.0809467085690119), ('qualities', 0.2914351361467981), ('Another', 0.5567763527922431), ('Divine', 0.45716061708136935), ('Secrets', -0.8236189576256678), ('Sisterhood', 0.6301627922483691), ('writing', -0.8967327061299614), ('punch', 0.5056959121510947), ('exceptionally', 0.6921962240847642), ('enriched', 0.573117740875964), ('eye', 0.6957842339603465), ('manners', 0.25671768926842337), ('mores', 0.20923479757427757), ('coming-of-age', 1.815817662243056), ('everyone', 0.3640047184957961), ('sees', 0.8369333853058709), ('taut', 0.6088934562528376), ('waste', -3.475349471620735), ('moment', 0.775961509272453), ('two-hour', -0.17633504889696744), ('offer', 0.7770867348550236), ('Punch-Drunk', -1.095003373756691), ('heavy-handed', -1.8694348464300083), ('jabs', -0.8270117942838984), ('employs', 0.5641221987053224), ('placed', 0.8481017188902437), ('subversive', -0.4844049240719452), ('bent', 0.23000260940887707), ('Blanchett', 0.3388715199166912), ('tracking', -0.43481113746622235), ('breadth', 0.6666583596567845), ('intimacy', 1.1462809630566924), ('meaning', 1.2663856351234815), ('distinguishes', 0.31028498137862903), ('Favor', 0.7335499220821718), ('countless', -0.02499021907798179), ('thrillers', 0.8836060643614921), ('underlying', -0.12545229648599454), ('concern', 1.4231924352199963), ('words', 0.5374879626888227), ('complicated', 0.7476540093024135), ('terrorist', -1.5964997395171054), ('acts', -0.01553588042162101), ('Smart', 1.0071978912144173), ('provocative', 2.688318551724343), ('Filmmakers', 0.33809647181416586), ('moods', -0.11566210684419126), ('mild', -0.6091026149311831), ('clashing', -0.8787385272114185), ('today', 0.4269568478286525), ('New', 1.3187514715081006), ('Delhi', -0.5198591266529564), ('Soderbergh', 0.7194250884805888), ('Solaris', -0.20727103267159525), ('failure', -4.2455351701341995), ('glorious', 1.7213755852731314), ('bright', 1.0667435218165218), ('light', 0.11191333653510194), ('modern', 1.4335082770074232), ('day', 1.0751632206356039), ('parable', -0.48662157892280117), ('wears', -1.6619089672485587), ('sleeve', 0.10830719037705669), ('scattershot', -0.2941884853779574), ('affair', -1.4348331747079524), ('hits', 0.286165000856293), ('mark', 0.918311206492273), ('intellectual', 0.5819208955510649), ('entertains', 1.2979867430013037), ('maddeningly', -1.1213975504157705), ('dangerously', -0.0656126173098348), ('Auteuil', -0.27059588924944067), ('covers', 0.6197949645291378), ('results', -0.46359402417364604), ('spellbinding', 0.8702686839103361), ('African', 0.9813081495485841), ('condition', 0.35359094759907383), ('state', -0.5986076732250075), ('experienced', 1.1938090590779682), ('millions', 0.34226768238671806), ('globe', 0.007589328403708514), ('improvise', 0.4669706812818977), ('moody', -0.00764778250481569), ('sci-fi', -0.9901209312830314), ('mystery', 0.24623962936105964), ('allows', 1.4083101054235556), ('well-made', 1.2838145516589), ('snappy', 0.0757901000154968), ('team', 0.5905309999502655), ('Susan', 0.21202651047199794), ('Sarandon', 0.43787660400653877), ('Goldie', -0.2603987569182142), ('Hawn', -0.606600180702463), ('Wilde', -0.3576268858075909), ('Importance', 0.37207886458138967), ('Being', -0.4293241146012018), ('Earnest', 1.7459260915631836), ('19th', 0.08271287809126707), ('century', 1.2996204032164802), ('relentless', -0.6169333988843153), ('polished', 1.5300258585932858), ('withstand', 0.4480056174164164), ('inept', -2.703765494923406), ('Oliver', 0.8232536203282912), ('adaptation', 0.7583675729358175), ('encounter', 0.648449638267626), ('Brilliantly', 0.5233479444280988), ('following', -1.2047472185135888), ('demands', 0.3883147127816969), ('tradition', 0.8092587316764084), ('Part', 0.34830887398435606), ('low', -2.3300174024633384), ('Light', 0.46082636831363327), ('\\\\/', -0.6918494795580598), ('several', -0.5348215982997544), ('speeds', 0.15339988434671636), ('levels', 0.664778537884353), ('pitiful', -1.804529982803742), ('Insurrection', 0.4568233413760834), ('Lion', 0.5767537765389205), ('King', -0.10381775396160184), ('success', 1.9203253554065238), ('eight', 0.1255832224533113), ('Imax', 0.3852810609132737), ('bigger', 1.5328728021640678), ('played', 0.8541708216445234), ('understated', 0.910169639214812), ('plays', -0.7539862379865936), ('thanks', 1.458438362423634), ('large', -0.13255575660680788), ('measure', 1.258084426607326), ('actresses', -0.17579561989222933), ('inspirational', 1.7352855463093053), ('screenplay', -0.19322747747863478), ('Rich', 0.731067188382311), ('ground', 0.05982935500008986), ('ties', 0.580278769085182), ('mainstream', -0.040595234363223515), ('suitable', 1.1217269460160486), ('entry', 0.36510726683199685), ('fest', 0.1999871504618294), ('circuit', -0.7809408880994071), ('Niccol', 0.05350339281097436), ('demonstrates', -0.4139647540025035), ('understanding', -0.4968169930300039), ('His', -0.07558336637713964), ('healthy', -0.2595777854949092), ('satire', -0.1799588339692681), ('About', -0.17770572713883198), ('heroine', 0.6492739939440435), ('fights', -1.6686322887128704), ('artful', 1.3277190134007522), ('within', 1.6873626452317605), ('confines', -0.26848134582004407), ('Majidi', 0.43900399474131013), ('unconventional', 1.182762080369108), ('storyteller', -1.1776810730891212), ('depressing', -3.397323068277304), ('places', 0.10158353815859772), ('Richard', 0.18162977573904984), ('Gere', 0.27860357482570147), ('Diane', 0.26920583254808206), ('Lane', 0.5433787033742433), ('figures', 0.29591995028405177), ('surrounding', -1.386762606850167), ('wild', 1.1033118763668284), ('stuff', 0.4262429866684549), ('camera', 0.44092603775368683), ('sits', -0.09592679038397245), ('room', -1.288529164570503), ('next', -0.28918898705784035), ('demented', -1.885777532329582), ('kitsch', -0.07963130289709486), ('mess', -4.07313631339894), ('smeary', -1.4276001043544637), ('digital', -0.16017404224837128), ('video', -0.8783464350924576), ('match', -0.6672604209855219), ('muddled', -2.3903480241441093), ('savvy', 1.9482903063359422), ('celebrity', 0.3424340586682714), ('guts', 0.8327990849031137), ('open', 0.6405336198476816), ('outstanding', 1.4641616801933697), ('appreciated', 0.4140690033672546), ('folks', -0.8717896802994972), ('submarine', 1.2678409283393755), ('frankly', -0.3955615544872498), ('live', 0.5892219084708403), ('necessarily', -0.20128477271860365), ('pertinent', 0.346519440832324), ('cinematically', 0.025642097082673905), ('fairly', 0.3541894545827175), ('scored', 0.27203912592146606), ('perfection', 1.3002352428602586), ('myself', -0.6247555811941011), ('struggling', -1.570437681272777), ('finger', -0.6942929512706906), ('elusive', 0.05422945073130523), ('missing', -2.572119438347016), ('anarchic', 0.9570966505150974), ('non-stop', -1.4374062802870415), ('Kieslowski', -0.8565113560040072), ('Winter', 0.1614402987412591), ('Nicks', 0.5228626183668188), ('uncertain', -1.860834211049813), ('gamut', -0.11146447728203082), ('stale', -1.8416860229908532), ('parody', -0.11476105122567931), ('gags', -1.2714913117031608), ('written', 0.9973586904645997), ('pass', -0.5869790525588604), ('kicks', 0.9741821761139258), ('Hartley', -0.9199098042000857), ('E', 0.0012448907942986531), ('heroism', 0.6620565446187591), ('am', -1.0591188433229628), ('sorry', -1.6568600648581018), ('unable', -1.765652078855678), ('obvious', -2.0531313798800768), ('simplistic', -1.2122507503330477), ('Looks', 0.2645834398759764), ('suited', 0.04343211661675187), ('resembles', -0.4025171858816149), ('benefit', 1.3433938718134524), ('implausible', -2.6449700943740675), ('popcorn', 1.6774715025558824), ('inoffensive', -1.0919052857155618), ('built', -0.27597478431993394), ('set', -0.2731854363912385), ('party', -0.5637385463146513), ('pop', 0.6801757362044608), ('numbers', -0.011989431511816698), ('aside', 0.26355249609920506), ('camerawork', 0.5043795606458896), ('hackneyed', -2.3671334288807646), ('plain', -1.8493577720276455), ('crude', -2.3713030095725536), ('calculated', -0.525985695896006), ('shocked', 0.001852902224881936), ('laughter', 1.4662124235133913), ('palpable', 0.8336696987666316), ('hinges', 0.08276296750272602), ('strains', -1.4120207194547556), ('credulity', -0.008530995602887323), ('leaves', -0.5446255591564721), ('viewer', -0.2030739127653468), ('haunted', -0.5732962437568514), ('They', -0.0034335912065829146), ('called', -1.6128173741546603), ('stay', -0.5657635215825592), ('amused', 2.0769552601290107), ('self-important', -0.9253075785415787), ('plodding', -2.53119283809558), ('abbreviated', -0.19708956827722263), ('Scottish', 0.6225335594703919), ('Ritchie', -0.11659905393379132), ('obviously', 0.19268923728018036), ('Less', -2.346955693004509), ('dizzy', -0.12870716019939704), ('jaunt', 0.6094387504625327), ('practically', -0.3146377764416838), ('Taylor', -0.5285964613490433), ('appears', -0.782995638399391), ('blown', -0.33770548504356435), ('entire', -0.5696969981083135), ('budget', -0.901427446141713), ('left', -2.3369984476899246), ('jokes', -0.8534629246915929), ('drags', -2.213596312622371), ('miserable', -1.941935238448423), ('unfold', -0.6418036828349181), ('Villeneuve', 0.10624812793356986), ('spends', -0.2870053143899452), ('wallowing', -0.4351333964496079), ('Bibi', 0.6378366479605349), ('generic', -2.7370998137436056), ('angst', 0.6226117457497211), ('shots', -0.09712081660665851), ('windows', -0.0007142830964491434), ('florid', -0.9452698516013188), ('Rice', -0.437303173865203), ('rock', 0.5108774189828859), (\"'n'\", 1.5951006479577566e-05), ('roll', 1.7524460780551459), ('vampire', -0.29774158163808634), ('built-in', -0.5198488006606508), ('silliness', -0.7107554938241738), ('defeats', -2.525547910538022), ('photographed', 0.2814841912238888), ('lighting', 0.13181091570355036), ('indie', 0.10589408876122168), ('naturalism', 0.14611909415144622), ('meaningless', -1.3120610840256204), ('downer', -1.0787579119284791), ('Too', -1.7409808675802274), ('falls', -2.513569560466092), ('flat', -3.7252976849957085), ('pointless', -3.5645260204367064), ('endeavor', 0.5769823222884367), ('piquant', 0.11973887089601669), ('dramatic', 0.7667599073151118), ('meat', -0.5663334245695619), ('bold', 2.0646294001244887), ('heightened', 0.9232577236937026), ('hide', -0.9228506865235218), ('Stuart', 0.6810843925136285), ('Little', -0.33111047513152464), ('2', -0.22497889153537035), ('believe', 0.5242605577339513), ('load', -1.4279009820610087), ('junk', -3.2260058722969536), ('scary', -0.287305830414053), ('child', -0.41703733714863883), ('suffer', -1.3542151127360063), ('embarrassment', -2.045376243838926), ('vague', -1.8112515627852233), ('shame', -2.9131211830357358), ('accumulated', -0.5386149166845253), ('green', -0.02545056488913271), ('flame', 0.12462560840631007), ('tattoos', 0.43478708618112405), ('covering', 0.5541970323617644), ('shoulder', -0.002023255992126954), ('however', -0.6646012783329166), ('Kilmer', 0.15159796438652504), ('posing', -1.2241910909859215), ('hole', -1.526017405529444), ('center', 0.28731702540236387), ('Salton', 0.16371175457755408), ('Sea', 1.1865813240552545), ('When', 0.2388777143278621), ('ended', 0.3545996539004885), ('felt', -0.11020166588688163), ('tired', -2.8187857455964584), ('drained', -1.8796301125419472), ('wanted', 0.6789128800040133), ('lie', -0.23791026589513167), ('thin', -2.3105090031459867), ('nonexistent', -1.0561339107791843), ('pretentious', -3.521419424772439), ('days', 0.3400567902668663), ('after-school', -2.27301426509836), ('fancy', 1.1617373299557252), ('rote', -1.672497076910954), ('connect', -0.019221893646760364), ('93', -0.17893383380171649), ('maddening', -0.5079366126838101), ('Should', -0.26466726165781246), ('based', 1.1867625926255185), ('starts', 0.26572633397715717), ('corner', -0.42545798413597674), ('Why', -0.9217009875927156), ('marginal', -1.0336394749869462), ('historical', -0.13394425710661953), ('lower', -0.8351011310326768), ('expectations', 0.07331686103994733), ('Rarely', 0.2740411981659468), ('looked', -0.8120303896280677), ('shimmering', 0.48105882356781127), ('attempt', -0.9482972607830029), ('awful', -2.0872475596035547), ('Velocity', 0.14482933426683817), ('represents', -0.12576394801321275), ('everything', -0.618839685992279), ('wrong', -1.9956333636213965), ('independent', 0.7710939012577255), ('filmmaking', -0.4165632714985233), ('Because', 0.6216194938299635), ('unnecessary', -2.9697956773490133), ('Swimfan', 0.24776801154186787), ('Moonlight', 0.7329803367364452), ('Mile', 0.7329803367364452), ('replete', -0.2831356957493868), ('acclaimed', 0.6153502291588114), ('self-conscious', -1.6516587848849051), ('reach', 0.10758795625007693), ('Corpus', -0.3507740082944788), ('undeniably', 0.09878246585526519), ('wore', -0.8531335181990944), ('credits', -0.48377761833162214), ('rolled', -0.14161022770566073), ('20', -0.7068173803009585), ('redeeming', 0.4352022857901502), ('teenage', -0.5162450592562235), ('road-trip', -0.8170566403606274), ('drek', -0.5782395953108079), ('fart', -1.9744705805701628), ('guy', -0.473327762414364), ('unlikeable', -1.2151703700614047), ('Shiner', 0.9946686335650875), ('starring', -0.12704634629883532), ('Caine', 0.37996303898866474), ('fortune', -0.3292463748344642), ('by-the-numbers', -0.7253771257845529), ('enhance', 0.13324104416072574), ('mysteries', 1.2379412149508302), ('featuring', 0.9220107419743166), ('badly', -2.2405864531838584), ('outcome', 0.06865269703504476), ('hardly', -3.966182037096041), ('low-budget', -2.1802691398658465), ('pilot', 0.2938622691705456), ('tube', -0.98812736129778), ('lesser', -0.4659920498056823), ('Harrison', 0.07361230181171183), ('Ford', -0.743282125809016), ('Days', 0.19611008806094504), ('Seven', 0.3616078767846882), ('Nights', -0.2192081414522946), ('dreadful', -2.3058439743836727), ('lost', -2.2519475574279606), ('translation', -0.27059358229513186), ('evidence', -1.059137143520945), ('clunker', -0.9011213589903324), ('somehow', -0.14134486559676793), ('managed', 0.926746458748426), ('actual', 0.6037985634581371), ('admission', 0.3920014290977512), ('hyped', -0.3174524262386222), ('purports', -0.8613809114517544), ('self', -0.8572373830548279), ('padding', 0.1956197739214358), ('material', -0.34957895041429804), ('distracting', -1.2681313907731497), ('definitely', 1.7497270336863118), ('skip', -2.1953663892026922), ('fanatics', 0.5487752369461532), ('profane', -1.4090511501296243), ('cartoonish', -1.5069338439597408), ('Once', 0.34519943886692367), ('50', -0.39834354210834405), ('old', -0.8388365562358181), ('Benigni', -1.0072430315262157), ('ourselves', 1.1266541594555197), ('longing', 0.8554013344200907), ('block', -0.1011922170484712), ('wood', -0.47732865447731443), ('working', 1.2967447157082075), ('vs.', -0.9934586366923612), ('liberal', -0.07246011697697569), ('cause', 0.19709953795373153), ('succeeds', 2.4358393895316706), ('wary', -0.6002977044361468), ('grace', 2.059376595501784), ('simply', -0.31072680936892383), ('floating', -0.407135231610685), ('farce', -1.6978850513042048), ('Doors', 0.13410808917382344), ('failing', -2.043227634414137), ('exploit', -0.5308831627688625), ('strange', -1.1200313831750703), ('laziness', -1.5006214073157684), ('talents', 0.8510951258273493), ('Robert', 1.328927942820204), ('Forster', 0.21370194703739046), ('Meara', 0.043165970641910384), ('Levy', 0.29955830885641943), ('Reginald', -0.20836415992700835), ('hilarity', 1.7132030374107492), ('Expect', -0.04380656698116503), ('slasher', -0.8073078801309603), ('nonsense', -1.8945305980169513), ('would', -0.929043364875262), ('Pinocchio', -0.0033650186029886313), ('borders', -0.06781765843924609), ('grotesque', -1.2350077409228286), ('Zaidan', -0.2881311551063369), ('barely', -2.214734361863434), ('string', 0.7468334905214506), ('stunts', 0.9957095023543148), ('characterization', 0.3537299576853994), ('faces', 0.21658893830404763), ('straight', 0.028707516098607885), ('Try', -0.07697993032135093), ('single', -0.8650824958958017), ('reason', -1.1896570584186619), ('group', 0.6300308615050854), ('Leguizamo', 0.2566532360908117), ('irritating', -2.824482017948233), ('late', 0.6722245961260257), ('treats', -0.3532625175249082), ('idiots', -1.7696645288776884), ('kiddie', -0.7082455543858829), ('paean', 0.3214875599988972), ('pro', -0.022956175877975448), ('basketball', -0.5108999206013807), ('NBA', -0.31367067201810805), ('Impostor', -0.6291958637082522), ('handful', 0.627337424674378), ('slim', -0.8229402156420836), ('facile', -1.0557468340569764), ('cute', 2.332232142947706), ('festival', 0.8011604262340014), ('camaraderie', 0.37550007541875324), ('Almost', -0.36314401832228743), ('gore', -1.708797334683989), ('How', 0.9048240056916179), ('spell', 0.4614475738847642), ('cliché', -2.555318833087338), ('dinner', 1.1192476809149141), ('forced', -2.065414961139045), ('host', 0.11422202799980023), ('home', 0.3461487323039346), ('baby', 0.4279452612240504), ('learned', -0.5208169370900375), ('salvage', -0.33364068934677843), ('lifeless', -2.0871087256957526), ('unfocused', -2.5484799121714734), ('underdeveloped', -1.0253700048221592), ('giggle', 0.6232346368266832), ('happens', -0.47672336861245973), ('blow', -1.999404816230779), ('10', 0.538347574160107), ('ai', 0.8215093763508733), ('Sometimes', 0.048936228675649195), ('needed', 0.056271087288343485), ('chest', 0.24798582447064083), ('worst', -4.464892541239723), ('champion', 1.2297559263526336), ('loser', -0.9996738179558056), ('wonder', 0.8400999402636645), ('earth', -0.5007634587658482), ('audiences', 0.3770434526486463), ('guffaw', 0.027068419423009565), ('diabolical', 0.5647501800667973), ('night', -0.8255333156720385), ('insights', 1.0524815357783273), ('gay', -1.4052434861706649), ('Chinese', 0.009805078985321547), ('price', 1.010461862162893), ('pays', 2.649479243260087), ('dishonest', -2.17614363537113), ('depiction', 0.9234353579948447), ('unendurable', -2.059888790460206), ('depressingly', -0.7289802510716863), ('prosaic', -0.42840008285530784), ('dull', -2.5580018166143317), ('stopped', -2.0215030606180537), ('Unfortunately', -2.367340258009199), ('silly', 0.009643781613125386), ('unless', -2.045933407962712), ('longer', 0.80516688505447), ('worse', -3.138280104765962), ('hear', -0.26220553235305494), ('talk', 0.9310544558201199), ('early', 1.4054790679874807), ('records', 0.41034411556144834), ('Sugar', 0.11218144714578628), ('etc.', -0.7974159384209322), ('unfunny', -3.420965477207164), ('downright', -0.5724797177479758), ('repellent', -1.685520901787879), ('Care', 0.5467860490316931), ('captures', 2.764290300635854), ('menace', -1.3133015299355688), ('growing', 0.9707174875690123), ('embraces', 1.4000684324096957), ('Fuhrman', 0.03300954482487643), ('destructive', -0.5669967878865482), ('escapism', 0.1922066576337598), ('condescending', -1.3220634729971146), ('Does', 0.9164996652203501), ('innocuous', -1.139279300068028), ('K-19', -0.47275569647592147), ('exploits', 0.00411060208380507), ('substantial', 0.8377767744459682), ('fear', -0.7869558654860483), ('nuclear', 0.2531523578348114), ('generate', 0.9197018820958289), ('cheap', -2.189916764215261), ('determination', 0.8017333579482406), ('immerse', 0.5341876402738331), ('sheer', 0.8279813233619502), ('unrelenting', -0.028844725800882383), ('exhausting', -2.423178750516309), ('fails', -3.1423752647723626), ('ask', 0.6567819920787028), ('searching', 0.06408215718358441), ('justify', 0.44821846316377945), ('pretensions', -0.8103854542530202), ('boring', -2.6791544362505935), ('sad', -1.6461148922986482), ('convolutions', -0.881808600946116), ('jerking', -1.086867717778436), ('nagging', -0.481456899021071), ('Ethan', -0.25215938810525185), ('Hawke', -0.5349138444806187), ('behind', -0.03317286737920511), ('front', -0.08688583193729217), ('Made', -0.16264825803283423), ('discernible', -0.4601602532082844), ('craft', 1.3767211511070545), ('sanctimonious', -0.5128087611826475), ('childhood', 1.1970725927290462), ('Holden', 0.39565399676174506), ('absurdities', -1.882649199992324), ('decadent', 0.40138530218865337), ('flash', -0.41222487278935555), ('emptiness', -1.615568425600343), ('Oh', 0.3560521017464762), ('turkey', -1.8715128108841395), ('rotting', -1.3223170290109634), ('slow', -2.1447227561946907), ('gang', -0.7777007996837076), ('streamed', 0.8366752174808859), ('modem', -0.3279193484671812), ('Carvey', -0.7685078708313213), ('Saturday', 0.025229962578052358), ('Night', -0.2608906691235078), ('rises', -0.9892481577529704), ('Chabrol', -0.3999103406694496), ('black', -0.5146444087691892), ('somber', -0.30179278981722557), ('weak', -3.012147150501919), ('clever', 1.8161340540284194), ('Space', 0.04200565835440489), ('melodramatic', -1.216834661366852), ('toxic', -0.44523516232241717), ('stretched', -0.8284898610014672), ('central', -1.3283120976361398), ('section', -0.6743006980796583), ('chase', 0.4729383019301653), ('goal', 0.2013259311041207), ('urgency', 1.3323973833005378), ('filler', -0.6752969609272769), ('value', 0.5947071055574896), ('wealth', 0.34845088818195746), ('archival', 0.3821496195634988), ('stance', -0.23777806039667454), ('lacking', -4.831422498863997), ('invention', -0.7432639425373391), ('Roberto', -0.7054785174697203), ('astonishingly', 0.16131043891166186), ('girl', 0.21355554857820577), ('extended', 0.2452134566420141), ('originality', 1.7196224658193675), ('cookie-cutter', -0.7941627659874136), ('cut-and-paste', -0.5860446772292998), ('narrator', -0.6632498341169775), ('stops', 0.1816719670086367), ('unsure', -0.5297529482950352), ('means', 1.7884983000615764), ('ambitions', 0.13205673246898575), ('writer', 0.40699189810954856), ('Adam', -0.9299100388615275), ('Larson', 0.27684545882827255), ('Broder', -0.003124518383978897), ('R.', -0.10040269349014551), ('campy', -0.26655692003035497), ('Vincent', 1.077313065776687), ('classics', 1.69195517632559), ('implodes', -0.7628255243013964), ('opening', 0.12458666374646277), ('All', 0.24247508212844202), ('Benjamins', 0.9385951520831816), ('totally', 0.052371403977963235), ('formulaic', -1.8558270889834982), ('qualify', 0.27624212723066016), ('expected', -0.8255284969864451), ('Ghost', -0.9492568361476897), ('Ship', -0.5784126231553777), ('murder', -1.6125520628948475), ('including', 0.743574776561848), ('altogether', 0.16853553189259193), ('wrapped', -0.24696312432878814), ('visuals', 2.2727870146576277), ('eccentricities', 1.54334862505163), ('confused', -1.7474668371843063), ('came', 0.6835382620288646), ('reacting', 0.6519624739356958), ('repugnance', -0.9395619554526069), ('banality', -1.8310286361670673), ('intention', 0.3573180909792898), ('opposite', -2.1965867382796707), ('Do', 0.30395073293742597), ('Delivers', 0.7401327397132684), ('Latin', -0.057129065797666786), ('stock', -1.358632003424379), ('double', 0.36719520830302105), ('Friday', 0.2633471029512526), ('To', -0.8441312359162012), ('call', -0.8090763690650693), ('Other', 0.21583557279068594), ('Side', 0.0879509160672244), ('appalling', -2.086049690014665), ('entertainments', 0.009394740679507062), ('89', -0.7992282031863838), ('passed', -0.3467440173865768), ('sitting', -0.7115384577620115), ('Formula', 0.7638476946669691), ('51', -0.6324978548867104), ('jerky', -0.4900588270855705), ('utter', -0.1452314613704863), ('problems', -1.8672680863229725), ('gone', -1.255379865677822), ('minus', 0.0037301375096320108), ('daytime', 0.5227087940918441), ('slickness', 0.43758135683664506), ('sophistication', 0.651820960113018), ('knew', 0.39098301704154004), ('Resident', 0.6518288936822714), ('games', -0.2925133500939271), ('standards', -0.3312809729022308), ('thrills', 0.8570076245389942), ('third', -0.7438654871563902), ('close', -0.8955108286950476), ('terminally', 0.35696511200217723), ('depressed', -1.816686828513783), ('inarticulate', -1.279620002395595), ('dysfunctional', -2.1543122128766656), ('families', 0.28333803688544784), ('personas', 0.5811936615740612), ('caring', -0.5888168452187368), ('suspect', -0.7288029289241821), ('offend', -1.5011694565301006), ('appearing', -1.163983673561145), ('lighthearted', 0.6666490346391409), ('wishy-washy', -0.7773880724072207), ('produced', 0.03301122809908432), ('guessing', 1.4956390987055803), ('cheese', -0.715564587712805), ('crucial', -0.4630580682105003), ('lame', -3.3272378331486845), ('Kung', -0.5828633987509764), ('Pow', 0.8804251744536125), ('funnier', 1.4772639845923716), ('martial', 0.4424744458576976), ('arts', 0.15715733364271114), ('Oedekerk', -1.0504428128660663), ('impish', -0.6975945265906129), ('stretches', 0.5747324566314128), ('meal', 1.0571900582335665), ('construction', -0.1704787435366102), ('merely', 0.8815720530410979), ('intentions', -0.5180860664952596), ('science-fiction', 0.15037293124019546), ('pastiche', 0.09997698747419652), ('stripped', -0.5571409744051289), ('precious', 0.7943619867874033), ('Kim', 0.008198080778964839), ('shock', -0.7170692739260547), ('tactics', -0.5969513941421564), ('metaphors', 0.193492366839026), ('decide', -1.527609228799518), ('pay', -1.5253583186913657), ('postcard', -0.9762262484427299), ('Frankly', -0.18857363250001485), ('dear', -0.08525153625057849), ('disguise', -1.3109859148762062), ('fact', -0.12348011989116878), ('unremittingly', -0.2909957884831484), ('dog', 0.03756486802620594), ('cruelty', -0.04411919325805161), ('frequently', -0.7898981547546748), ('pedestrian', -0.18069558451532539), ('washed', -0.8990088379242225), ('stupid', -3.7646620290277535), ('gross-out', -2.4393869481908514), ('date', 0.45211240045702145), ('disservice', -1.9506417813317491), ('critical', -0.31319303122136255), ('distance', 0.7288932159161773), ('bumper', -0.7587750564029954), ('platitudes', -0.27995468317016603), ('besides', -0.10810221955549526), ('glib', -0.6178828450858432), ('soullessness', -0.7800370590657093), ('pieces', 0.1536645412982036), ('raise', 0.05723062471707061), ('bar', -0.44742155029044983), ('stylized', 0.37556418122064755), ('therapy', -0.14457802271128647), ('sessions', -0.3394401993365713), ('subjects', 0.3472573098290476), ('obscured', -1.392245592771592), ('mistaken', -0.5914425511697172), ('giving', 0.6763130377834237), ('delivered', 0.643122073025167), ('Tries', -0.08125761989335764), ('spice', 0.9292784439173958), ('Paid', 0.11726301445414603), ('vibrant', 1.7916503947909022), ('clips', -0.3288482847525696), ('Brian', -0.11552757642962552), ('Palma', -0.12511285656085447), ('Scarface', -0.2117444433671363), ('cheat', -1.4991132046175188), ('puts', 1.0511504646170762), ('brains', -0.873387677759989), ('exploitative', -1.3976470733698387), ('ironically', -0.3335152934029155), ('against', -0.8444621004351922), ('insipid', -2.1239172007447564), ('vulgarity', -0.823662610662469), ('Dead', -1.4737638377834523), ('crossed', 0.09612236339200353), ('John', -0.22829146905052397), ('Carpenter', -0.8941554786296327), ('Ghosts', -0.6569673269090405), ('Mars', -0.15308803063109871), ('ghoulish', 0.14127679117138728), ('static', -2.212574576013125), ('restrained', 0.3702465630591578), ('cerebral', 1.080038766217856), ('easy', 0.521022842447065), ('wife', -0.0601428270091491), ('Machine', -0.35796341428306233), ('bored', -2.012483005827298), ('joke', -2.504882633819554), ('having', -0.31707482126901587), ('misanthropic', -1.267005134325343), ('matter', -0.21710519543386367), ('gifted', 1.3969419181776752), ('Hoffman', -0.5465598740681343), ('eating', 0.0003927654184180977), ('bet', 0.5712628492371109), ('makeup', -0.7425649873143537), ('Silly', -0.14935271640227632), ('test', -1.4492053323686445), ('heartstrings', 0.35785879208433785), ('pulled', -0.08288520352168897), ('fool', -2.478886432901085), ('Its', -0.08202185246339824), ('humanity', 1.3646375530049981), ('similar', -1.4752863968237844), ('conspicuously', -0.703092301400366), ('impressive', 2.92067355529043), ('craftsmanship', 0.2870268771424604), ('overbearing', -2.272069541716296), ('Lily', -0.011797958811442633), ('Chou-Chou', 0.2644225344892921), ('builds', 0.709263709355966), ('steam', -0.6122403972638392), ('See', 1.4652694365082575), ('Freddy', -0.8643021080203293), ('Got', 0.5040517114050762), ('Fingered', -0.8380975785954828), ('release', -0.9050244119825855), ('painful', -2.44450264237245), ('Plays', -0.5452443094084034), ('overlong', -2.628610569089369), ('spread', -0.7014609412249908), ('concerned', 0.2524786732082642), ('Swept', 0.17173571330838347), ('ridiculous', -2.9040991715119953), ('prowess', 0.367518267347003), ('truths', 0.7735460766385173), ('uncovers', 0.36242659059310683), ('shapeless', -2.123868589166639), ('Feels', -1.2010187940171706), ('produce', -0.27578134481864774), ('transgressive', -0.019290818668729903), ('underground', 0.29535950548177353), ('Given', -0.06515907017366056), ('usual', 0.24055623734306622), ('doing', -0.5598151039593822), ('Stealing', -0.8427994207495412), ('Harvard', -0.85077872820666), ('aspires', 0.14872434533132312), ('comedic', 1.5629577480335177), ('petty', -0.8348072607708272), ('steadfast', 0.5577231611738699), ('convictions', 0.7521920762665457), ('Chelsea', -0.03931989076603357), ('Walls', -0.2522428766319963), ('exception', -0.5787889205908834), ('fleetingly', -0.5177695394226518), ('Perry', -0.04575448111232733), ('boss', 0.02212381450241738), ('grab', -0.3611492793620011), ('bag', -1.2920455682797864), ('ready', 0.05271858362814142), (\"O'Fallon\", -0.4748399171625851), ('contributed', 0.17082066467834228), ('delight', 2.1524158459362397), ('Master', -0.41461872024019153), ('Disguise', -0.6081845356239621), ('trashy', -1.417398141554361), ('cop', -0.5577834529006257), ('began', 0.24566185775448438), ('youth', -0.6346102806838658), ('free', 0.7226621543094649), ('hostage', -0.194049503129902), ('affectation', 0.40951516569935387), ('seriousness', 0.30256292204347346), ('aesthetics', 0.12092116347057881), ('monotonous', -1.812183683764382), ('whine', -0.15052158187415082), ('daughter', -0.7121375293894221), ('Argento', 0.7944737457983032), ('producer', 0.797650389317421), ('fearlessness', 1.3339653285529922), ('magnetic', 0.8052167384653135), ('ultimate', 0.8443061537607245), ('gangster', -0.8795429052988301), ('hype', -1.586523279861938), ('function', -0.38327058163273586), ('according', -0.43317655233507396), ('believable', 2.136566642683482), ('impulses', 0.022582990658314858), ('license', -0.06687442777327017), ('Avary', -0.10062916706413086), ('Comes', -0.2300747089569025), ('uncomfortably', -0.04197730969281564), ('coasting', -0.550902754569866), ('treads', -1.0079236411756791), ('bore', -3.9062550257381696), ('true', 1.9360088943157923), ('Treasure', 1.1005822233507179), ('Planet', -0.8876716641501992), ('Farrelly', 0.2562854186228578), ('Bros.', -0.1733270434390586), ('Peter', -0.20765444393045965), ('brand', 0.11155942753435542), ('wheezing', -0.757832322915227), ('Green', -1.6341607511271707), ('half-hearted', -1.1670276068172698), ('path', -1.002479939708081), ('laughed', 2.816212687892055), ('loud', -0.899413728128928), ('talking', 0.10798111302854346), ('slapstick', 0.04859998795240947), ('problem', -2.564074745296598), ('mediocre', -3.6405294405123247), ('dynamic', 0.28922407799366795), ('marquee', -0.015689484727595744), ('satisfaction', 0.2796953036676038), ('costs', 0.23504216790657992), ('four', 0.19837134357376682), ('$', -1.1664169869313485), ('40', -0.5614412258107927), ('spend', 0.7834304792035056), ('pedigree', -0.44419595955843505), ('trite', -2.2089868174612683), ('tooth', 0.689793917828974), ('sugar', -0.5275988806887708), ('notion', -0.0667621890233871), ('funniest', 2.6912355458982438), ('unexamined', 0.00041447720638823583), ('word', -0.47299226007269873), ('disappointment', -2.720843929497868), ('poetically', 0.20418733715516166), ('indelible', 0.13657516286787255), ('dreamlike', 0.6407924424694149), ('cheesy', -2.102305518148756), ('Intriguing', 0.6838823668541802), ('haphazard', -1.190226849899487), ('writers', 0.11906661258878268), ('achieve', -0.0460753702496353), ('frantic', -1.9855486624965943), ('stirring', 1.975301322553674), ('pot', 0.18902936570881515), ('chuckle', 1.4151773238849203), ('complete', 0.43434059473637443), ('misses', -2.757124358170171), ('amazingly', 0.928270619681163), ('Tara', -0.4146641024199733), ('Reid', -0.4146641024199733), ('skills', 0.5084784208672021), ('cardboard', -1.3908888169944658), ('dreamed', 0.2945875303566709), ('attending', 0.37438134542689244), ('Cannes', 0.14179606298454836), ('enjoyed', 2.4804129449423713), ('enjoys', 0.5801662011598347), ('primarily', 0.7839512443671078), ('Yes', -0.36924479689633216), ('Uwe', -0.02550289147331189), ('Boll', 0.24515849940335294), ('provide', -0.46467023679866104), ('scant', -1.385375573358441), ('care', 0.4038918457835454), ('throwback', 1.0062514655601515), ('amiable', 1.157268150267131), ('monkeys', -0.2295380288008256), ('Goodall', 0.0453740178226704), ('buffs', 1.7786640265042228), ('intermittent', 0.16359254670439727), ('Channel', 0.12789396784767246), ('5', -0.14266937919184647), ('grade', 0.6869451234118973), ('trash', -2.6791607904434764), ('insult', -3.02253601016798), ('overall', -0.6580565133832647), ('limp', -1.6581835600521624), ('fish-out-of-water', -0.9676880379354034), ('bloated', -1.78116881795399), ('thesis', 0.501468808061824), ('grotesquely', -0.3440851490130345), ('impressed', 0.99652143088083), ('gargantuan', -1.5307188036591237), ('self-importance', -0.11851844683339119), ('Rumor', -1.134823552391275), ('Angels', -0.33933490093760116), ('sudsy', -1.3906103829327683), ('tub', 0.26139671850339585), ('supernatural', 0.7302692608994531), ('hokum', -1.0416696799492935), ('Ms.', -0.2621943920609603), ('Redgrave', 0.3718912806106178), ('efforts', 0.11574836808850635), ('redeem', -0.7806853213641685), ('hopeless', -1.4294895459163337), ('unpleasant', -2.530894730191438), ('bid', -1.1909245053983368), ('Spy', -0.7960241221795542), ('big-screen', 0.03607089672480793), ('nervy', 0.44006904756240045), ('groundbreaking', -0.2300255108053944), ('small-screen', -0.4838764125106763), ('Madonna', -0.2660474514996201), ('Away', 0.2757387342200136), ('gloss', 0.10590485974185969), ('strictly', 0.1271276985520814), ('suffers', -2.2002093410390335), ('Burns', 0.4013539763530956), ('would-be', -1.1497593493874767), ('pool', -0.9946682084085297), ('coincidence', -0.3040637895098015), ('necessity', -0.08526648925569952), ('drunken', -0.8455707513561943), ('whatever', -2.254752233895237), ('passes', -0.0017166912289694656), ('device', -0.16233003560509252), ('voices', 0.18714037821431276), ('Close', -0.03184914988924714), ('Breckin', -0.3597714330910524), ('memories', 0.20367249039068316), ('flicks', -0.2634831178155575), ('monster', -0.6960645157681613), ('tempting', 0.8167633162564027), ('jump', 0.0780680026836634), ('ship', -0.5717536895945814), ('January', -0.6286226576695936), ('schlock', -0.3050906434440073), ('shoddy', -2.3810144134452025), ('Nelson', 0.4071802314495332), ('brutally', 0.0696371884303579), ('sucks', -1.5650918366920663), ('leaving', -0.4587777894794481), ('horrific', -1.2532411272088668), ('half-baked', -0.6632870927796741), ('overheated', -0.5488714446656733), ('ambition', 0.3165505105290284), ('helping', -0.14213501351827323), ('ingredients', 0.201928269335267), ('heavy', -0.9286789477152033), ('Of', 0.032204053780623576), ('course', -0.5015286759598432), ('objective', 0.025564135113261582), ('Out', 0.11283752143334685), ('thousand', -0.8056901676902908), ('took', 0.021510366937610742), ('sympathize', 1.4920945573648166), ('conveying', 0.5529580897362674), ('issue', 0.06615329768761939), ('Dull', -1.8190413075839442), ('amateurishly', -1.134633860026301), ('assembled', -0.24081372923948896), ('reel', 0.9312881219781887), ('passage', 0.6138181792350006), ('toward', -1.2339919428087367), ('Windtalkers', -0.2927581561528712), ('soap', -2.470429357800913), ('aspirations', 0.1110189474096997), ('social', -0.1719749170712519), ('import', -0.8660508729107925), ('inform', 0.16912804416614768), ('shameless', -1.1356483347869473), ('sham', -0.7190434782450468), ('cash', -0.9249223334678142), ('popularity', -0.6043922789722426), ('vulgar', -2.3127878047935444), ('banal', -2.990174766124437), ('Enough', -0.6057135297574932), ('full-length', -0.22704383127491404), ('pacing', -1.131482483579329), ('get-go', -0.08763337415090594), ('Rodriguez', 0.5374643401897083), ('whiny', -1.7014490434352572), ('commentary', -0.48338167406833726), ('fussy', -1.1791597124932902), ('uptight', -1.4837331469811714), ('musty', -1.7176299535218367), ('annoying', -3.14201230375693), ('sputters', -0.9807363625110777), ('postmodern', 0.8476613555855341), ('conceit', -1.695806817921664), ('wildly', -0.5382701897246434), ('inconsistent', -1.7432376027212353), ('stop', 0.3556103548468073), ('DVD', -1.2136479601097225), ('player', -0.41748573047813625), ('holes', -2.112925894409242), ('killer', -0.6440922102875948), ('whale', 0.5023013151571107), ('swim', 0.008119785651786397), ('somebody', -0.519132224604832), ('spliced', -0.6529690604350749), ('random', -0.9244107333990218), ('Chris', 1.178661263260893), ('Rock', -0.024617492501866418), ('routine', -1.6221672959854931), ('self-serious', -0.602445005117329), ('100', 0.18140935584301082), ('elemental', 0.06371546999465293), ('genuine', 2.4091376390592516), ('resembling', -0.11201093341453207), ('paint', -0.5342537088598998), ('Makhmalbaf', 0.01261126567286992), ('Mick', -1.2425450644708893), ('cliche', -2.514127007770202), ('unturned', -0.9178017606185875), ('dress', -0.17562965635520586), ('off-kilter', -0.4240294407424151), ('affectionate', 1.209866953891779), ('loopiness', 0.22650726861755355), ('seemed', 0.016334289253557635), ('Demme', -0.7986843947631063), ('perspective', 0.33190726929006176), ('tough', -0.21485019923479917), ('emerging', 0.5422951183469304), ('dated', -0.5966054620081072), ('scenario', -0.257636348176366), ('newfangled', 0.3316487362799574), ('post-production', 0.30325310246222653), ('virtuosity', 0.5447519178498389), ('mired', -1.0420713850156642), ('juvenile', -1.976805012380724), ('handle', -0.7645147270128845), ('rigors', 0.12781673056655224), ('Chai', -0.2586825038485355), ('encourages', 0.08760748439710338), ('rueful', 0.30648720163894594), ('lesson', -0.13181100132584142), ('want', -0.6577657189592806), ('toss', -0.9692349900984087), ('Due', -0.01186715896124703), ('weaknesses', -0.5192598532371357), ('brother', -0.209343107281328), ('marching', 0.3115806486487722), ('clown', -1.0921714137809513), ('clothes', 0.33046727527592173), ('football', 0.09316734600865749), ('devoid', -4.243071639197576), ('XXX', -0.9110693905080017), ('quick-cut', -1.1410481579158511), ('editing', -0.9913549651563054), ('blaring', -0.06142443611104187), ('metal', -0.035181292768924136), ('under', -0.46916811975062184), ('Down', -0.3204135198330555), ('Dragonfly', 0.7301038505779217), ('atmosphere', -0.5994851778209296), ('Costner', -0.15693940150737018), ('flailing', -1.1539325268055374), ('Works', 1.382128971254505), ('establish', 0.12017802916744962), ('rounded', 0.11345281224025827), ('particularly', -0.9664186620266028), ('switches', -0.875728130622232), ('link', 1.0368752142555215), ('span', -0.5695479557109036), ('scares', 0.37161720737244036), ('hiding', -0.9700716071498534), ('critics', -0.16535558875905235), ('Miramax', 0.5247950102262953), ('sadistic', -1.0442934510886723), ('mundane', -2.056254268414094), ('lift', 0.47058975431588757), ('ought', -0.23827115181712213), ('Ed', 0.18665024057651192), ('Damon', 0.12610979696677235), ('Ben', 0.7970229124706655), ('looking', 0.03278240217800979), ('Hunting', -0.5133537256161451), ('trilogy', 0.2456246968381319), ('planned', 0.12478364650247435), ('parade', 0.4380381990110685), ('gibberish', -1.062469779563375), ('advance', -0.457649113514245), ('infantile', -0.5447956891651063), ('changing', 0.977220937164637), ('diapers', -0.033067231171192285), ('Lau', 0.6324971353621945), ('sleek', 0.3286414192932798), ('sociopath', -0.48276390234111194), ('trail', 0.36242659059310683), ('O', 0.3446185253937285), ('Takashi', -0.06839895663386925), ('Directed', -0.18571684415927586), ('paint-by-numbers', -1.9307939428428458), ('manner', 0.8222119255212069), ('lackluster', -3.2044989430824167), ('classic', 1.3446665780299332), ('Barrie', 0.1810709337206822), ('Pan', 0.0678926762341716), ('Samira', 0.01261126567286992), ('ethos', -0.09195526844472399), ('stream', 0.6746805315682698), ('consciousness', 0.4454075868253928), ('unfortunate', -2.4076541045491417), ('harmless', 0.5026767598684102), ('diversion', 0.32579208283718253), ('Late', 0.5731669827648698), ('Marriage', 0.5731669827648698), ('demonstrate', 0.9336972655613889), ('clout', 0.7107077623387682), ('sweep', -0.1443386717641529), ('U.S.', 0.38372375020141103), ('feet', 0.9524182342599445), ('mode', -0.9898898319327509), ('Anthony', -0.6931511252897936), ('Hopkins', 0.45588760046394905), ('saying', 0.12604829736733597), ('Get', 0.25841559361421773), ('Jerry', 0.06960726995527984), ('Bruckheimer', 0.6034674496068109), ('hampered', -0.8810778731299291), ('actress', 0.16294956173648306), ('dread', -0.9580569327106111), ('executed', 0.255639861426764), ('perfunctory', -0.9383009037652922), ('implies', 0.6054417588736116), ('Sex', 1.0578673026348013), ('Strangers', -0.5569401621659397), ('forever', -0.23690155793164347), ('collapses', -2.356605158326826), ('shaky', -0.8134041651221594), ('foundation', -0.2980707047106955), ('Adults', 0.3095830153976705), ('wish', -1.0557207898831948), ('clumsily', -2.1203561270263362), ('plotted', -1.0205030433267), ('characterized', -0.31903207470602796), ('plotting', 0.20913971815531124), ('myopic', -0.5097066318480576), ('undermine', -0.7549825856402148), ('terrible', -2.317950900382009), ('Sweet', 0.08762293685452507), ('Home', 1.1715928543253644), ('Alabama', -0.8871179924720463), ('turn', 0.4112601950077555), ('saccharine', -1.049361187254559), ('concoction', -1.4607641105157174), ('realize', 1.1904728727117473), ('episodes', -0.5042334081852853), ('rejected', -1.454217598412806), ('Weight', -0.5037145651342163), ('appropriately', 0.03941207238885548), ('titled', -0.6184882025153992), ('fitfully', -0.2849881936383767), ('romp', 2.139973645863609), ('Malcolm', 0.2343844346019839), ('Middle', -0.07491417801079805), ('pubescent', -0.5345768199774242), ('Frankie', -0.33255605270198296), ('Jason', 0.1309716483084835), ('X', -3.907018562755926e-05), ('sequels', -0.19316614959130463), ('later', 1.2227116329663519), ('teens', -0.3998235387750173), ('wiser', 0.7267287641630102), ('kills', -2.352595585670266), ('Wilder', -1.2484974014971035), ('Hot', 0.43186391681355013), ('sun', -0.7288623775349414), ('east', 0.012126805738100474), ('Derrida', 0.42835256828966234), ('leave', -1.591577743187562), ('resorting', 0.3823633037261729), ('ZigZag', -0.03459012018647473), ('sufficiently', 0.3945174424574923), ('developed', 0.6365834242758021), ('support', -0.10239967478912547), ('undercut', -1.425255872263498), ('amateurish', -2.884427403924516), ('Serving', -0.3133581327935536), ('Sara', -0.9930081402781752), ('serve', -0.7259875240212507), ('hopelessly', 0.12015618386060786), ('noteworthy', 0.5399478331993173), ('gimmick', -1.246636542193966), ('elements', 0.14189359541312951), ('endurance', -0.48574880702976014), ('challenge', -0.45279515944555104), ('nonsensical', -2.1490177925415295), ('jargon', -0.1205794642996924), ('fatal', -2.2599902243171486), ('mistake', -2.6702982738956473), ('apparent', -1.170409433338829), ('virtue', 1.2126820144154524), ('in-your-face', 0.13019079265463424), ('depths', 0.2790996479621098), ('sung', 0.3524066290257109), ('blues', -0.5427426160420983), ('close-ups', 0.03667328473957693), ('spots', -0.12332176835282468), ('red', -0.3250046323077579), ('chuckles', -0.4528836777741758), ('nowhere', -2.9287865604643017), ('cleverness', 0.9721646447668373), ('Hurley', 0.11213090910575212), ('breathe', 1.1770143979818193), ('disjointed', -1.9559437833991744), ('Jay', -1.0895403288020789), ('neither', -2.9015832392612766), ('Hudlin', -0.671203787999079), ('Something', 0.4672749264397066), ('akin', -1.0554945300951533), ('Alice', 1.0811569205870148), ('Glass', -0.22062722098298015), ('seriously', 1.2443444886125001), ('lived', 0.3917761280285987), ('believability', -0.6194000255485341), ('compensate', 0.19529638992577114), ('incessant', -2.198605081205483), ('proceeds', 0.34613766290325787), ('chronicle', 0.6567293462458635), ('ups', 0.3802046494611752), ('downs', 0.2581635539687882), ('lifelong', 0.1377972305189898), ('friendships', 0.9134943682498382), ('fewer', -0.7117244354011759), ('largely', 0.35177338075074227), ('Makes', 0.838299689661024), ('viewing', 1.2940993206983), ('sum', 0.16102564791041207), ('Huppert', 1.227115010695674), ('showcases', -0.6799647942597616), ('drop', 0.13416315560891942), ('patience', -0.052041623554465), ('mind-numbingly', -1.291697646213446), ('discussion', 1.9447347289222234), ('Kennedy', 0.7514878884538811), ('assassination', -0.5005714109803012), ('fictional', 0.15293697704654932), ('cable', -0.7620390758013011), ('settle', -0.9157158429892484), ('Imposter', -1.0363365790928476), ('distasteful', -2.897673044496268), ('kidnapping', 0.3146207957744786), ('dramas', 0.03580271030196838), ('result', -1.2748423242994429), ('gaudy', -0.32810199172169263), ('candy', 0.18371456385864718), ('Halloween', -0.3052203115036442), ('died', -1.5383825591646234), ('Davis', 0.4833652355071235), ('enamored', 0.8713546458325191), ('insufferable', -1.4461804213945033), ('Man', 0.6418167509491033), ('Elysian', 0.40410580931146317), ('Fields', 0.40410580931146317), ('cold', -2.8762570881226996), ('thinking', -0.6981118318008495), ('comment', -1.6399400990372721), ('throws', -0.43839542907446843), ('bouncy', 1.110033755836576), ('musicals', 0.44424422653910134), ('required', -0.9938587346140969), ('sell', -0.40326202628321023), ('named', 0.053613205078256905), ('powers', 0.46916442452672125), ('unfortunately', -3.162736977332665), ('discern', -0.3032179482296857), ('flimsy', -2.05290059974075), ('screenplays', -0.13928923863973453), ('saddled', -0.5261059716201838), ('ill', -0.08029486807762003), ('fit', 0.7189262667541132), ('McConaughey', -0.1825664001556615), ('dragons', -0.6233937467030004), ('okay', 0.9704865210826122), ('fire', -0.2980717398910192), ('amalgam', -0.19653512575761603), ('News', 0.6432365488102212), ('cliched', -2.451282333002323), ('Mattei', -0.2829227859153549), ('tiresomely', -1.9743540844055352), ('grave', -1.197648624429531), ('long-winded', -0.9650968412527072), ('profundity', 0.39478763626971763), ('robbed', -0.22873805052514756), ('element', 1.230611673319299), ('huge', 0.4916486485140297), ('irresponsible', -2.014563991894375), ('cops', -0.19843546137358448), ('pranks', -0.3093989678187893), ('joys', 0.8880964702061422), ('weightless', -1.265199891834492), ('sequence', 0.41572496929487), ('shoot', -1.966957256654057), (\"'em\", 0.5132050624230705), ('Waking', -0.15826150233872688), ('Up', 0.2105449330953637), ('inspired', 1.1292691211273986), ('markers', -0.06868429481393486), (\"'m\", 0.3531688082315194), ('Irwin', 0.4346394016572968), ('audacity', -1.360938871592925), ('carry', 0.8891770907452331), ('dozen', 0.28947147205666524), ('greater', 1.3164412036045992), ('impart', 1.6402739148758456), ('pummel', 0.03387860038055647), ('Monty', 0.20988429008774023), ('Python', 0.5629550238711559), ('sketch', -1.0842795309162327), ('horribly', -1.547958517220294), ('trapped', -1.0585528090049585), ('perpetual', 0.4428845379274805), ('frat', -0.79869561594928), ('gross', -0.8242368737690133), ('English', 1.4599798845814125), ('trifle', -0.5382724299543232), ('train', -1.206829375303082), ('wreck', -1.4917182421617585), ('stupefying', -0.327065313007994), ('Bond', 0.8350015547025467), ('mindless', -2.744414495785154), ('throw', 0.09093926154863533), ('toilet', -3.1463732572114846), ('favor', 0.3196728816498453), ('flashes', 0.4713118628477551), ('lines', -0.6343958592295289), ('peak', 0.9043079036408316), ('missed', -1.6641298282801298), ('opportunity', -0.8386222541509454), ('straight-faced', -1.0079196627657918), ('lighten', 0.37376503547469003), ('laughable', -1.6329448458351266), ('consequence', -1.0010742299202935), ('disgusting', -1.544033057847894), ('pressed', -0.3967476735815071), ('lunch', -0.00555892600620308), ('alternate', 0.27009315305978976), ('versions', -1.339976067377323), ('Bard', 0.27269965612490477), ('ones', 0.9366535016024765), ('involve', -0.2764714661527313), ('Guy', 0.1302220014458616), ('pleasurable', 1.8249896707130595), ('Or', -0.11656346265437961), ('rat', -0.4153541022129066), ('traps', -0.020245598115781114), ('Scooby', -0.4426148720425547), ('Doo', 0.05292900296755991), ('Shaggy', 0.22160648809947447), ('Fred', 0.10270934605614224), ('thinks', -1.9349407636842524), ('wow', 1.166828056345601), ('ripe', 0.21035040285770665), ('warmed-over', -0.043245771796275805), ('clone', 0.0633503537107003), ('Magnolia', -0.2724929055773835), ('proud', 2.1463150238029605), ('Muccino', 1.4137487141517937), ('television', -0.5542536232298751), ('However', -0.8620825402825069), ('please', 1.5756584378984808), ('songs', 0.35933005191298717), ('science', -0.4018165237531708), ('fiction', 0.8175644570215295), ('disgust', -0.9989161174220019), ('innovative', 0.9902799395783439), ('fail', -1.8950871017488338), ('miserably', -0.7635920296276346), ('offensive', -2.6103839754530864), ('seeking', -0.5662074774880067), ('Trouble', -1.7917954556557558), ('Day', 1.1020875840628281), ('ABC', -0.3983822338127748), ('Afterschool', -0.5735536065575079), ('Special', 0.14520107466725793), ('Screenwriting', 0.09276740623927286), ('101', 0.05505741700942607), ('smiles', -0.04152466130378301), ('Crossroads', -0.16758812013681873), ('provokes', 0.6892581886900232), ('unintentional', -1.3384420435491915), ('ripping', 0.4456067344081613), ('letting', -0.6965899070169284), ('consciously', -0.2556956371529176), ('disappointingly', -2.018703046098804), ('superficial', -2.3323262605255985), ('necessary', 0.030350378913507822), ('involving', 0.6302172409044056), ('scratch', -0.7190415369611906), ('describes', 0.10829851260645135), ('main', 0.8233395353370332), ('lazy', -2.2629571861740434), ('Schaeffer', -0.9283456864906973), ('hook', 0.3189590487309331), ('useless', -3.2145312966861996), ('middle-aged', -1.1922677393095318)])\n"
          ],
          "name": "stdout"
        }
      ]
    },
    {
      "cell_type": "code",
      "metadata": {
        "id": "uxm7zJPLgd3J",
        "colab_type": "code",
        "outputId": "e0d65c4c-eafd-4ca2-acd5-93ab7d21ca31",
        "colab": {
          "base_uri": "https://localhost:8080/",
          "height": 295
        }
      },
      "source": [
        "from sklearn.linear_model import LinearRegression\n",
        "\n",
        "x=[]\n",
        "y=[]\n",
        "\n",
        "for key, val  in word_validation_coef_lookup.items():\n",
        "    if key in words:\n",
        "        x.append(word_validation_coef_lookup[key])\n",
        "        y.append(words[key])\n",
        "    \n",
        "# print(sp.stats.pearsonr(x,y))\n",
        "reg = LinearRegression().fit(np.array(x).reshape(-1,1), np.array(y).reshape(-1,1))\n",
        "m = reg.coef_[0]\n",
        "c = reg.intercept_\n",
        "# y_10 = [y * 10 for elem in y]\n",
        "plt.title(\"Logistic Regression Coefficients vs individual word CD scores\")\n",
        "plt.xlabel(\"Logistic Regression Coefficients\")\n",
        "plt.ylabel(\"Individual word CD scores\")\n",
        "# plt.plot(x , y, 'ro')\n",
        "plt.scatter(x , y, s = 0.2)\n",
        "plt.grid(color='k', linestyle='--', linewidth=0.5)\n",
        "plt.plot(x, m*x + c)\n",
        "plt.show()"
      ],
      "execution_count": 18,
      "outputs": [
        {
          "output_type": "display_data",
          "data": {
            "image/png": "[encoded data removed]",
            "text/plain": [
              "<Figure size 432x288 with 1 Axes>"
            ]
          },
          "metadata": {
            "tags": []
          }
        }
      ]
    },
    {
      "cell_type": "code",
      "metadata": {
        "id": "BZ10Ob9vg-HU",
        "colab_type": "code",
        "colab": {}
      },
      "source": [
        "import nltk\n",
        "from nltk.tree import Tree\n",
        "\n",
        "ROOT = 'ROOT'\n",
        "\n",
        "negation_terms = set(['not', 'n’t', 'lacks', 'nobody', 'nor', 'nothing', 'neither', 'never', 'none', 'nowhere', 'remotely'])\n",
        "parents_set = list()\n",
        "\n",
        "trees = []\n",
        "with open(os.path.expanduser('./.data/sst/trees/train.txt')) as f:\n",
        "    for line in f:\n",
        "        tree = Tree.fromstring(line)\n",
        "        trees.append(tree)\n",
        "\n",
        "def getNegatingSubphrases(parent, review_id, review, parent_index, tree_height):\n",
        "    nodes = [{\"node\":node} for node in parent]\n",
        "    start_index = parent_index\n",
        "  \n",
        "  # Get the start and end indexes for each child based off of their parent's index. \n",
        "    for node in nodes:\n",
        "        if type(node['node']) is nltk.Tree:\n",
        "            end_index = len(node[\"node\"].leaves()) + start_index\n",
        "            node['start_index'] = start_index\n",
        "            node['end_index'] = end_index\n",
        "            start_index = end_index\n",
        "      \n",
        "    if len(parent.leaves()) < 10:\n",
        "        if len(nodes) >= 2:\n",
        "            first_child = nodes[0]['node']\n",
        "            second_child = nodes[1]['node']\n",
        "            first_child_first_two_words = set()\n",
        "            if type(first_child) is str:\n",
        "                first_child_first_two_words = set(list(first_child))\n",
        "            else:\n",
        "                first_child_first_two_words = set(list(first_child.leaves())[:2])\n",
        "            # if the first child has some negation terms\n",
        "            if first_child_first_two_words.intersection(negation_terms):\n",
        "                if int(second_child.label()) in [0,1,2,3,4]:\n",
        "                    parents_set.append({\"review_id\":review_id,\"review\":review, \n",
        "                                        \"parent\":parent, \n",
        "                                        \"first_child\": first_child, \n",
        "                                        \"second_child\":second_child, \n",
        "                                        \"first_child_start_index\":nodes[0]['start_index'],\n",
        "                                        \"first_child_end_index\":nodes[0]['end_index'],\n",
        "                                        \"second_child_start_index\": nodes[1]['start_index'],\n",
        "                                        \"second_child_end_index\": nodes[1]['end_index'],\n",
        "                                        \"height\":tree_height,\n",
        "                                        \"negation_subphrase\": nodes[1]['node']\n",
        "                                        })\n",
        "\n",
        "  # keep on recursing \n",
        "    for node in nodes:\n",
        "        if type(node['node']) is nltk.Tree:\n",
        "            getNegatingSubphrases(node['node'], review_id, review, node['start_index'], tree_height + 1)\n",
        "\n",
        "for i, tree in enumerate(trees):\n",
        "    getNegatingSubphrases(tree, i, tree, 0,0)"
      ],
      "execution_count": 0,
      "outputs": []
    },
    {
      "cell_type": "code",
      "metadata": {
        "id": "3zlAp7q-hJIu",
        "colab_type": "code",
        "colab": {}
      },
      "source": [
        "negative_labels = set([0,1])\n",
        "positive_labels = set([3,4])\n",
        "\n",
        "dissenting_subphrase_reviews = []\n",
        "def getDissentingSubphrase(parent, review_label, review_length, review, review_id,parent_index, tree_height):\n",
        "    continue_recursion = True\n",
        "\n",
        "    nodes = [{\"node\":node} for node in parent]\n",
        "    start_index = parent_index\n",
        "\n",
        "    # Get the start and end indexes for each child based off of their parent's index. \n",
        "    for node in nodes:\n",
        "        if type(node['node']) is nltk.Tree:\n",
        "            end_index = len(node[\"node\"].leaves()) + start_index\n",
        "            node['start_index'] = start_index\n",
        "            node['end_index'] = end_index\n",
        "            start_index = end_index\n",
        "  \n",
        "    for node in nodes:\n",
        "        if type(node['node']) is nltk.Tree:\n",
        "            node_label = int(node['node'].label())\n",
        "            node_length = len(node['node'].leaves())\n",
        "            if ((review_label in negative_labels and node_label in positive_labels) or (review_label in positive_labels and node_label in negative_labels)):\n",
        "                if (review_length / float(3)) < node_length and (review_length * 2.0 / float(3)) > node_length:\n",
        "                    dissenting_subphrase_reviews.append({\"review_id\":review_id,\n",
        "                                                       \"review\":review, \n",
        "                                                       \"parent\":parent,\n",
        "                                                       \"child_start_index\":node['start_index'],\n",
        "                                                       \"child_end_index\":node['end_index'],\n",
        "                                                       \"dissenting_subphrase\": node['node'],\n",
        "                                                       \"height\":tree_height})\n",
        "   \n",
        "    for node in nodes:\n",
        "        if type(node['node']) is nltk.Tree:\n",
        "            getDissentingSubphrase(node['node'], review_label, review_length, review, review_id, node['start_index'], tree_height+1)\n",
        "\n",
        "for i,tree in enumerate(trees):\n",
        "    getDissentingSubphrase(tree, int(tree.label()), len(tree.leaves()), tree, i, 0, 0)"
      ],
      "execution_count": 0,
      "outputs": []
    },
    {
      "cell_type": "code",
      "metadata": {
        "id": "s1i7A2wkhMjW",
        "colab_type": "code",
        "colab": {}
      },
      "source": [
        "review_lookup = {}\n",
        "# This takes a while to build. Array of phrases\n",
        "for ind in range(len(data)):\n",
        "    text = data[ind].text.data[:, 0]\n",
        "    vect2Word = tuple(inputs.vocab.itos[i] for i in text)\n",
        "    review_lookup[vect2Word] = data[ind]"
      ],
      "execution_count": 0,
      "outputs": []
    },
    {
      "cell_type": "code",
      "metadata": {
        "id": "ZlUAxWtjhOTa",
        "colab_type": "code",
        "colab": {}
      },
      "source": [
        "negation_subphrase_cd_scores = []\n",
        "negation_subphrase_labels = [] \n",
        "for review in parents_set:\n",
        "    if tuple(review[\"review\"].leaves()) in review_lookup and review['second_child_end_index'] - review['first_child_start_index'] < 5:\n",
        "#     if tuple(review[\"review\"].leaves()) in review_lookup:\n",
        "        review_vector = review_lookup[tuple(review[\"review\"].leaves())]\n",
        "        a = cd.context_decomp(review_vector, review['first_child_start_index'],review['second_child_end_index'])\n",
        "        b = cd.context_decomp(review_vector, review['first_child_start_index'], review['first_child_end_index'])\n",
        "        c = cd.context_decomp(review_vector, review['second_child_start_index'], review['second_child_end_index']) \n",
        "        \n",
        "        score = a-(b+c)\n",
        "        negation_subphrase_cd_score = score\n",
        "\n",
        "        subphrase_label = review['negation_subphrase'].label()\n",
        "\n",
        "        negation_subphrase_cd_scores.append(negation_subphrase_cd_score)\n",
        "        negation_subphrase_labels.append(subphrase_label) "
      ],
      "execution_count": 0,
      "outputs": []
    },
    {
      "cell_type": "code",
      "metadata": {
        "id": "Ig3t-jpChRAW",
        "colab_type": "code",
        "outputId": "e959a1b6-3723-4d54-e949-d568dee127e7",
        "colab": {
          "base_uri": "https://localhost:8080/",
          "height": 314
        }
      },
      "source": [
        "negative_labels = set([0,1])\n",
        "positive_labels = set([3,4])\n",
        "\n",
        "results = zip(negation_subphrase_cd_scores, negation_subphrase_labels)\n",
        "positive_subphrase_cd_scores = [score for score, label in results if int(label) in [3,4]]\n",
        "results = zip(negation_subphrase_cd_scores, negation_subphrase_labels)\n",
        "negative_subphrase_cd_scores = [score for score, label in results if int(label) in [0,1]]\n",
        "results = zip(negation_subphrase_cd_scores, negation_subphrase_labels)\n",
        "all_subphrase_cd_scores = [score for score, label in results if int(label) in [0,1,2,3,4]]\n",
        "\n",
        "\n",
        "x = np.asarray(positive_subphrase_cd_scores)\n",
        "x2 = np.asarray(negative_subphrase_cd_scores)\n",
        "x3 = np.asarray(all_subphrase_cd_scores)\n",
        "print('Number of positive:{}, negative:{}, all:{}'.format(len(x),len(x2),len(x3)))\n",
        "sns.set_style(\"darkgrid\")\n",
        "sns.distplot(x*1.5,hist=False, rug=False, label=\"Negative Negations\", color=\"g\", kde_kws={\"shade\": True})\n",
        "sns.distplot(x2*3,hist=False, rug=False, label=\"Positive Negations\", color=\"b\", kde_kws={\"shade\": True})\n",
        "sns.distplot(x3*0.5,hist=False, rug=False, label=\"All Negations\", color=\"r\", kde_kws={\"shade\": True})\n",
        "plt.title('Positive and Negative Negation CD Score distribution relative to all score distribution')\n",
        "plt.xlabel('CD score')\n",
        "plt.ylabel('Density')\n",
        "# print(len(negation_subphrase_cd_scores))\n",
        "plt.legend()\n",
        "plt.show()\n"
      ],
      "execution_count": 23,
      "outputs": [
        {
          "output_type": "stream",
          "text": [
            "Number of positive:75, negative:43, all:337\n"
          ],
          "name": "stdout"
        },
        {
          "output_type": "display_data",
          "data": {
            "image/png": "[encoded data removed]",
            "text/plain": [
              "<Figure size 432x288 with 1 Axes>"
            ]
          },
          "metadata": {
            "tags": []
          }
        }
      ]
    },
    {
      "cell_type": "code",
      "metadata": {
        "id": "UO7gqUul25ss",
        "colab_type": "code",
        "outputId": "f44b3bd2-fdb1-4acd-d377-3817faac4ac8",
        "colab": {
          "base_uri": "https://localhost:8080/",
          "height": 35
        }
      },
      "source": [
        "print(stats.ks_2samp(x, x2))"
      ],
      "execution_count": 24,
      "outputs": [
        {
          "output_type": "stream",
          "text": [
            "Ks_2sampResult(statistic=0.6936434108527132, pvalue=1.7973174965774025e-12)\n"
          ],
          "name": "stdout"
        }
      ]
    },
    {
      "cell_type": "code",
      "metadata": {
        "id": "Rs6wQWS3hTah",
        "colab_type": "code",
        "colab": {}
      },
      "source": [
        "dissenting_subphrase_cd_scores = []\n",
        "dissenting_subphrase_labels = []\n",
        "for review in dissenting_subphrase_reviews:\n",
        "  try:\n",
        "    review_vector = review_lookup[tuple(review['review'].leaves())]\n",
        "    dissenting_subphrase_cd_score = cd.context_decomp(review_vector, review['child_start_index'],review['child_end_index'])\n",
        "    subphrase_label = review['dissenting_subphrase'].label()\n",
        "    \n",
        "    dissenting_subphrase_cd_scores.append(dissenting_subphrase_cd_score)\n",
        "    dissenting_subphrase_labels.append(subphrase_label)\n",
        "  except:\n",
        "    continue"
      ],
      "execution_count": 0,
      "outputs": []
    },
    {
      "cell_type": "code",
      "metadata": {
        "id": "UmtGMz_thYLj",
        "colab_type": "code",
        "outputId": "94263e6d-31e1-49e7-d693-a8336ec66d93",
        "colab": {
          "base_uri": "https://localhost:8080/",
          "height": 108
        }
      },
      "source": [
        "print(len(dissenting_subphrase_cd_scores),len(dissenting_subphrase_labels))\n",
        "dissenting_subphrase_reviews[0]\n",
        "review_vector"
      ],
      "execution_count": 26,
      "outputs": [
        {
          "output_type": "stream",
          "text": [
            "1961 1961\n"
          ],
          "name": "stdout"
        },
        {
          "output_type": "execute_result",
          "data": {
            "text/plain": [
              "\n",
              "[torchtext.data.batch.Batch of size 1 from SST]\n",
              "\t[.text]:[torch.cuda.LongTensor of size 23x1 (GPU 0)]\n",
              "\t[.label]:[torch.cuda.LongTensor of size 1 (GPU 0)]"
            ]
          },
          "metadata": {
            "tags": []
          },
          "execution_count": 26
        }
      ]
    },
    {
      "cell_type": "code",
      "metadata": {
        "id": "oaYgriXkhZ-h",
        "colab_type": "code",
        "outputId": "eac43643-6307-4446-8bc8-d706aa57474e",
        "colab": {
          "base_uri": "https://localhost:8080/",
          "height": 314
        }
      },
      "source": [
        "results = zip(dissenting_subphrase_cd_scores, dissenting_subphrase_labels)\n",
        "positive_subphrase_cd_scores = [score for score, label in results if int(label) in [3,4]]\n",
        "results = zip(dissenting_subphrase_cd_scores, dissenting_subphrase_labels)\n",
        "negative_subphrase_cd_scores = [score for score, label in results if int(label) in [0,1]]\n",
        "\n",
        "x = np.asarray(positive_subphrase_cd_scores)\n",
        "x2 = np.asarray(negative_subphrase_cd_scores)\n",
        "print('Number of positive:{}, negative:{}'.format(len(x),len(x2),))\n",
        "plt.xlim(-7, 7)\n",
        "sns.set_style(\"darkgrid\")\n",
        "sns.distplot(x,hist=False, rug=False, label=\"Overall Positive Sentiment\", color=\"b\", kde_kws={\"shade\": True} )\n",
        "sns.distplot(x2,hist=False, rug=False, label=\"Overall Negative Sentiment\", color=\"r\", kde_kws={\"shade\": True})\n",
        "plt.title(\"Distribution of positive and negative dissenting sub-phrases in SST\")\n",
        "plt.xlabel(\"CD Score of sub-phrase\")\n",
        "plt.ylabel(\"density\")\n",
        "plt.legend()\n",
        "plt.show()"
      ],
      "execution_count": 27,
      "outputs": [
        {
          "output_type": "stream",
          "text": [
            "Number of positive:1024, negative:937\n"
          ],
          "name": "stdout"
        },
        {
          "output_type": "display_data",
          "data": {
            "image/png": "[encoded data removed]",
            "text/plain": [
              "<Figure size 432x288 with 1 Axes>"
            ]
          },
          "metadata": {
            "tags": []
          }
        }
      ]
    },
    {
      "cell_type": "code",
      "metadata": {
        "id": "Ei398rpKhbzb",
        "colab_type": "code",
        "outputId": "6aed4512-98f8-4b96-d40a-656c32e2ee53",
        "colab": {
          "base_uri": "https://localhost:8080/",
          "height": 35
        }
      },
      "source": [
        "print(len(dissenting_subphrase_reviews),len(dissenting_subphrase_cd_scores))"
      ],
      "execution_count": 28,
      "outputs": [
        {
          "output_type": "stream",
          "text": [
            "1961 1961\n"
          ],
          "name": "stdout"
        }
      ]
    },
    {
      "cell_type": "code",
      "metadata": {
        "id": "CPhpabM8tUQR",
        "colab_type": "code",
        "outputId": "32855685-b208-412c-a214-b079bd5e7495",
        "colab": {
          "base_uri": "https://localhost:8080/",
          "height": 72
        }
      },
      "source": [
        "from scipy import stats\n",
        "np.random.seed(12345678)  #fix random seed to get the same result\n",
        "n1 = 200  # size of first sample\n",
        "n2 = 300  # size of second sample\n",
        "rvs1 = stats.norm.rvs(size=n1, loc=0., scale=1)\n",
        "rvs2 = stats.norm.rvs(size=n2, loc=0.5, scale=1.5)\n",
        "print(stats.ks_2samp(rvs1, rvs2))\n",
        "rvs3 = stats.norm.rvs(size=n2, loc=0.01, scale=1.0)\n",
        "print(stats.ks_2samp(rvs1, rvs3))\n",
        "rvs4 = stats.norm.rvs(size=n2, loc=0.0, scale=1.0)\n",
        "print(stats.ks_2samp(rvs1, rvs4))\n"
      ],
      "execution_count": 29,
      "outputs": [
        {
          "output_type": "stream",
          "text": [
            "Ks_2sampResult(statistic=0.20833333333333337, pvalue=4.6674975515806996e-05)\n",
            "Ks_2sampResult(statistic=0.10333333333333333, pvalue=0.14498781825751686)\n",
            "Ks_2sampResult(statistic=0.07999999999999996, pvalue=0.4112694972985972)\n"
          ],
          "name": "stdout"
        }
      ]
    },
    {
      "cell_type": "code",
      "metadata": {
        "id": "-lAc0zeMtr1L",
        "colab_type": "code",
        "outputId": "70c8b7f0-513e-4f45-b8e6-bac57fc15643",
        "colab": {
          "base_uri": "https://localhost:8080/",
          "height": 281
        }
      },
      "source": [
        "# x_density, _ = np.histogram(x,bins = 'auto',density=True)\n",
        "# x2_density, _ = np.histogram(x2,bins = 'auto',density=True)\n",
        "\n",
        "plt.hist(x, bins='auto')  # arguments are passed to np.histogram\n",
        "plt.hist(x2, bins='auto',color = 'r')\n",
        "plt.title(\"Histogram with 'auto' bins\")\n",
        "plt.show()"
      ],
      "execution_count": 30,
      "outputs": [
        {
          "output_type": "display_data",
          "data": {
            "image/png": "[encoded data removed]",
            "text/plain": [
              "<Figure size 432x288 with 1 Axes>"
            ]
          },
          "metadata": {
            "tags": []
          }
        }
      ]
    },
    {
      "cell_type": "code",
      "metadata": {
        "id": "HlxzuZzPxRYb",
        "colab_type": "code",
        "outputId": "81183e89-3416-4f29-8348-bee1b50d0799",
        "colab": {
          "base_uri": "https://localhost:8080/",
          "height": 35
        }
      },
      "source": [
        "print(stats.ks_2samp(x, x2))"
      ],
      "execution_count": 31,
      "outputs": [
        {
          "output_type": "stream",
          "text": [
            "Ks_2sampResult(statistic=0.5896426010538954, pvalue=7.373612682898397e-150)\n"
          ],
          "name": "stdout"
        }
      ]
    },
    {
      "cell_type": "code",
      "metadata": {
        "id": "daxeuxj7hdNS",
        "colab_type": "code",
        "outputId": "cfac7aa8-97ea-4507-f0fc-1b6fcf5995b0",
        "colab": {
          "base_uri": "https://localhost:8080/",
          "height": 72
        }
      },
      "source": [
        "review = dissenting_subphrase_reviews[2]\n",
        "data_batch = review_lookup[tuple(review[\"review\"].leaves())]\n",
        "cd.CD_diss_subphrases(data_batch, review['child_start_index'],review['child_end_index'])"
      ],
      "execution_count": 32,
      "outputs": [
        {
          "output_type": "execute_result",
          "data": {
            "text/plain": [
              "[('What', 1.4819483635784514),\n",
              " (\"`` Empire '' lacks in depth it\", -2.858482175463056),\n",
              " ('makes up for with its heart .', 4.21944175251755)]"
            ]
          },
          "metadata": {
            "tags": []
          },
          "execution_count": 32
        }
      ]
    },
    {
      "cell_type": "code",
      "metadata": {
        "id": "3OazojtuhgMw",
        "colab_type": "code",
        "colab": {}
      },
      "source": [
        "# negating_review = parents_set[1]\n",
        "# negating_batch = review_lookup[tuple(negating_review[\"review\"].leaves())]\n",
        "# overall = cd.CD_negating_subphrases(negating_batch, \n",
        "#                           negating_review['first_child_start_index'], \n",
        "#                           negating_review['first_child_end_index'], \n",
        "#                           negating_review['second_child_start_index'],\n",
        "#                           negating_review['second_child_end_index']\n",
        "#                          )\n",
        "# print(\"Complete review: \", overall[\"overall\"])\n",
        "# print(\"Overall negation: \", overall[\"negation_phrase\"])\n",
        "# print(\"Negation term: \", overall[\"negation_term\"])\n",
        "# print(\"Negated phrase: \", overall[\"negated_phrase\"])"
      ],
      "execution_count": 0,
      "outputs": []
    },
    {
      "cell_type": "code",
      "metadata": {
        "id": "gIeEfVivPNhp",
        "colab_type": "code",
        "colab": {}
      },
      "source": [
        "# load sst dataset\n",
        "def load_sst(args):\n",
        "    # first create two fields for data, text and labels. Check https://github.com/pytorch/text#data for an example\n",
        "    text = data.Field(lower='preserve-case')\n",
        "    labels = data.Field(sequential=False, unk_token=None)\n",
        "\n",
        "    # we first build our dataset with all subtrees to build our vocab\n",
        "    train, valid, test = datasets.SST.splits(\n",
        "        text, labels, train_subtrees=True, fine_grained = False, filter_pred=lambda ex: ex.label != 'neutral')\n",
        "\n",
        "    text.build_vocab(train, valid, test)\n",
        "    if args[\"word_vectors\"]:\n",
        "        if os.path.isfile(args[\"vector_cache\"]):\n",
        "            text.vocab.vectors = torch.load(args[\"vector_cache\"])\n",
        "        else:\n",
        "            text.vocab.load_vectors(args[\"word_vectors\"])\n",
        "            makedirs(os.path.dirname(args[\"vector_cache\"]))\n",
        "            torch.save(text.vocab.vectors, args[\"vector_cache\"])\n",
        "    labels.build_vocab(train)\n",
        "\n",
        "    # Next we build our datasets without all subtrees\n",
        "    if args[\"retrain\"]:\n",
        "        train, valid, test = datasets.SST.splits(text, labels, fine_grained=False, train_subtrees=False,\n",
        "                                                filter_pred=lambda ex: ex.label != 'neutral')\n",
        "\n",
        "    train_iter, valid_iter, test_iter = data.BucketIterator.splits(\n",
        "        (train, valid, test), batch_size=1, device=args[\"gpu\"])\n",
        "\n",
        "    return text, labels, train_iter, valid_iter, train, valid\n",
        "  "
      ],
      "execution_count": 0,
      "outputs": []
    },
    {
      "cell_type": "code",
      "metadata": {
        "id": "1QAF6yTLBpfI",
        "colab_type": "code",
        "colab": {
          "base_uri": "https://localhost:8080/",
          "height": 72
        },
        "outputId": "658d63e2-a946-47b8-bf6d-6dda4211fa3d"
      },
      "source": [
        "from torchtext import data, datasets\n",
        "\n",
        "# get data\n",
        "arg = get_args()\n",
        "arg[\"retrain\"] = 1\n",
        "inputs, answers, train_iterator, dev_iterator,_,_ = load_sst(arg)\n",
        "\n",
        "batch_nums = list(range(6920))\n",
        "data = get_batches(batch_nums, train_iterator, dev_iterator) \n",
        "for ind in range(6919):\n",
        "    text = data[ind].text.data[:, 0]\n",
        "    words = [inputs.vocab.itos[i] for i in text]\n",
        "    if words[0] == 'it' and words[1] == \"'s\" and words[2] == 'easy':\n",
        "        high_level_comp_ind = ind\n",
        "        break\n",
        "               \n",
        "# Produce CD importance scores for phrases used in figure 2\n",
        "pos = cd.context_decomp(data[high_level_comp_ind], start = 0, stop = 15)\n",
        "print(' '.join(words[:16]), pos)\n",
        "neg = cd.context_decomp(data[high_level_comp_ind], start = 16, stop = 26)\n",
        "print(' '.join(words[16:]), neg)"
      ],
      "execution_count": 36,
      "outputs": [
        {
          "output_type": "stream",
          "text": [
            "getting batches...\n",
            "it 's easy to love robin tunney -- she 's pretty and she can act -- 1.8449944717034183\n",
            "but it gets harder and harder to understand her choices . -0.6628499223167419\n"
          ],
          "name": "stdout"
        }
      ]
    }
  ]
}